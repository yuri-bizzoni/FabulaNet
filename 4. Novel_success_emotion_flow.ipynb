{
 "cells": [
  {
   "cell_type": "code",
   "execution_count": 3,
   "id": "67b91df4-9ba1-4487-a96a-41667a6b242f",
   "metadata": {},
   "outputs": [
    {
     "name": "stdout",
     "output_type": "stream",
     "text": [
      "Notebook on\n"
     ]
    }
   ],
   "source": [
    "print('Success vs Failure')"
   ]
  },
  {
   "cell_type": "code",
   "execution_count": 4,
   "id": "a2bcd17c-fb7d-43d3-9bb5-b11bf613b5c7",
   "metadata": {
    "tags": []
   },
   "outputs": [],
   "source": [
    "import glob\n",
    "import pandas as pd\n",
    "import figs\n",
    "import seaborn as sns\n",
    "import numpy as np\n",
    "from matplotlib import pyplot as plt\n",
    "from scipy.stats import chisquare\n",
    "from scipy import stats\n",
    "import nltk"
   ]
  },
  {
   "cell_type": "code",
   "execution_count": 5,
   "id": "04f6f545-354e-4ca9-9fbd-86e4dcac63a3",
   "metadata": {},
   "outputs": [],
   "source": [
    "import json\n",
    "import figs\n",
    "import glob"
   ]
  },
  {
   "cell_type": "code",
   "execution_count": 6,
   "id": "32c1ca8e-355d-4207-a4a7-d759d128b82c",
   "metadata": {},
   "outputs": [],
   "source": [
    "from sklearn import svm, linear_model, cluster\n",
    "from sklearn.neighbors import KNeighborsClassifier\n",
    "from sklearn.tree import DecisionTreeClassifier\n",
    "from sklearn.ensemble import RandomForestClassifier, AdaBoostClassifier\n",
    "from sklearn.naive_bayes import GaussianNB, MultinomialNB\n",
    "from sklearn.neural_network import MLPClassifier,BernoulliRBM\n",
    "from sklearn.gaussian_process import GaussianProcessClassifier\n",
    "from sklearn.model_selection import train_test_split\n",
    "from sklearn.metrics import f1_score, balanced_accuracy_score\n",
    "from sklearn.discriminant_analysis import QuadraticDiscriminantAnalysis, LinearDiscriminantAnalysis\n",
    "from sklearn import naive_bayes, ensemble\n",
    "from sklearn.ensemble import ExtraTreesClassifier\n",
    "from sklearn.tree import DecisionTreeClassifier"
   ]
  },
  {
   "cell_type": "code",
   "execution_count": null,
   "id": "45ee8f19-14c9-42e3-843b-a4d3d94841bc",
   "metadata": {},
   "outputs": [],
   "source": []
  },
  {
   "cell_type": "code",
   "execution_count": null,
   "id": "3c722146-4580-47a0-8c69-140088f4e1d3",
   "metadata": {},
   "outputs": [],
   "source": []
  },
  {
   "cell_type": "code",
   "execution_count": 7,
   "id": "7b63faa1-2443-499c-944e-39d982eec7c8",
   "metadata": {},
   "outputs": [],
   "source": [
    "def path2texts(path):\n",
    "    \n",
    "    \"\"\" Path to success or failure \"\"\"\n",
    "    \n",
    "    texts = []\n",
    "    for el in glob.glob(path):\n",
    "        try:\n",
    "            text = open(el).read()\n",
    "            title = el.split('_')[-1]\n",
    "            texts.append((title,text))\n",
    "        except:\n",
    "            ''\n",
    "            \n",
    "    return texts\n",
    "\n",
    "\n",
    "\n",
    "def computing_features(texts):\n",
    "    \n",
    "    \"\"\"Function computing the features:\n",
    "        - Sentimental arcs\n",
    "        - Sentimental arcs' average Hurst exponent\n",
    "        - Type-Token Ratio\n",
    "    \"\"\"\n",
    "    \n",
    "    h_values = []\n",
    "    ttr_values = []\n",
    "    arcs = []\n",
    "    \n",
    "    for double in texts: \n",
    "        \n",
    "        title,text = double\n",
    "    \n",
    "        print(title, len(text))\n",
    "\n",
    "        words = nltk.wordpunct_tokenize(text)\n",
    "        ttr = len(list(set(words)))/len(words)\n",
    "        \n",
    "        arc = figs.sentimarc_sid(text)\n",
    "        #if len(arc)>300: \n",
    "        h = figs.get_Hurst(arc)\n",
    "\n",
    "        arcs.append(arc)\n",
    "        h_values.append(h)\n",
    "        ttr_values.append(ttr)\n",
    "        \n",
    "    return h_values, ttr_values, arcs\n",
    "\n",
    "\n",
    "def features_and_labels(h_values, ttr_values, arcs, label_name):\n",
    "    labels = []\n",
    "    X = []\n",
    "    \n",
    "    \"\"\"Function aggregating the features\"\"\"\n",
    "    \n",
    "    for i in range(len(h_values)):\n",
    "        labels.append(label_name)\n",
    "        l=len(arcs[i])\n",
    "        n=int(l/6)\n",
    "        X.append((h_values[i], abs(h_values[i]-0.6),\n",
    "                  ttr_values[i], arcs[i][-1],\n",
    "                  np.mean(arcs[i]),\n",
    "                   np.mean(arcs[i][-n:]), np.mean(arcs[i][:n])\n",
    "                 ))\n",
    "        \n",
    "    return X,labels\n",
    "\n",
    "\n",
    "def path2features(path, label_name):\n",
    "    \n",
    "    \"\"\"Feed an emotion flow path and a label name\"\"\"\n",
    "    \n",
    "    texts_set = path2texts(path)\n",
    "    \n",
    "    hs,ts,ar = computing_features(texts_set)\n",
    "    \n",
    "    X, labels = features_and_labels(hs,ts,ar,label_name)\n",
    "    \n",
    "    return X, labels"
   ]
  },
  {
   "cell_type": "markdown",
   "id": "ed28cd83-0dc4-402a-a711-85d6f5001567",
   "metadata": {},
   "source": [
    "# Making or uploading book features"
   ]
  },
  {
   "cell_type": "markdown",
   "id": "9db81982-3245-4721-89a8-68bde8d97387",
   "metadata": {
    "tags": []
   },
   "source": [
    "path_to_success = 'emotion_flow-master/data/data_all/Fiction/success/*'\n",
    "path_to_failure = 'emotion_flow-master/data/data_all/Fiction/failure/*'\n",
    "\n",
    "\n",
    "X_success, y_success = path2features(path_to_success, 's')\n",
    "\n",
    "print()\n",
    "\n",
    "\n",
    "X_failure, y_faillure = path2features(path_to_failure, 'f')"
   ]
  },
  {
   "cell_type": "code",
   "execution_count": 81,
   "id": "fec14912-37d8-48e8-a4c8-0e753a54eccb",
   "metadata": {
    "tags": []
   },
   "outputs": [
    {
     "name": "stdout",
     "output_type": "stream",
     "text": [
      "done\n"
     ]
    }
   ],
   "source": []
  },
  {
   "cell_type": "markdown",
   "id": "759a3c75-a139-4e42-a77e-06a7ccdb76be",
   "metadata": {},
   "source": [
    "with open('eacl_fiction_success.json', 'w') as fp:\n",
    "    json.dump(X_success, fp)\n",
    "    \n",
    "with open('eacl_fiction_failure.json', 'w') as fp:\n",
    "    json.dump(X_failure, fp)"
   ]
  },
  {
   "cell_type": "code",
   "execution_count": 83,
   "id": "045ffbff-fb07-47bb-a785-85bf81efd6cd",
   "metadata": {},
   "outputs": [],
   "source": [
    "# Upload precomputed scores\n",
    "\n",
    "import json\n",
    " \n",
    "# Opening JSON file\n",
    "with open('fiction_success.json') as json_file:\n",
    "    X_success = json.load(json_file)\n",
    "    \n",
    "with open('fiction_failure.json') as json_file:\n",
    "    X_failure = json.load(json_file)\n",
    "    \n",
    "y_success, y_failure = ['s' for el in X_success], ['f' for el in X_failure]"
   ]
  },
  {
   "cell_type": "code",
   "execution_count": 84,
   "id": "6f2a6952-5de5-48d0-9d21-a492a3aa7843",
   "metadata": {},
   "outputs": [
    {
     "data": {
      "text/plain": [
       "(81, 30)"
      ]
     },
     "execution_count": 84,
     "metadata": {},
     "output_type": "execute_result"
    }
   ],
   "source": [
    "len(y_success), len(y_failure)"
   ]
  },
  {
   "cell_type": "code",
   "execution_count": 85,
   "id": "5f0162d4-453d-4a4b-a7be-21258032ff4f",
   "metadata": {},
   "outputs": [],
   "source": [
    "X = X_success + X_failure\n",
    "labels = y_success + y_failure"
   ]
  },
  {
   "cell_type": "code",
   "execution_count": 86,
   "id": "d2cf79b5-60aa-4544-9b2e-09a13289ed9a",
   "metadata": {},
   "outputs": [
    {
     "data": {
      "text/plain": [
       "(111, 111)"
      ]
     },
     "execution_count": 86,
     "metadata": {},
     "output_type": "execute_result"
    }
   ],
   "source": [
    "len(X) ,len(labels)"
   ]
  },
  {
   "cell_type": "code",
   "execution_count": null,
   "id": "aac32c8e-c942-4495-bffc-1ad5b9b748ba",
   "metadata": {},
   "outputs": [],
   "source": []
  },
  {
   "cell_type": "markdown",
   "id": "a0f7e0b1-b372-48a8-88f2-adbd2f56ed73",
   "metadata": {},
   "source": [
    "# Classifications"
   ]
  },
  {
   "cell_type": "code",
   "execution_count": 88,
   "id": "6f7df6dd",
   "metadata": {},
   "outputs": [],
   "source": [
    "from sklearn import svm, linear_model, cluster\n",
    "from sklearn.neighbors import KNeighborsClassifier\n",
    "from sklearn.tree import DecisionTreeClassifier\n",
    "from sklearn.ensemble import RandomForestClassifier, AdaBoostClassifier\n",
    "from sklearn.naive_bayes import GaussianNB, MultinomialNB\n",
    "from sklearn.neural_network import MLPClassifier,BernoulliRBM\n",
    "from sklearn.gaussian_process import GaussianProcessClassifier\n",
    "from sklearn.model_selection import train_test_split\n",
    "from sklearn.metrics import f1_score, balanced_accuracy_score\n",
    "from sklearn.discriminant_analysis import QuadraticDiscriminantAnalysis, LinearDiscriminantAnalysis\n",
    "from sklearn import naive_bayes, ensemble\n",
    "from sklearn.ensemble import ExtraTreesClassifier\n",
    "from sklearn.tree import DecisionTreeClassifier\n",
    "\n",
    "from sklearn.model_selection import cross_val_score, KFold, ShuffleSplit, RepeatedKFold"
   ]
  },
  {
   "cell_type": "code",
   "execution_count": 89,
   "id": "69a6031f-5afb-4fa7-834a-e86372f10547",
   "metadata": {},
   "outputs": [],
   "source": []
  },
  {
   "cell_type": "code",
   "execution_count": 230,
   "id": "4fb20499-4428-42c8-bbd4-27d2ac9b5e52",
   "metadata": {},
   "outputs": [],
   "source": [
    "classifiers = [linear_model.LogisticRegression,\n",
    "               GaussianNB,\n",
    "               LinearDiscriminantAnalysis,\n",
    "               RandomForestClassifier, \n",
    "               svm.SVC,GaussianProcessClassifier,\n",
    "               QuadraticDiscriminantAnalysis,\n",
    "                ]\n",
    "ensemble_classifiers = [ensemble.StackingClassifier, ensemble.VotingClassifier]"
   ]
  },
  {
   "cell_type": "code",
   "execution_count": null,
   "id": "de93a90d-a9a1-4860-802f-af27d2d73c9e",
   "metadata": {},
   "outputs": [],
   "source": []
  },
  {
   "cell_type": "code",
   "execution_count": 232,
   "id": "cf59acbf-f908-4260-9dab-af8b5ed62160",
   "metadata": {},
   "outputs": [],
   "source": [
    "classifiers_scores = {}"
   ]
  },
  {
   "cell_type": "code",
   "execution_count": 233,
   "id": "f055bd9f-63dc-4261-9ce2-25fd4a0ead7b",
   "metadata": {
    "tags": []
   },
   "outputs": [
    {
     "name": "stdout",
     "output_type": "stream",
     "text": [
      "LogisticRegression()\n",
      "0.6282608695652173\n",
      "GaussianNB()\n",
      "0.7202898550724638\n",
      "LinearDiscriminantAnalysis()\n",
      "0.755189972581277\n",
      "RandomForestClassifier()\n",
      "0.8135265700483091\n",
      "SVC()\n",
      "0.6282608695652173\n",
      "GaussianProcessClassifier()\n",
      "0.6282608695652173\n",
      "QuadraticDiscriminantAnalysis()\n",
      "0.8135265700483091\n"
     ]
    }
   ],
   "source": [
    "for classifier in classifiers:\n",
    "    \n",
    "    clf = classifier()\n",
    "    clf_name = clf.__str__()\n",
    "    \n",
    "    print(clf_name)\n",
    "    \n",
    "    cv_ = RepeatedKFold(n_splits=10, n_repeats=2, random_state=10)\n",
    "    \n",
    "    average_repeated_f_score = np.mean(cross_val_score(clf, X, labels, cv=cv_, scoring='f1_weighted', n_jobs=-1))\n",
    "    average_tenfold_f_score = np.mean(cross_val_score(clf, X, labels, cv=5,scoring='f1_weighted'))\n",
    "    \n",
    "    X_train , X_test , y_train, y_test = train_test_split(X, labels, random_state=0, test_size=0.2)\n",
    "    clf.fit(X_train, y_train)\n",
    "    y_pred = clf.predict(X_test)\n",
    "    \n",
    "    balanced_accuracy = balanced_accuracy_score(y_test, y_pred)\n",
    "    single_f_score = f1_score(y_test,y_pred,average='weighted') \n",
    "    binary_f_score = f1_score(y_pred,y_test,pos_label='s',average='binary')\n",
    "    \n",
    "    print(single_f_score)\n",
    "    \n",
    "    classifiers_scores[clf_name] = [average_repeated_f_score, average_tenfold_f_score,\n",
    "                                    balanced_accuracy, single_f_score, binary_f_score]"
   ]
  },
  {
   "cell_type": "code",
   "execution_count": 234,
   "id": "38731d43-1d1a-40a7-8fe7-b08115719677",
   "metadata": {
    "tags": []
   },
   "outputs": [
    {
     "name": "stdout",
     "output_type": "stream",
     "text": [
      "StackingClassifier(estimators=[('q', QuadraticDiscriminantAnalysis()),\n",
      "                               ('gaussian', GaussianNB()),\n",
      "                               ('linear2', LinearDiscriminantAnalysis()),\n",
      "                               ('forest', RandomForestClassifier())])\n",
      "0.755189972581277\n",
      "VotingClassifier(estimators=[('q', QuadraticDiscriminantAnalysis()),\n",
      "                             ('gaussian', GaussianNB()),\n",
      "                             ('linear2', LinearDiscriminantAnalysis()),\n",
      "                             ('forest', RandomForestClassifier())])\n",
      "0.8135265700483091\n"
     ]
    }
   ],
   "source": [
    "for classifier in ensemble_classifiers:\n",
    "    \n",
    "    clf = classifier(estimators = [('q',QuadraticDiscriminantAnalysis()), ('gaussian',GaussianNB()),('linear2', LinearDiscriminantAnalysis()), ('forest',RandomForestClassifier())])\n",
    "    clf_name = clf.__str__()\n",
    "    \n",
    "    print(clf_name)\n",
    "    \n",
    "    cv_ = RepeatedKFold(n_splits=10, n_repeats=2, random_state=10)\n",
    "    \n",
    "    average_repeated_f_score = np.mean(cross_val_score(clf, X, labels, cv=cv_, scoring='f1_weighted', n_jobs=-1))\n",
    "    average_tenfold_f_score = np.mean(cross_val_score(clf, X, labels, cv=5,scoring='f1_weighted'))\n",
    "    \n",
    "    X_train , X_test , y_train, y_test = train_test_split(X, labels, random_state=0, test_size=0.2)\n",
    "    clf.fit(X_train, y_train)\n",
    "    y_pred = clf.predict(X_test)\n",
    "    \n",
    "    balanced_accuracy = balanced_accuracy_score(y_test, y_pred)\n",
    "    single_f_score = f1_score(y_test,y_pred,average='weighted') \n",
    "    binary_f_score = f1_score(y_pred,y_test,pos_label='s',average='binary')\n",
    "    \n",
    "    print(single_f_score)\n",
    "    \n",
    "    classifiers_scores[clf_name] = [average_repeated_f_score, average_tenfold_f_score,\n",
    "                                    balanced_accuracy, single_f_score, binary_f_score]"
   ]
  },
  {
   "cell_type": "code",
   "execution_count": null,
   "id": "7985ed8d-42f1-4ed2-9731-f4daeec7528b",
   "metadata": {},
   "outputs": [],
   "source": []
  },
  {
   "cell_type": "code",
   "execution_count": 236,
   "id": "2a84ae42-c195-464f-bcf1-efd92330fd30",
   "metadata": {
    "tags": []
   },
   "outputs": [
    {
     "data": {
      "text/plain": [
       "{'LogisticRegression()': [0.6199245886552387,\n",
       "  0.6156043270230913,\n",
       "  0.5,\n",
       "  0.6282608695652173,\n",
       "  0.85],\n",
       " 'GaussianNB()': [0.7016261129651223,\n",
       "  0.7202568406916233,\n",
       "  0.6078431372549019,\n",
       "  0.7202898550724638,\n",
       "  0.8333333333333333],\n",
       " 'LinearDiscriminantAnalysis()': [0.7178715505340892,\n",
       "  0.7266352970700797,\n",
       "  0.6372549019607843,\n",
       "  0.755189972581277,\n",
       "  0.8648648648648648],\n",
       " 'RandomForestClassifier()': [0.7040141463283879,\n",
       "  0.6983602286547589,\n",
       "  0.7205882352941176,\n",
       "  0.8135265700483091,\n",
       "  0.8888888888888888],\n",
       " 'SVC()': [0.6199245886552387,\n",
       "  0.6156043270230913,\n",
       "  0.5,\n",
       "  0.6282608695652173,\n",
       "  0.85],\n",
       " 'GaussianProcessClassifier()': [0.6199245886552387,\n",
       "  0.6156043270230913,\n",
       "  0.5,\n",
       "  0.6282608695652173,\n",
       "  0.85],\n",
       " 'QuadraticDiscriminantAnalysis()': [0.7063788035150265,\n",
       "  0.7027705934487554,\n",
       "  0.7205882352941176,\n",
       "  0.8135265700483091,\n",
       "  0.8888888888888888],\n",
       " \"StackingClassifier(estimators=[('q', QuadraticDiscriminantAnalysis()),\\n                               ('gaussian', GaussianNB()),\\n                               ('linear2', LinearDiscriminantAnalysis()),\\n                               ('forest', RandomForestClassifier())])\": [0.6885758848994143,\n",
       "  0.6478205502004128,\n",
       "  0.6372549019607843,\n",
       "  0.755189972581277,\n",
       "  0.8648648648648648],\n",
       " \"VotingClassifier(estimators=[('q', QuadraticDiscriminantAnalysis()),\\n                             ('gaussian', GaussianNB()),\\n                             ('linear2', LinearDiscriminantAnalysis()),\\n                             ('forest', RandomForestClassifier())])\": [0.7438604123201646,\n",
       "  0.7240644144991971,\n",
       "  0.7205882352941176,\n",
       "  0.8135265700483091,\n",
       "  0.8888888888888888]}"
      ]
     },
     "execution_count": 236,
     "metadata": {},
     "output_type": "execute_result"
    }
   ],
   "source": [
    "classifiers_scores"
   ]
  },
  {
   "cell_type": "markdown",
   "id": "ae3fd77e-6477-4845-8cec-e10136c19a9e",
   "metadata": {},
   "source": [
    "# One-classifier scores"
   ]
  },
  {
   "cell_type": "code",
   "execution_count": 237,
   "id": "13287ce6-f92d-41c8-85aa-dd35adaed4e2",
   "metadata": {},
   "outputs": [],
   "source": [
    "clf = QuadraticDiscriminantAnalysis()"
   ]
  },
  {
   "cell_type": "code",
   "execution_count": 238,
   "id": "02c76a17-19e0-42eb-ba88-265cc26f585d",
   "metadata": {},
   "outputs": [
    {
     "data": {
      "text/plain": [
       "0.7386363636363636"
      ]
     },
     "execution_count": 238,
     "metadata": {},
     "output_type": "execute_result"
    }
   ],
   "source": [
    "# Ten-fold CV\n",
    "\n",
    "np.mean(cross_val_score(clf, X, labels, cv=10, scoring='f1_micro'))"
   ]
  },
  {
   "cell_type": "code",
   "execution_count": 239,
   "id": "b06d2058-5218-400e-a393-37eec7301c7f",
   "metadata": {},
   "outputs": [
    {
     "data": {
      "text/plain": [
       "0.7506439393939394"
      ]
     },
     "execution_count": 239,
     "metadata": {},
     "output_type": "execute_result"
    }
   ],
   "source": [
    "# Ten fold CV with repeats\n",
    "cv_ = RepeatedKFold(n_splits=10, n_repeats=20, random_state=10)\n",
    "np.mean(cross_val_score(clf, X, labels, cv=cv_, scoring='f1_micro', n_jobs=-1))"
   ]
  },
  {
   "cell_type": "code",
   "execution_count": 240,
   "id": "9fa6874a-3a63-40d5-be95-450c0df4ac20",
   "metadata": {
    "tags": []
   },
   "outputs": [
    {
     "data": {
      "text/plain": [
       "0.7465886939571149"
      ]
     },
     "execution_count": 240,
     "metadata": {},
     "output_type": "execute_result"
    }
   ],
   "source": [
    "# average over several cross validations\n",
    "scores = []\n",
    "for i in range(4):\n",
    "    ss = cross_val_score(clf, X, labels, cv=6,scoring='f1_micro')\n",
    "    scores+=list(ss)\n",
    "np.mean(scores)"
   ]
  },
  {
   "cell_type": "code",
   "execution_count": 241,
   "id": "0d16a067-22a9-4b2f-b284-62db0f75c661",
   "metadata": {},
   "outputs": [
    {
     "name": "stdout",
     "output_type": "stream",
     "text": [
      "99 12 111\n",
      "f score:\t 0.9166666666666666\n",
      "balanced acc.:\t 0.95\n"
     ]
    }
   ],
   "source": [
    "# One time classification\n",
    "\n",
    "X_train , X_test , y_train, y_test = train_test_split(X, labels, random_state=6, test_size=0.1)\n",
    "\n",
    "print(len(X_train), len(X_test), len(X))\n",
    "\n",
    "clf.fit(X_train, y_train)\n",
    "y_pred = clf.predict(X_test)\n",
    "print(\"f score:\\t\", f1_score(y_test,y_pred,average='micro')) #balanced_accuracy_score(y_pred,y_test)\n",
    "print(\"balanced acc.:\\t\",balanced_accuracy_score(y_test, y_pred))"
   ]
  },
  {
   "cell_type": "code",
   "execution_count": 242,
   "id": "3ca9744b-948a-40ac-8ee6-0cc799473bf5",
   "metadata": {},
   "outputs": [
    {
     "data": {
      "text/plain": [
       "12"
      ]
     },
     "execution_count": 242,
     "metadata": {},
     "output_type": "execute_result"
    }
   ],
   "source": [
    "len(y_pred)"
   ]
  },
  {
   "cell_type": "code",
   "execution_count": 243,
   "id": "37725c55-3b15-45c5-8e27-514ef9ea6182",
   "metadata": {},
   "outputs": [
    {
     "name": "stdout",
     "output_type": "stream",
     "text": [
      "binary f score:\t 0.9473684210526316\n"
     ]
    }
   ],
   "source": [
    "print(\"binary f score:\\t\",f1_score(y_pred,y_test,pos_label='s',average='binary'))"
   ]
  },
  {
   "cell_type": "code",
   "execution_count": 244,
   "id": "43cfbd6d-5145-4206-93a1-ce42439af27b",
   "metadata": {
    "tags": []
   },
   "outputs": [
    {
     "name": "stdout",
     "output_type": "stream",
     "text": [
      "s s\n",
      "s s\n",
      "s s\n",
      "f f\n",
      "s s\n",
      "s s\n",
      "f f\n",
      "s s\n",
      "s s\n",
      "s s\n",
      "s s\n",
      "f s\n"
     ]
    }
   ],
   "source": [
    "for i in range(len(y_pred)): print(y_pred[i],y_test[i])"
   ]
  },
  {
   "cell_type": "code",
   "execution_count": 28,
   "id": "f872ba8c-e24c-47db-a9ad-913dd7328bf5",
   "metadata": {},
   "outputs": [],
   "source": []
  },
  {
   "cell_type": "code",
   "execution_count": null,
   "id": "08c69fc1-b4a1-4e80-ab42-ae938f363f18",
   "metadata": {},
   "outputs": [],
   "source": []
  },
  {
   "cell_type": "code",
   "execution_count": null,
   "id": "835d89f4-0b40-4c81-b1d3-4e4a7ddeca2c",
   "metadata": {},
   "outputs": [],
   "source": []
  }
 ],
 "metadata": {
  "kernelspec": {
   "display_name": "Python 3 (ipykernel)",
   "language": "python",
   "name": "python3"
  },
  "language_info": {
   "codemirror_mode": {
    "name": "ipython",
    "version": 3
   },
   "file_extension": ".py",
   "mimetype": "text/x-python",
   "name": "python",
   "nbconvert_exporter": "python",
   "pygments_lexer": "ipython3",
   "version": "3.9.7"
  }
 },
 "nbformat": 4,
 "nbformat_minor": 5
}
