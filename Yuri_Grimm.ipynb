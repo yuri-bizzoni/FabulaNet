{
 "cells": [
  {
   "cell_type": "code",
   "execution_count": 1,
   "id": "b6808263-1b30-491a-a97d-8e7f8b304274",
   "metadata": {
    "execution": {
     "iopub.execute_input": "2022-02-21T14:56:09.446980Z",
     "iopub.status.busy": "2022-02-21T14:56:09.446487Z",
     "iopub.status.idle": "2022-02-21T14:56:20.066842Z",
     "shell.execute_reply": "2022-02-21T14:56:20.066013Z",
     "shell.execute_reply.started": "2022-02-21T14:56:09.446915Z"
    },
    "tags": []
   },
   "outputs": [
    {
     "name": "stdout",
     "output_type": "stream",
     "text": [
      "Collecting sklearn\n",
      "  Downloading sklearn-0.0.tar.gz (1.1 kB)\n",
      "Collecting scikit-learn\n",
      "  Downloading scikit_learn-1.0.2-cp39-cp39-manylinux_2_17_x86_64.manylinux2014_x86_64.whl (26.4 MB)\n",
      "\u001b[K     |████████████████████████████████| 26.4 MB 4.5 MB/s eta 0:00:01\n",
      "\u001b[?25hCollecting joblib>=0.11\n",
      "  Downloading joblib-1.1.0-py2.py3-none-any.whl (306 kB)\n",
      "\u001b[K     |████████████████████████████████| 306 kB 53.1 MB/s eta 0:00:01\n",
      "\u001b[?25hRequirement already satisfied: scipy>=1.1.0 in /opt/conda/lib/python3.9/site-packages (from scikit-learn->sklearn) (1.7.1)\n",
      "Requirement already satisfied: numpy>=1.14.6 in /opt/conda/lib/python3.9/site-packages (from scikit-learn->sklearn) (1.21.2)\n",
      "Collecting threadpoolctl>=2.0.0\n",
      "  Downloading threadpoolctl-3.1.0-py3-none-any.whl (14 kB)\n",
      "Building wheels for collected packages: sklearn\n",
      "  Building wheel for sklearn (setup.py) ... \u001b[?25ldone\n",
      "\u001b[?25h  Created wheel for sklearn: filename=sklearn-0.0-py2.py3-none-any.whl size=1316 sha256=da07b1910cddf52bb243907913f3030efc1368936a2db7de20fab4fc49c9346e\n",
      "  Stored in directory: /home/ucloud/.cache/pip/wheels/e4/7b/98/b6466d71b8d738a0c547008b9eb39bf8676d1ff6ca4b22af1c\n",
      "Successfully built sklearn\n",
      "Installing collected packages: threadpoolctl, joblib, scikit-learn, sklearn\n",
      "Successfully installed joblib-1.1.0 scikit-learn-1.0.2 sklearn-0.0 threadpoolctl-3.1.0\n"
     ]
    }
   ],
   "source": [
    "! pip install sklearn"
   ]
  },
  {
   "cell_type": "code",
   "execution_count": 2,
   "id": "df6966a0-616a-46a6-88a8-e49b4d50a4d2",
   "metadata": {
    "execution": {
     "iopub.execute_input": "2022-02-21T14:56:20.074761Z",
     "iopub.status.busy": "2022-02-21T14:56:20.074623Z",
     "iopub.status.idle": "2022-02-21T14:56:25.788196Z",
     "shell.execute_reply": "2022-02-21T14:56:25.786465Z",
     "shell.execute_reply.started": "2022-02-21T14:56:20.074746Z"
    },
    "tags": []
   },
   "outputs": [
    {
     "name": "stdout",
     "output_type": "stream",
     "text": [
      "Collecting nltk\n",
      "  Downloading nltk-3.7-py3-none-any.whl (1.5 MB)\n",
      "\u001b[K     |████████████████████████████████| 1.5 MB 4.5 MB/s eta 0:00:01\n",
      "\u001b[?25hRequirement already satisfied: joblib in /opt/conda/lib/python3.9/site-packages (from nltk) (1.1.0)\n",
      "Requirement already satisfied: regex>=2021.8.3 in /opt/conda/lib/python3.9/site-packages (from nltk) (2021.8.3)\n",
      "Requirement already satisfied: click in /opt/conda/lib/python3.9/site-packages (from nltk) (8.0.1)\n",
      "Requirement already satisfied: tqdm in /opt/conda/lib/python3.9/site-packages (from nltk) (4.62.0)\n",
      "Installing collected packages: nltk\n",
      "Successfully installed nltk-3.7\n"
     ]
    }
   ],
   "source": [
    "! pip install nltk"
   ]
  },
  {
   "cell_type": "code",
   "execution_count": 3,
   "id": "3153516c-1d83-47c3-80a3-b92092c2c6a7",
   "metadata": {
    "execution": {
     "iopub.execute_input": "2022-02-21T14:56:25.793342Z",
     "iopub.status.busy": "2022-02-21T14:56:25.792814Z",
     "iopub.status.idle": "2022-02-21T14:56:39.095104Z",
     "shell.execute_reply": "2022-02-21T14:56:39.093656Z",
     "shell.execute_reply.started": "2022-02-21T14:56:25.793286Z"
    },
    "tags": []
   },
   "outputs": [
    {
     "name": "stdout",
     "output_type": "stream",
     "text": [
      "Collecting tslearn\n",
      "  Downloading tslearn-0.5.2-cp39-cp39-manylinux_2_5_x86_64.manylinux1_x86_64.manylinux_2_17_x86_64.manylinux2014_x86_64.whl (862 kB)\n",
      "\u001b[K     |████████████████████████████████| 862 kB 4.5 MB/s eta 0:00:01\n",
      "\u001b[?25hRequirement already satisfied: scikit-learn in /opt/conda/lib/python3.9/site-packages (from tslearn) (1.0.2)\n",
      "Collecting numba\n",
      "  Downloading numba-0.55.1-1-cp39-cp39-manylinux2014_x86_64.manylinux_2_17_x86_64.whl (3.3 MB)\n",
      "\u001b[K     |████████████████████████████████| 3.3 MB 33.2 MB/s eta 0:00:01\n",
      "\u001b[?25hRequirement already satisfied: joblib in /opt/conda/lib/python3.9/site-packages (from tslearn) (1.1.0)\n",
      "Requirement already satisfied: numpy in /opt/conda/lib/python3.9/site-packages (from tslearn) (1.21.2)\n",
      "Collecting Cython\n",
      "  Downloading Cython-0.29.28-cp39-cp39-manylinux_2_17_x86_64.manylinux2014_x86_64.manylinux_2_24_x86_64.whl (1.9 MB)\n",
      "\u001b[K     |████████████████████████████████| 1.9 MB 33.6 MB/s eta 0:00:01\n",
      "\u001b[?25hRequirement already satisfied: scipy in /opt/conda/lib/python3.9/site-packages (from tslearn) (1.7.1)\n",
      "Collecting llvmlite<0.39,>=0.38.0rc1\n",
      "  Downloading llvmlite-0.38.0-cp39-cp39-manylinux_2_17_x86_64.manylinux2014_x86_64.whl (34.5 MB)\n",
      "\u001b[K     |████████████████████████████████| 34.5 MB 23.8 MB/s eta 0:00:01\n",
      "\u001b[?25hRequirement already satisfied: setuptools in /opt/conda/lib/python3.9/site-packages (from numba->tslearn) (49.6.0.post20210108)\n",
      "Requirement already satisfied: threadpoolctl>=2.0.0 in /opt/conda/lib/python3.9/site-packages (from scikit-learn->tslearn) (3.1.0)\n",
      "Installing collected packages: llvmlite, numba, Cython, tslearn\n",
      "Successfully installed Cython-0.29.28 llvmlite-0.38.0 numba-0.55.1 tslearn-0.5.2\n"
     ]
    }
   ],
   "source": [
    "! pip install tslearn"
   ]
  },
  {
   "cell_type": "code",
   "execution_count": 4,
   "id": "1ddb0bbe-5c8d-4bce-b2b7-59b8c38c84a7",
   "metadata": {
    "execution": {
     "iopub.execute_input": "2022-02-21T14:57:10.665625Z",
     "iopub.status.busy": "2022-02-21T14:57:10.665300Z",
     "iopub.status.idle": "2022-02-21T14:57:15.300756Z",
     "shell.execute_reply": "2022-02-21T14:57:15.300003Z",
     "shell.execute_reply.started": "2022-02-21T14:57:10.665600Z"
    },
    "tags": []
   },
   "outputs": [
    {
     "name": "stderr",
     "output_type": "stream",
     "text": [
      "[nltk_data] Downloading package vader_lexicon to\n",
      "[nltk_data]     /home/ucloud/nltk_data...\n"
     ]
    },
    {
     "data": {
      "text/plain": [
       "True"
      ]
     },
     "execution_count": 4,
     "metadata": {},
     "output_type": "execute_result"
    }
   ],
   "source": [
    "import nltk\n",
    "nltk.download('vader_lexicon')"
   ]
  },
  {
   "cell_type": "code",
   "execution_count": 171,
   "id": "c476be70-a077-4a92-ad3e-af0a55eea1b3",
   "metadata": {
    "execution": {
     "iopub.execute_input": "2022-02-21T15:27:17.349537Z",
     "iopub.status.busy": "2022-02-21T15:27:17.349002Z",
     "iopub.status.idle": "2022-02-21T15:27:17.470578Z",
     "shell.execute_reply": "2022-02-21T15:27:17.468850Z",
     "shell.execute_reply.started": "2022-02-21T15:27:17.349486Z"
    }
   },
   "outputs": [
    {
     "ename": "UnicodeDecodeError",
     "evalue": "'utf-8' codec can't decode byte 0x82 in position 16: invalid start byte",
     "output_type": "error",
     "traceback": [
      "\u001b[0;31m---------------------------------------------------------------------------\u001b[0m",
      "\u001b[0;31mUnicodeDecodeError\u001b[0m                        Traceback (most recent call last)",
      "\u001b[0;32m/tmp/ipykernel_115/2008256227.py\u001b[0m in \u001b[0;36m<module>\u001b[0;34m\u001b[0m\n\u001b[0;32m----> 1\u001b[0;31m \u001b[0mok\u001b[0m \u001b[0;34m=\u001b[0m \u001b[0mopen\u001b[0m\u001b[0;34m(\u001b[0m\u001b[0;34m'grimms_tales_unclear_source_ratings.xlsx'\u001b[0m\u001b[0;34m)\u001b[0m\u001b[0;34m.\u001b[0m\u001b[0mread\u001b[0m\u001b[0;34m(\u001b[0m\u001b[0;34m)\u001b[0m\u001b[0;34m\u001b[0m\u001b[0;34m\u001b[0m\u001b[0m\n\u001b[0m",
      "\u001b[0;32m/opt/conda/lib/python3.9/codecs.py\u001b[0m in \u001b[0;36mdecode\u001b[0;34m(self, input, final)\u001b[0m\n\u001b[1;32m    320\u001b[0m         \u001b[0;31m# decode input (taking the buffer into account)\u001b[0m\u001b[0;34m\u001b[0m\u001b[0;34m\u001b[0m\u001b[0;34m\u001b[0m\u001b[0m\n\u001b[1;32m    321\u001b[0m         \u001b[0mdata\u001b[0m \u001b[0;34m=\u001b[0m \u001b[0mself\u001b[0m\u001b[0;34m.\u001b[0m\u001b[0mbuffer\u001b[0m \u001b[0;34m+\u001b[0m \u001b[0minput\u001b[0m\u001b[0;34m\u001b[0m\u001b[0;34m\u001b[0m\u001b[0m\n\u001b[0;32m--> 322\u001b[0;31m         \u001b[0;34m(\u001b[0m\u001b[0mresult\u001b[0m\u001b[0;34m,\u001b[0m \u001b[0mconsumed\u001b[0m\u001b[0;34m)\u001b[0m \u001b[0;34m=\u001b[0m \u001b[0mself\u001b[0m\u001b[0;34m.\u001b[0m\u001b[0m_buffer_decode\u001b[0m\u001b[0;34m(\u001b[0m\u001b[0mdata\u001b[0m\u001b[0;34m,\u001b[0m \u001b[0mself\u001b[0m\u001b[0;34m.\u001b[0m\u001b[0merrors\u001b[0m\u001b[0;34m,\u001b[0m \u001b[0mfinal\u001b[0m\u001b[0;34m)\u001b[0m\u001b[0;34m\u001b[0m\u001b[0;34m\u001b[0m\u001b[0m\n\u001b[0m\u001b[1;32m    323\u001b[0m         \u001b[0;31m# keep undecoded input until the next call\u001b[0m\u001b[0;34m\u001b[0m\u001b[0;34m\u001b[0m\u001b[0;34m\u001b[0m\u001b[0m\n\u001b[1;32m    324\u001b[0m         \u001b[0mself\u001b[0m\u001b[0;34m.\u001b[0m\u001b[0mbuffer\u001b[0m \u001b[0;34m=\u001b[0m \u001b[0mdata\u001b[0m\u001b[0;34m[\u001b[0m\u001b[0mconsumed\u001b[0m\u001b[0;34m:\u001b[0m\u001b[0;34m]\u001b[0m\u001b[0;34m\u001b[0m\u001b[0;34m\u001b[0m\u001b[0m\n",
      "\u001b[0;31mUnicodeDecodeError\u001b[0m: 'utf-8' codec can't decode byte 0x82 in position 16: invalid start byte"
     ]
    }
   ],
   "source": [
    "ok = open('grimms_tales_unclear_source_ratings.xlsx').read()"
   ]
  },
  {
   "cell_type": "code",
   "execution_count": 5,
   "id": "ffea18dd-b73f-4ca5-a68b-0d08c569b6db",
   "metadata": {
    "execution": {
     "iopub.execute_input": "2022-02-21T14:57:15.314354Z",
     "iopub.status.busy": "2022-02-21T14:57:15.314032Z",
     "iopub.status.idle": "2022-02-21T14:57:15.320633Z",
     "shell.execute_reply": "2022-02-21T14:57:15.320101Z",
     "shell.execute_reply.started": "2022-02-21T14:57:15.314324Z"
    },
    "tags": []
   },
   "outputs": [],
   "source": [
    "import json"
   ]
  },
  {
   "cell_type": "code",
   "execution_count": 6,
   "id": "6152d2d6-167a-4ece-a4aa-1cf715b0f67f",
   "metadata": {
    "execution": {
     "iopub.execute_input": "2022-02-21T14:57:15.321916Z",
     "iopub.status.busy": "2022-02-21T14:57:15.321788Z",
     "iopub.status.idle": "2022-02-21T14:57:15.640542Z",
     "shell.execute_reply": "2022-02-21T14:57:15.638957Z",
     "shell.execute_reply.started": "2022-02-21T14:57:15.321901Z"
    },
    "tags": []
   },
   "outputs": [],
   "source": [
    "import sys\n",
    "sys.path.append('sentiment_analysis/')"
   ]
  },
  {
   "cell_type": "code",
   "execution_count": 7,
   "id": "b3d1a879-50a7-4de0-ba09-307c1cc110ab",
   "metadata": {
    "execution": {
     "iopub.execute_input": "2022-02-21T14:57:15.643258Z",
     "iopub.status.busy": "2022-02-21T14:57:15.642645Z",
     "iopub.status.idle": "2022-02-21T14:57:15.927723Z",
     "shell.execute_reply": "2022-02-21T14:57:15.926809Z",
     "shell.execute_reply.started": "2022-02-21T14:57:15.643206Z"
    },
    "tags": []
   },
   "outputs": [],
   "source": [
    "f = open('grimm_arcs.json')\n",
    " \n",
    "# returns JSON object as\n",
    "# a dictionary\n",
    "data = json.load(f)"
   ]
  },
  {
   "cell_type": "code",
   "execution_count": 8,
   "id": "10451f54-b8cb-488b-bd7f-4e0d400a4a21",
   "metadata": {
    "execution": {
     "iopub.execute_input": "2022-02-21T14:57:16.301965Z",
     "iopub.status.busy": "2022-02-21T14:57:16.301419Z",
     "iopub.status.idle": "2022-02-21T14:57:16.311323Z",
     "shell.execute_reply": "2022-02-21T14:57:16.310039Z",
     "shell.execute_reply.started": "2022-02-21T14:57:16.301899Z"
    },
    "tags": []
   },
   "outputs": [
    {
     "data": {
      "text/plain": [
       "62"
      ]
     },
     "execution_count": 8,
     "metadata": {},
     "output_type": "execute_result"
    }
   ],
   "source": [
    "len(data.keys())"
   ]
  },
  {
   "cell_type": "code",
   "execution_count": 170,
   "id": "44e12054-dc8c-4712-b23f-43418cc98eb9",
   "metadata": {
    "execution": {
     "iopub.execute_input": "2022-02-21T15:24:18.141212Z",
     "iopub.status.busy": "2022-02-21T15:24:18.140672Z",
     "iopub.status.idle": "2022-02-21T15:24:18.147664Z",
     "shell.execute_reply": "2022-02-21T15:24:18.146235Z",
     "shell.execute_reply.started": "2022-02-21T15:24:18.141160Z"
    },
    "tags": []
   },
   "outputs": [],
   "source": [
    "#data['the_seven_ravens']"
   ]
  },
  {
   "cell_type": "code",
   "execution_count": 10,
   "id": "4fcd4f16-8c3c-4fa2-b001-ad4c0b140da4",
   "metadata": {
    "execution": {
     "iopub.execute_input": "2022-02-21T14:57:16.719406Z",
     "iopub.status.busy": "2022-02-21T14:57:16.719094Z",
     "iopub.status.idle": "2022-02-21T14:57:17.498552Z",
     "shell.execute_reply": "2022-02-21T14:57:17.497756Z",
     "shell.execute_reply.started": "2022-02-21T14:57:16.719375Z"
    },
    "tags": []
   },
   "outputs": [],
   "source": [
    "import figs #this is a 'library' of modified utils I employed in this notebook, mostly adapted versions of Telma's and Jen's codes"
   ]
  },
  {
   "cell_type": "code",
   "execution_count": 11,
   "id": "ce73d26f-6974-4d02-b54b-4edf0b739aa2",
   "metadata": {
    "collapsed": true,
    "execution": {
     "iopub.execute_input": "2022-02-21T14:57:17.527462Z",
     "iopub.status.busy": "2022-02-21T14:57:17.527330Z",
     "iopub.status.idle": "2022-02-21T14:57:21.812209Z",
     "shell.execute_reply": "2022-02-21T14:57:21.810770Z",
     "shell.execute_reply.started": "2022-02-21T14:57:17.527446Z"
    },
    "jupyter": {
     "outputs_hidden": true
    },
    "tags": []
   },
   "outputs": [
    {
     "name": "stdout",
     "output_type": "stream",
     "text": [
      "the_seven_ravens\n",
      "0.54\n",
      "the_adventures_of_chanticleer_and_partlet\n",
      "0.66\n",
      "king_grisly-beard\n",
      "0.59\n",
      "the_goose-girl\n",
      "0.71\n",
      "the_twelve_dancing_princesses\n",
      "0.56\n",
      "clever_hans\n",
      "0.51\n",
      "snow-white_and_rose-red\n"
     ]
    },
    {
     "ename": "KeyboardInterrupt",
     "evalue": "",
     "output_type": "error",
     "traceback": [
      "\u001b[0;31m---------------------------------------------------------------------------\u001b[0m",
      "\u001b[0;31mKeyboardInterrupt\u001b[0m                         Traceback (most recent call last)",
      "\u001b[0;32m/tmp/ipykernel_115/543501417.py\u001b[0m in \u001b[0;36m<module>\u001b[0;34m\u001b[0m\n\u001b[1;32m      3\u001b[0m     \u001b[0mprint\u001b[0m\u001b[0;34m(\u001b[0m\u001b[0mtitle\u001b[0m\u001b[0;34m)\u001b[0m\u001b[0;34m\u001b[0m\u001b[0;34m\u001b[0m\u001b[0m\n\u001b[1;32m      4\u001b[0m     \u001b[0marc\u001b[0m \u001b[0;34m=\u001b[0m \u001b[0mdata\u001b[0m\u001b[0;34m[\u001b[0m\u001b[0mtitle\u001b[0m\u001b[0;34m]\u001b[0m\u001b[0;34m[\u001b[0m\u001b[0;34m'arc'\u001b[0m\u001b[0;34m]\u001b[0m\u001b[0;34m\u001b[0m\u001b[0;34m\u001b[0m\u001b[0m\n\u001b[0;32m----> 5\u001b[0;31m     \u001b[0mh\u001b[0m \u001b[0;34m=\u001b[0m \u001b[0mfigs\u001b[0m\u001b[0;34m.\u001b[0m\u001b[0mget_Hurst\u001b[0m\u001b[0;34m(\u001b[0m\u001b[0marc\u001b[0m\u001b[0;34m)\u001b[0m\u001b[0;34m\u001b[0m\u001b[0;34m\u001b[0m\u001b[0m\n\u001b[0m\u001b[1;32m      6\u001b[0m     \u001b[0mprint\u001b[0m\u001b[0;34m(\u001b[0m\u001b[0mh\u001b[0m\u001b[0;34m)\u001b[0m\u001b[0;34m\u001b[0m\u001b[0;34m\u001b[0m\u001b[0m\n\u001b[1;32m      7\u001b[0m     \u001b[0mhursts\u001b[0m\u001b[0;34m[\u001b[0m\u001b[0mtitle\u001b[0m\u001b[0;34m]\u001b[0m\u001b[0;34m=\u001b[0m\u001b[0;34m[\u001b[0m\u001b[0mh\u001b[0m\u001b[0;34m]\u001b[0m\u001b[0;34m\u001b[0m\u001b[0;34m\u001b[0m\u001b[0m\n",
      "\u001b[0;32m/work/hca-analysis/sentiment_analysis/figs.py\u001b[0m in \u001b[0;36mget_Hurst\u001b[0;34m(story_arc)\u001b[0m\n\u001b[1;32m    160\u001b[0m     \u001b[0mq\u001b[0m \u001b[0;34m=\u001b[0m \u001b[0;36m3\u001b[0m\u001b[0;34m\u001b[0m\u001b[0;34m\u001b[0m\u001b[0m\n\u001b[1;32m    161\u001b[0m     \u001b[0morder\u001b[0m \u001b[0;34m=\u001b[0m \u001b[0;36m1\u001b[0m\u001b[0;34m\u001b[0m\u001b[0;34m\u001b[0m\u001b[0m\n\u001b[0;32m--> 162\u001b[0;31m     \u001b[0mxy\u001b[0m \u001b[0;34m=\u001b[0m \u001b[0mmd\u001b[0m\u001b[0;34m.\u001b[0m\u001b[0mmulti_detrending\u001b[0m\u001b[0;34m(\u001b[0m\u001b[0my\u001b[0m\u001b[0;34m,\u001b[0m \u001b[0mstep_size\u001b[0m\u001b[0;34m,\u001b[0m \u001b[0mq\u001b[0m\u001b[0;34m,\u001b[0m \u001b[0morder\u001b[0m\u001b[0;34m)\u001b[0m\u001b[0;34m\u001b[0m\u001b[0;34m\u001b[0m\u001b[0m\n\u001b[0m\u001b[1;32m    163\u001b[0m     \u001b[0;31m## slope\u001b[0m\u001b[0;34m\u001b[0m\u001b[0;34m\u001b[0m\u001b[0;34m\u001b[0m\u001b[0m\n\u001b[1;32m    164\u001b[0m     \u001b[0mx\u001b[0m \u001b[0;34m=\u001b[0m \u001b[0mnp\u001b[0m\u001b[0;34m.\u001b[0m\u001b[0msqueeze\u001b[0m\u001b[0;34m(\u001b[0m\u001b[0mnp\u001b[0m\u001b[0;34m.\u001b[0m\u001b[0masarray\u001b[0m\u001b[0;34m(\u001b[0m\u001b[0mxy\u001b[0m\u001b[0;34m[\u001b[0m\u001b[0;36m0\u001b[0m\u001b[0;34m]\u001b[0m\u001b[0;34m)\u001b[0m\u001b[0;34m)\u001b[0m\u001b[0;34m\u001b[0m\u001b[0;34m\u001b[0m\u001b[0m\n",
      "\u001b[0;32m/work/hca-analysis/sentiment_analysis/saffine/multi_detrending.py\u001b[0m in \u001b[0;36mmulti_detrending\u001b[0;34m(y, step_size, q, order)\u001b[0m\n\u001b[1;32m     22\u001b[0m                 \u001b[0;32mif\u001b[0m \u001b[0mw\u001b[0m \u001b[0;34m/\u001b[0m \u001b[0;36m2\u001b[0m \u001b[0;34m==\u001b[0m \u001b[0;36m1\u001b[0m \u001b[0;34m:\u001b[0m\u001b[0;34m\u001b[0m\u001b[0;34m\u001b[0m\u001b[0m\n\u001b[1;32m     23\u001b[0m                         \u001b[0mw\u001b[0m  \u001b[0;34m=\u001b[0m \u001b[0mw\u001b[0m \u001b[0;34m+\u001b[0m \u001b[0;36m1\u001b[0m\u001b[0;34m\u001b[0m\u001b[0;34m\u001b[0m\u001b[0m\n\u001b[0;32m---> 24\u001b[0;31m                 \u001b[0mdetrended_data\u001b[0m \u001b[0;34m,\u001b[0m \u001b[0mtrend\u001b[0m \u001b[0;34m=\u001b[0m \u001b[0mdm\u001b[0m\u001b[0;34m.\u001b[0m\u001b[0mdetrending_method\u001b[0m\u001b[0;34m(\u001b[0m\u001b[0my\u001b[0m \u001b[0;34m,\u001b[0m \u001b[0mw\u001b[0m \u001b[0;34m,\u001b[0m \u001b[0morder\u001b[0m\u001b[0;34m)\u001b[0m\u001b[0;34m\u001b[0m\u001b[0;34m\u001b[0m\u001b[0m\n\u001b[0m\u001b[1;32m     25\u001b[0m                 \u001b[0mresult\u001b[0m\u001b[0;34m[\u001b[0m\u001b[0;36m0\u001b[0m \u001b[0;34m,\u001b[0m \u001b[0mk\u001b[0m\u001b[0;34m-\u001b[0m\u001b[0;36m1\u001b[0m\u001b[0;34m]\u001b[0m \u001b[0;34m=\u001b[0m \u001b[0;34m(\u001b[0m\u001b[0mw\u001b[0m \u001b[0;34m+\u001b[0m \u001b[0;36m1\u001b[0m\u001b[0;34m)\u001b[0m\u001b[0;34m/\u001b[0m\u001b[0;36m2\u001b[0m\u001b[0;34m\u001b[0m\u001b[0;34m\u001b[0m\u001b[0m\n\u001b[1;32m     26\u001b[0m                 \u001b[0;32mfor\u001b[0m \u001b[0mj\u001b[0m \u001b[0;32min\u001b[0m \u001b[0mrange\u001b[0m\u001b[0;34m(\u001b[0m\u001b[0;36m1\u001b[0m\u001b[0;34m,\u001b[0m\u001b[0mshape\u001b[0m\u001b[0;34m(\u001b[0m\u001b[0mq\u001b[0m\u001b[0;34m)\u001b[0m\u001b[0;34m[\u001b[0m\u001b[0;36m1\u001b[0m\u001b[0;34m]\u001b[0m \u001b[0;34m+\u001b[0m \u001b[0;36m1\u001b[0m\u001b[0;34m)\u001b[0m\u001b[0;34m:\u001b[0m\u001b[0;34m\u001b[0m\u001b[0;34m\u001b[0m\u001b[0m\n",
      "\u001b[0;32m/work/hca-analysis/sentiment_analysis/saffine/detrending_method.py\u001b[0m in \u001b[0;36mdetrending_method\u001b[0;34m(data, seg_len, fit_order)\u001b[0m\n\u001b[1;32m    171\u001b[0m \u001b[0;34m\u001b[0m\u001b[0m\n\u001b[1;32m    172\u001b[0m                 \u001b[0mxx1\u001b[0m \u001b[0;34m=\u001b[0m \u001b[0mleft_trend\u001b[0m\u001b[0;34m[\u001b[0m\u001b[0;36m0\u001b[0m \u001b[0;34m,\u001b[0m \u001b[0mint\u001b[0m\u001b[0;34m(\u001b[0m\u001b[0;34m(\u001b[0m\u001b[0mseg_len\u001b[0m \u001b[0;34m+\u001b[0m \u001b[0;36m1\u001b[0m\u001b[0;34m)\u001b[0m \u001b[0;34m/\u001b[0m \u001b[0;36m2\u001b[0m\u001b[0;34m)\u001b[0m \u001b[0;34m-\u001b[0m \u001b[0;36m1\u001b[0m \u001b[0;34m:\u001b[0m \u001b[0mseg_len\u001b[0m\u001b[0;34m]\u001b[0m\u001b[0;34m\u001b[0m\u001b[0;34m\u001b[0m\u001b[0m\n\u001b[0;32m--> 173\u001b[0;31m                 \u001b[0mxx2\u001b[0m \u001b[0;34m=\u001b[0m \u001b[0mmid_trend\u001b[0m\u001b[0;34m[\u001b[0m\u001b[0;36m0\u001b[0m \u001b[0;34m,\u001b[0m \u001b[0;36m0\u001b[0m \u001b[0;34m:\u001b[0m \u001b[0mint\u001b[0m\u001b[0;34m(\u001b[0m\u001b[0;34m(\u001b[0m\u001b[0mseg_len\u001b[0m \u001b[0;34m+\u001b[0m \u001b[0;36m1\u001b[0m\u001b[0;34m)\u001b[0m \u001b[0;34m/\u001b[0m \u001b[0;36m2\u001b[0m\u001b[0;34m)\u001b[0m\u001b[0;34m]\u001b[0m\u001b[0;34m\u001b[0m\u001b[0;34m\u001b[0m\u001b[0m\n\u001b[0m\u001b[1;32m    174\u001b[0m                 \u001b[0mw\u001b[0m \u001b[0;34m=\u001b[0m \u001b[0mnp\u001b[0m\u001b[0;34m.\u001b[0m\u001b[0marange\u001b[0m\u001b[0;34m(\u001b[0m\u001b[0;36m0\u001b[0m \u001b[0;34m,\u001b[0m \u001b[0mnonoverlap_len\u001b[0m \u001b[0;34m+\u001b[0m \u001b[0;36m1\u001b[0m\u001b[0;34m)\u001b[0m \u001b[0;34m/\u001b[0m \u001b[0mnonoverlap_len\u001b[0m\u001b[0;34m\u001b[0m\u001b[0;34m\u001b[0m\u001b[0m\n\u001b[1;32m    175\u001b[0m                 \u001b[0mxx_left\u001b[0m \u001b[0;34m=\u001b[0m \u001b[0mmultiply\u001b[0m\u001b[0;34m(\u001b[0m\u001b[0mxx1\u001b[0m \u001b[0;34m,\u001b[0m \u001b[0;34m(\u001b[0m\u001b[0;36m1\u001b[0m \u001b[0;34m-\u001b[0m \u001b[0mw\u001b[0m\u001b[0;34m)\u001b[0m\u001b[0;34m)\u001b[0m \u001b[0;34m+\u001b[0m \u001b[0mmultiply\u001b[0m\u001b[0;34m(\u001b[0m\u001b[0mxx2\u001b[0m \u001b[0;34m,\u001b[0m \u001b[0mw\u001b[0m \u001b[0;34m)\u001b[0m\u001b[0;34m\u001b[0m\u001b[0;34m\u001b[0m\u001b[0m\n",
      "\u001b[0;32m/opt/conda/lib/python3.9/site-packages/numpy/matrixlib/defmatrix.py\u001b[0m in \u001b[0;36m__getitem__\u001b[0;34m(self, index)\u001b[0m\n\u001b[1;32m    193\u001b[0m             \u001b[0mout\u001b[0m \u001b[0;34m=\u001b[0m \u001b[0mN\u001b[0m\u001b[0;34m.\u001b[0m\u001b[0mndarray\u001b[0m\u001b[0;34m.\u001b[0m\u001b[0m__getitem__\u001b[0m\u001b[0;34m(\u001b[0m\u001b[0mself\u001b[0m\u001b[0;34m,\u001b[0m \u001b[0mindex\u001b[0m\u001b[0;34m)\u001b[0m\u001b[0;34m\u001b[0m\u001b[0;34m\u001b[0m\u001b[0m\n\u001b[1;32m    194\u001b[0m         \u001b[0;32mfinally\u001b[0m\u001b[0;34m:\u001b[0m\u001b[0;34m\u001b[0m\u001b[0;34m\u001b[0m\u001b[0m\n\u001b[0;32m--> 195\u001b[0;31m             \u001b[0mself\u001b[0m\u001b[0;34m.\u001b[0m\u001b[0m_getitem\u001b[0m \u001b[0;34m=\u001b[0m \u001b[0;32mFalse\u001b[0m\u001b[0;34m\u001b[0m\u001b[0;34m\u001b[0m\u001b[0m\n\u001b[0m\u001b[1;32m    196\u001b[0m \u001b[0;34m\u001b[0m\u001b[0m\n\u001b[1;32m    197\u001b[0m         \u001b[0;32mif\u001b[0m \u001b[0;32mnot\u001b[0m \u001b[0misinstance\u001b[0m\u001b[0;34m(\u001b[0m\u001b[0mout\u001b[0m\u001b[0;34m,\u001b[0m \u001b[0mN\u001b[0m\u001b[0;34m.\u001b[0m\u001b[0mndarray\u001b[0m\u001b[0;34m)\u001b[0m\u001b[0;34m:\u001b[0m\u001b[0;34m\u001b[0m\u001b[0;34m\u001b[0m\u001b[0m\n",
      "\u001b[0;31mKeyboardInterrupt\u001b[0m: "
     ]
    }
   ],
   "source": [
    "hursts = {}\n",
    "for title in data.keys():\n",
    "    print(title)\n",
    "    arc = data[title]['arc']\n",
    "    h = figs.get_Hurst(arc)\n",
    "    print(h)\n",
    "    hursts[title]=[h]"
   ]
  },
  {
   "cell_type": "code",
   "execution_count": 18,
   "id": "59729185-062a-4de5-aae5-b0331fb843f6",
   "metadata": {
    "execution": {
     "iopub.execute_input": "2022-02-21T14:57:52.720875Z",
     "iopub.status.busy": "2022-02-21T14:57:52.720314Z",
     "iopub.status.idle": "2022-02-21T14:57:52.729008Z",
     "shell.execute_reply": "2022-02-21T14:57:52.727952Z",
     "shell.execute_reply.started": "2022-02-21T14:57:52.720819Z"
    },
    "tags": []
   },
   "outputs": [],
   "source": [
    "hursts2 = {}\n",
    "for title in data.keys():\n",
    "    #print(title)\n",
    "    arc = data[title]['arc']\n",
    "    h = data[title]['Hurst']\n",
    "    #print(h)\n",
    "    hursts2[title]=[h]"
   ]
  },
  {
   "cell_type": "code",
   "execution_count": 19,
   "id": "6bd5b47e-dc11-4312-8c67-487bc0c0b6a6",
   "metadata": {
    "collapsed": true,
    "execution": {
     "iopub.execute_input": "2022-02-21T14:57:53.005324Z",
     "iopub.status.busy": "2022-02-21T14:57:53.004840Z",
     "iopub.status.idle": "2022-02-21T14:57:53.020954Z",
     "shell.execute_reply": "2022-02-21T14:57:53.020157Z",
     "shell.execute_reply.started": "2022-02-21T14:57:53.005274Z"
    },
    "jupyter": {
     "outputs_hidden": true
    },
    "tags": []
   },
   "outputs": [
    {
     "name": "stdout",
     "output_type": "stream",
     "text": [
      "the_seven_ravens ['85', '3.48', '122']\n",
      "the_adventures_of_chanticleer_and_partlet ['78', '3.0', '46']\n",
      "king_grisly-beard ['93', '3.77', '216']\n",
      "the_goose-girl ['57', '2.86', '7']\n",
      "the_twelve_dancing_princesses ['85', '3.15', '13']\n",
      "clever_hans ['45', '2.46', '69']\n",
      "snow-white_and_rose-red ['', '3.77', '879']\n",
      "frederick_and_catherine ['95', '4.21', '518']\n",
      "rumpelstiltskin ['100', '5.0', '2']\n",
      "the_willow-wren_and_the_bear ['78', '3.0', '46']\n",
      "the_pink ['97', '4.28', '151055']\n",
      "fundevogel ['100', '3.0', '']\n",
      "the_dog_and_the_sparrow ['97', '4.03', '177']\n",
      "the_salad ['71', '3.1', '42']\n",
      "the_golden_goose ['89', '3.81', '477']\n",
      "cat-skin ['70', '3.01', '76']\n",
      "the_little_peasant ['78', '3.0', '46']\n",
      "the_miser_in_the_bush ['78', '3.23', '115']\n",
      "the_robber_bridegroom ['100', '4.0', '']\n",
      "the_valiant_little_tailor ['94', '4.21', '107']\n",
      "the_story_of_the_youth_who_went_forth_to_learn_what_fear_was ['80', '3.24', '163']\n",
      "the_travelling_musicians ['100', '3.89', '9']\n",
      "iron_hans ['93', '3.89', '57']\n",
      "the_turnip ['74', '2.98', '43']\n",
      "briar_rose ['', '3.83', '1432']\n",
      "doctor_knowall ['50', '2.43', '14']\n",
      "the_mouse,_the_bird,_and_the_sausage ['97', '4.28', '151055']\n",
      "the_king_of_the_golden_mountain ['75', '3.23', '57']\n",
      "mother_holle ['100', '5.0', '']\n",
      "jorinda_and_jorindel ['81', '3.38', '72']\n",
      "snowdrop ['94', '4.02', '121']\n",
      "hansel_and_gretel ['94', '3.82', '77']\n",
      "the_three_languages ['71', '3.04', '68']\n",
      "the_old_man_and_his_grandson ['100', '3.5', '4']\n",
      "the_wolf_and_the_seven_little_kids ['86', '3.72', '496']\n",
      "sweetheart_roland ['', '2.9', '83']\n",
      "the_raven ['78', '3.0', '46']\n",
      "the_queen_bee ['63', '2.63', '8']\n",
      "clever_elsie ['90', '3.62', '147']\n",
      "the_fox_and_the_cat ['67', '3.02', '64']\n",
      "the_frog-prince ['', '3.33', '733']\n",
      "tom_thumb ['95', '4.13', '25817']\n",
      "little_red-cap_[little_red_riding_hood] ['98', '4.42', '182']\n",
      "rapunzel ['100', '4.46', '13']\n",
      "the_golden_bird ['89', '3.81', '477']\n",
      "the_white_snake ['90', '3.93', '1249']\n",
      "the_fisherman_and_his_wife ['', '3.82', '348']\n",
      "cat_and_mouse_in_partnership ['97', '4.28', '151055']\n",
      "the_blue_light ['74', '3.06', '68']\n",
      "the_wedding_of_mrs_fox ['', '2.72', '67']\n",
      "clever_gretel ['94', '3.95', '3682']\n",
      "the_water_of_life ['94', '4.1', '350']\n",
      "old_sultan ['88', '4.0', '8']\n",
      "the_juniper-tree ['96', '4.29', '246']\n",
      "the_fox_and_the_horse ['65', '2.87', '52']\n",
      "the_four_clever_brothers ['85', '3.44', '71']\n",
      "ashputtel ['95', '3.96', '542']\n",
      "the_straw,_the_coal,_and_the_bean ['88', '4.0', '8']\n",
      "hans_in_luck ['94', '4.09', '12347']\n",
      "the_twelve_huntsmen ['74', '3.1', '62']\n",
      "the_elves_and_the_shoemaker ['96', '4.04', '619']\n",
      "lily_and_the_lion ['87', '3.57', '60']\n"
     ]
    }
   ],
   "source": [
    "for title in data.keys(): print(title,data[title]['goodreads'])"
   ]
  },
  {
   "cell_type": "code",
   "execution_count": 20,
   "id": "75bf4269-afe6-41b8-acb5-103eb09d5b96",
   "metadata": {
    "execution": {
     "iopub.execute_input": "2022-02-21T14:57:53.327591Z",
     "iopub.status.busy": "2022-02-21T14:57:53.327155Z",
     "iopub.status.idle": "2022-02-21T14:57:53.347811Z",
     "shell.execute_reply": "2022-02-21T14:57:53.346921Z",
     "shell.execute_reply.started": "2022-02-21T14:57:53.327545Z"
    },
    "tags": []
   },
   "outputs": [],
   "source": [
    "proper_dictionary = {'THE GOLDEN BIRD': [81.0, 3.35, 329.0],\n",
    " 'HANS IN LUCK': [83.0, 3.29, 218.0],\n",
    " 'JORINDA AND JORINDEL': [79.0, 3.43, 28.0],\n",
    " 'THE TRAVELLING MUSICIANS': [63.0, 3.13, 16.0],\n",
    " 'OLD SULTAN': [67.0, 2.93, 142.0],\n",
    " 'THE STRAW, THE COAL, AND THE BEAN': [57.0, 2.84, 148.0],\n",
    " 'BRIAR ROSE': [50.0, 3.0, 4.0],\n",
    " 'THE DOG AND THE SPARROW': [82.0, 3.35, 113.0],\n",
    " 'THE TWELVE DANCING PRINCESSES': [87.0, 3.55, 47.0],\n",
    " 'THE FISHERMAN AND HIS WIFE': [91.0, 3.82, 348.0],\n",
    " 'THE WILLOW-WREN AND THE BEAR': [63.0, 2.87, 97.0],\n",
    " 'CAT AND MOUSE IN PARTNERSHIP': [79.0, 3.35, 280.0],\n",
    " 'THE GOOSE-GIRL': [90.0, 3.52, 153.0],\n",
    " 'THE ADVENTURES OF CHANTICLEER AND PARTLET': [51.0, 2.53, 93.0],\n",
    " 'RAPUNZEL': [91.0, 3.75, 2058.0],\n",
    " 'FUNDEVOGEL': [73.0, 3.02, 82.0],\n",
    " 'THE VALIANT LITTLE TAILOR': [100.0, 4.29, 7.0],\n",
    " 'HANSEL AND GRETEL': [92.0, 3.8, 2527.0],\n",
    " 'THE MOUSE, THE BIRD, AND THE SAUSAGE': [65.0, 2.99, 109.0],\n",
    " 'MOTHER HOLLE': [93.0, 3.74, 208.0],\n",
    " 'LITTLE RED-CAP [LITTLE RED RIDING HOOD]': [100.0, 4.5, 4.0],\n",
    " 'THE ROBBER BRIDEGROOM': [93.0, 3.66, 1014.0],\n",
    " 'TOM THUMB': [86.0, 3.43, 221.0],\n",
    " 'RUMPELSTILTSKIN': [92.0, 3.83, 1289.0],\n",
    " 'CLEVER GRETEL': [75.0, 3.22, 85.0],\n",
    " 'THE OLD MAN AND HIS GRANDSON': [81.0, 3.38, 72.0],\n",
    " 'THE LITTLE PEASANT': [71.0, 3.08, 73.0],\n",
    " 'FREDERICK AND CATHERINE': [47.0, 2.48, 73.0],\n",
    " 'SWEETHEART ROLAND': [65.0, 2.9, 83.0],\n",
    " 'SNOWDROP': [100.0, 3.5, 2.0],\n",
    " 'THE PINK': [77.0, 2.98, 47.0],\n",
    " 'CLEVER ELSIE': [36.0, 2.15, 86.0],\n",
    " 'THE MISER IN THE BUSH': [63.0, 2.9, 60.0],\n",
    " 'ASHPUTTEL': [97.0, 4.28, 151059.0],\n",
    " 'THE WHITE SNAKE': [78.0, 3.23, 115.0],\n",
    " 'THE WOLF AND THE SEVEN LITTLE KIDS': [86.0, 3.72, 496.0],\n",
    " 'THE QUEEN BEE': [80.0, 3.22, 99.0],\n",
    " 'THE ELVES AND THE SHOEMAKER': [96.0, 4.04, 619.0],\n",
    " 'THE JUNIPER-TREE': [90.0, 3.87, 52.0],\n",
    " 'THE TURNIP': [74.0, 2.98, 43.0],\n",
    " 'CLEVER HANS': [45.0, 2.46, 69.0],\n",
    " 'THE THREE LANGUAGES': [71.0, 3.04, 68.0],\n",
    " 'THE FOX AND THE CAT': [67.0, 3.02, 64.0],\n",
    " 'THE FOUR CLEVER BROTHERS': [85.0, 3.44, 71.0],\n",
    " 'LILY AND THE LION': [87.0, 3.57, 60.0],\n",
    " 'THE FOX AND THE HORSE': [65.0, 2.87, 52.0],\n",
    " 'THE BLUE LIGHT': [74.0, 3.06, 68.0],\n",
    " 'THE RAVEN': [78.0, 3.0, 46.0],\n",
    " 'THE GOLDEN GOOSE': [89.0, 3.81, 477.0],\n",
    " 'THE WATER OF LIFE': [94.0, 4.1, 350.0],\n",
    " 'THE TWELVE HUNTSMEN': [74.0, 3.1, 62.0],\n",
    " 'THE KING OF THE GOLDEN MOUNTAIN': [75.0, 3.23, 57.0],\n",
    " 'DOCTOR KNOWALL': [76.0, 3.29, 42.0],\n",
    " 'THE SEVEN RAVENS': [85.0, 3.48, 122.0],\n",
    " 'THE WEDDING OF MRS FOX': [71.0, 3.57, 7.0],\n",
    " 'THE SALAD': [71.0, 3.1, 42.0],\n",
    " 'THE STORY OF THE YOUTH WHO WENT FORTH TO LEARN WHAT FEAR WAS': [80.0, 3.24, 163.0],\n",
    " 'KING GRISLY-BEARD': [93.0, 3.77, 216.0],\n",
    " 'IRON HANS': [93.0, 3.89, 57.0],\n",
    " 'CAT-SKIN': [70.0, 3.01, 76.0],\n",
    " 'SNOW-WHITE AND ROSE-RED': [90.0, 3.77, 879.0]}"
   ]
  },
  {
   "cell_type": "code",
   "execution_count": 21,
   "id": "9b6ffd1e-0e98-4944-a71d-34e628914f54",
   "metadata": {
    "execution": {
     "iopub.execute_input": "2022-02-21T14:57:53.858880Z",
     "iopub.status.busy": "2022-02-21T14:57:53.858416Z",
     "iopub.status.idle": "2022-02-21T14:57:53.868460Z",
     "shell.execute_reply": "2022-02-21T14:57:53.867166Z",
     "shell.execute_reply.started": "2022-02-21T14:57:53.858831Z"
    },
    "tags": []
   },
   "outputs": [
    {
     "name": "stdout",
     "output_type": "stream",
     "text": [
      "{'the_golden_bird': [81.0, 3.35, 329.0], 'hans_in_luck': [83.0, 3.29, 218.0], 'jorinda_and_jorindel': [79.0, 3.43, 28.0], 'the_travelling_musicians': [63.0, 3.13, 16.0], 'old_sultan': [67.0, 2.93, 142.0], 'the_straw,_the_coal,_and_the_bean': [57.0, 2.84, 148.0], 'briar_rose': [50.0, 3.0, 4.0], 'the_dog_and_the_sparrow': [82.0, 3.35, 113.0], 'the_twelve_dancing_princesses': [87.0, 3.55, 47.0], 'the_fisherman_and_his_wife': [91.0, 3.82, 348.0], 'the_willow-wren_and_the_bear': [63.0, 2.87, 97.0], 'cat_and_mouse_in_partnership': [79.0, 3.35, 280.0], 'the_goose-girl': [90.0, 3.52, 153.0], 'the_adventures_of_chanticleer_and_partlet': [51.0, 2.53, 93.0], 'rapunzel': [91.0, 3.75, 2058.0], 'fundevogel': [73.0, 3.02, 82.0], 'the_valiant_little_tailor': [100.0, 4.29, 7.0], 'hansel_and_gretel': [92.0, 3.8, 2527.0], 'the_mouse,_the_bird,_and_the_sausage': [65.0, 2.99, 109.0], 'mother_holle': [93.0, 3.74, 208.0], 'little_red-cap_[little_red_riding_hood]': [100.0, 4.5, 4.0], 'the_robber_bridegroom': [93.0, 3.66, 1014.0], 'tom_thumb': [86.0, 3.43, 221.0], 'rumpelstiltskin': [92.0, 3.83, 1289.0], 'clever_gretel': [75.0, 3.22, 85.0], 'the_old_man_and_his_grandson': [81.0, 3.38, 72.0], 'the_little_peasant': [71.0, 3.08, 73.0], 'frederick_and_catherine': [47.0, 2.48, 73.0], 'sweetheart_roland': [65.0, 2.9, 83.0], 'snowdrop': [100.0, 3.5, 2.0], 'the_pink': [77.0, 2.98, 47.0], 'clever_elsie': [36.0, 2.15, 86.0], 'the_miser_in_the_bush': [63.0, 2.9, 60.0], 'ashputtel': [97.0, 4.28, 151059.0], 'the_white_snake': [78.0, 3.23, 115.0], 'the_wolf_and_the_seven_little_kids': [86.0, 3.72, 496.0], 'the_queen_bee': [80.0, 3.22, 99.0], 'the_elves_and_the_shoemaker': [96.0, 4.04, 619.0], 'the_juniper-tree': [90.0, 3.87, 52.0], 'the_turnip': [74.0, 2.98, 43.0], 'clever_hans': [45.0, 2.46, 69.0], 'the_three_languages': [71.0, 3.04, 68.0], 'the_fox_and_the_cat': [67.0, 3.02, 64.0], 'the_four_clever_brothers': [85.0, 3.44, 71.0], 'lily_and_the_lion': [87.0, 3.57, 60.0], 'the_fox_and_the_horse': [65.0, 2.87, 52.0], 'the_blue_light': [74.0, 3.06, 68.0], 'the_raven': [78.0, 3.0, 46.0], 'the_golden_goose': [89.0, 3.81, 477.0], 'the_water_of_life': [94.0, 4.1, 350.0], 'the_twelve_huntsmen': [74.0, 3.1, 62.0], 'the_king_of_the_golden_mountain': [75.0, 3.23, 57.0], 'doctor_knowall': [76.0, 3.29, 42.0], 'the_seven_ravens': [85.0, 3.48, 122.0], 'the_wedding_of_mrs_fox': [71.0, 3.57, 7.0], 'the_salad': [71.0, 3.1, 42.0], 'the_story_of_the_youth_who_went_forth_to_learn_what_fear_was': [80.0, 3.24, 163.0], 'king_grisly-beard': [93.0, 3.77, 216.0], 'iron_hans': [93.0, 3.89, 57.0], 'cat-skin': [70.0, 3.01, 76.0], 'snow-white_and_rose-red': [90.0, 3.77, 879.0]}\n"
     ]
    }
   ],
   "source": [
    "proper_dic = {}\n",
    "for k in proper_dictionary.keys():\n",
    "    newv = k.lower().replace(' ','_')\n",
    "    proper_dic[newv]=proper_dictionary[k]\n",
    "    \n",
    "print(proper_dic)"
   ]
  },
  {
   "cell_type": "code",
   "execution_count": 22,
   "id": "a04ede3c-4274-49ad-a828-3a0d71083899",
   "metadata": {
    "execution": {
     "iopub.execute_input": "2022-02-21T14:57:54.053647Z",
     "iopub.status.busy": "2022-02-21T14:57:54.053214Z",
     "iopub.status.idle": "2022-02-21T14:57:54.063519Z",
     "shell.execute_reply": "2022-02-21T14:57:54.062280Z",
     "shell.execute_reply.started": "2022-02-21T14:57:54.053601Z"
    },
    "tags": []
   },
   "outputs": [
    {
     "data": {
      "text/plain": [
       "'{\"THE GOLDEN BIRD\": [0.52, 0.52], \"HANS IN LUCK\": [0.56, 0.56], \"JORINDA AND JORINDEL\": [0.53, 0.53], \"THE TRAVELLING MUSICIANS\": [0.56, 0.56], \"OLD SULTAN\": [0.55, 0.55], \"THE STRAW, THE COAL, AND THE BEAN\": [0.55, 0.55], \"BRIAR ROSE\": [0.54, 0.54], \"THE DOG AND THE SPARROW\": [0.6, 0.6], \"THE TWELVE DANCING PRINCESSES\": [0.5, 0.5], \"THE FISHERMAN AND HIS WIFE\": [0.54, 0.54], \"THE WILLOW-WREN AND THE BEAR\": [0.51, 0.51], \"THE FROG-PRINCE\": [0.54, 0.54], \"CAT AND MOUSE IN PARTNERSHIP\": [0.53, 0.53], \"THE GOOSE-GIRL\": [0.6, 0.6], \"1. HOW THEY WENT TO THE MOUNTAINS TO EAT NUTS\": [0.53, 0.53], \"2. HOW CHANTICLEER AND PARTLET WENT TO VISIT MR KORBES\": [0.63, 0.63], \"RAPUNZEL\": [0.52, 0.52], \"FUNDEVOGEL\": [0.49, 0.49], \"THE VALIANT LITTLE TAILOR\": [0.55, 0.55], \"HANSEL AND GRETEL\": [0.52, 0.52], \"THE MOUSE, THE BIRD, AND THE SAUSAGE\": [0.44, 0.44], \"MOTHER HOLLE\": [0.57, 0.57], \"LITTLE RED-CAP [LITTLE RED RIDING HOOD]\": [0.55, 0.55], \"THE ROBBER BRIDEGROOM\": [0.56, 0.56], \"TOM THUMB\": [0.55, 0.55], \"RUMPELSTILTSKIN\": [0.56, 0.56], \"CLEVER GRETEL\": [0.58, 0.58], \"THE OLD MAN AND HIS GRANDSON\": [0.5, 0.5], \"THE LITTLE PEASANT\": [0.53, 0.53], \"FREDERICK AND CATHERINE\": [0.53, 0.53], \"SWEETHEART ROLAND\": [0.48, 0.48], \"SNOWDROP\": [0.52, 0.52], \"THE PINK\": [0.54, 0.54], \"CLEVER ELSIE\": [0.57, 0.57], \"THE MISER IN THE BUSH\": [0.51, 0.51], \"ASHPUTTEL\": [0.53, 0.53], \"THE WHITE SNAKE\": [0.52, 0.52], \"THE WOLF AND THE SEVEN LITTLE KIDS\": [0.54, 0.54], \"THE QUEEN BEE\": [0.51, 0.51], \"THE ELVES AND THE SHOEMAKER\": [0.47, 0.47], \"THE JUNIPER-TREE\": [0.61, 0.61], \"the juniper-tree.\": [0.52, 0.52], \"THE TURNIP\": [0.56, 0.56], \"CLEVER HANS\": [0.52, 0.52], \"THE THREE LANGUAGES\": [0.54, 0.54], \"THE FOX AND THE CAT\": [0.61, 0.61], \"THE FOUR CLEVER BROTHERS\": [0.51, 0.51], \"LILY AND THE LION\": [0.48, 0.48], \"THE FOX AND THE HORSE\": [0.58, 0.58], \"THE BLUE LIGHT\": [0.53, 0.53], \"THE RAVEN\": [0.54, 0.54], \"THE GOLDEN GOOSE\": [0.52, 0.52], \"THE WATER OF LIFE\": [0.53, 0.53], \"THE TWELVE HUNTSMEN\": [0.5, 0.5], \"THE KING OF THE GOLDEN MOUNTAIN\": [0.54, 0.54], \"DOCTOR KNOWALL\": [0.45, 0.45], \"THE SEVEN RAVENS\": [0.49, 0.49], \"FIRST STORY\": [0.6, 0.6], \"SECOND STORY\": [0.55, 0.55], \"THE SALAD\": [0.56, 0.56], \"THE STORY OF THE YOUTH WHO WENT FORTH TO LEARN WHAT FEAR WAS\": [0.61, 0.61], \"KING GRISLY-BEARD\": [0.57, 0.57], \"IRON HANS\": [0.56, 0.56], \"CAT-SKIN\": [0.54, 0.54], \"SNOW-WHITE AND ROSE-RED\": [0.62, 0.62]}'"
      ]
     },
     "execution_count": 22,
     "metadata": {},
     "output_type": "execute_result"
    }
   ],
   "source": [
    "a_file = open(\"sentiment_analysis/grimm_hursts_Y.json\", \"r\")\n",
    "output = a_file.read()\n",
    "output"
   ]
  },
  {
   "cell_type": "code",
   "execution_count": 23,
   "id": "e53c65fd-978b-4c1a-9b5b-76655032dac2",
   "metadata": {
    "execution": {
     "iopub.execute_input": "2022-02-21T14:57:54.221871Z",
     "iopub.status.busy": "2022-02-21T14:57:54.221439Z",
     "iopub.status.idle": "2022-02-21T14:57:54.449917Z",
     "shell.execute_reply": "2022-02-21T14:57:54.448471Z",
     "shell.execute_reply.started": "2022-02-21T14:57:54.221824Z"
    },
    "tags": []
   },
   "outputs": [
    {
     "data": {
      "text/plain": [
       "65"
      ]
     },
     "execution_count": 23,
     "metadata": {},
     "output_type": "execute_result"
    }
   ],
   "source": [
    "with open('sentiment_analysis/grimm_hursts_without_oov_Y.json') as json_file:\n",
    "    Hdic = json.load(json_file)\n",
    "    \n",
    "len(Hdic.keys())"
   ]
  },
  {
   "cell_type": "code",
   "execution_count": 24,
   "id": "8bcd52a7-9d72-42ad-b515-c122d4538c0c",
   "metadata": {
    "collapsed": true,
    "execution": {
     "iopub.execute_input": "2022-02-21T14:57:55.888743Z",
     "iopub.status.busy": "2022-02-21T14:57:55.888257Z",
     "iopub.status.idle": "2022-02-21T14:57:55.906171Z",
     "shell.execute_reply": "2022-02-21T14:57:55.905431Z",
     "shell.execute_reply.started": "2022-02-21T14:57:55.888694Z"
    },
    "jupyter": {
     "outputs_hidden": true
    },
    "tags": []
   },
   "outputs": [
    {
     "name": "stdout",
     "output_type": "stream",
     "text": [
      "61\n",
      "THE GOLDEN BIRD 0.56\n",
      "HANS IN LUCK 0.58\n",
      "JORINDA AND JORINDEL 0.59\n",
      "THE TRAVELLING MUSICIANS 0.61\n",
      "OLD SULTAN 0.65\n",
      "THE STRAW, THE COAL, AND THE BEAN 0.61\n",
      "BRIAR ROSE 0.59\n",
      "THE DOG AND THE SPARROW 0.7\n",
      "THE TWELVE DANCING PRINCESSES 0.56\n",
      "THE FISHERMAN AND HIS WIFE 0.59\n",
      "THE WILLOW-WREN AND THE BEAR 0.55\n",
      "CAT AND MOUSE IN PARTNERSHIP 0.6\n",
      "THE GOOSE-GIRL 0.71\n",
      "scores not found\n",
      "THE ADVENTURES OF CHANTICLEER AND PARTLET 0.71\n",
      "RAPUNZEL 0.57\n",
      "FUNDEVOGEL 0.52\n",
      "THE VALIANT LITTLE TAILOR 0.58\n",
      "HANSEL AND GRETEL 0.56\n",
      "THE MOUSE, THE BIRD, AND THE SAUSAGE 0.45\n",
      "MOTHER HOLLE 0.66\n",
      "LITTLE RED-CAP [LITTLE RED RIDING HOOD] 0.58\n",
      "THE ROBBER BRIDEGROOM 0.61\n",
      "TOM THUMB 0.62\n",
      "RUMPELSTILTSKIN 0.59\n",
      "CLEVER GRETEL 0.68\n",
      "THE OLD MAN AND HIS GRANDSON 0.48\n",
      "THE LITTLE PEASANT 0.55\n",
      "FREDERICK AND CATHERINE 0.61\n",
      "SWEETHEART ROLAND 0.51\n",
      "SNOWDROP 0.57\n",
      "THE PINK 0.59\n",
      "CLEVER ELSIE 0.63\n",
      "THE MISER IN THE BUSH 0.56\n",
      "ASHPUTTEL 0.59\n",
      "THE WHITE SNAKE 0.54\n",
      "THE WOLF AND THE SEVEN LITTLE KIDS 0.56\n",
      "THE QUEEN BEE 0.54\n",
      "THE ELVES AND THE SHOEMAKER 0.48\n",
      "THE JUNIPER-TREE 0.82\n",
      "THE TURNIP 0.67\n",
      "CLEVER HANS 0.51\n",
      "THE THREE LANGUAGES 0.6\n",
      "THE FOX AND THE CAT 0.71\n",
      "THE FOUR CLEVER BROTHERS 0.56\n",
      "LILY AND THE LION 0.59\n",
      "THE FOX AND THE HORSE 0.72\n",
      "THE BLUE LIGHT 0.58\n",
      "THE RAVEN 0.63\n",
      "THE GOLDEN GOOSE 0.52\n",
      "THE WATER OF LIFE 0.55\n",
      "THE TWELVE HUNTSMEN 0.53\n",
      "THE KING OF THE GOLDEN MOUNTAIN 0.59\n",
      "DOCTOR KNOWALL 0.44\n",
      "THE SEVEN RAVENS 0.55\n",
      "scores not found\n",
      "THE WEDDING OF MRS FOX 0.55\n",
      "THE SALAD 0.64\n",
      "THE STORY OF THE YOUTH WHO WENT FORTH TO LEARN WHAT FEAR WAS 0.67\n",
      "KING GRISLY-BEARD 0.59\n",
      "IRON HANS 0.63\n",
      "CAT-SKIN 0.56\n",
      "SNOW-WHITE AND ROSE-RED 0.66\n"
     ]
    }
   ],
   "source": [
    "average_ratings, filtered_hs, filtered_titles = [],[],[]\n",
    "\n",
    "\n",
    "Hs = hursts2\n",
    "\n",
    "proper_keys = [k for k in proper_dic.keys() if k in list(Hs.keys())]\n",
    "print(len(proper_keys))\n",
    "\n",
    "#for k in proper_keys:\n",
    "for k in proper_dictionary.keys():\n",
    "    scores = proper_dictionary[k]\n",
    "    if len(scores)==3:\n",
    "        goods = scores[1]\n",
    "        if k in Hdic.keys():\n",
    "            hsc = Hdic[k][0]\n",
    "            if goods>0 and hsc<.75:   #48-56, 56-on #and .56<Hs[k][0]<1\n",
    "                average_ratings.append(goods) #scores 1 == average ratings. \n",
    "                filtered_hs.append(hsc)\n",
    "                filtered_titles.append(k)\n",
    "        else: print(\"scores not found\")\n",
    "    else: print(k, \" not in H\")\n",
    "    print(k,hsc)\n"
   ]
  },
  {
   "cell_type": "code",
   "execution_count": null,
   "id": "0509a958-a793-48a3-8738-c7f418b780ea",
   "metadata": {
    "tags": []
   },
   "outputs": [],
   "source": []
  },
  {
   "cell_type": "code",
   "execution_count": 25,
   "id": "f806eb70-fa62-4aae-b921-ded94e501b23",
   "metadata": {
    "collapsed": true,
    "execution": {
     "iopub.execute_input": "2022-02-21T14:57:58.490245Z",
     "iopub.status.busy": "2022-02-21T14:57:58.489671Z",
     "iopub.status.idle": "2022-02-21T14:57:58.506228Z",
     "shell.execute_reply": "2022-02-21T14:57:58.505107Z",
     "shell.execute_reply.started": "2022-02-21T14:57:58.490190Z"
    },
    "jupyter": {
     "outputs_hidden": true
    },
    "tags": []
   },
   "outputs": [
    {
     "data": {
      "text/plain": [
       "{'the_golden_bird': [81.0, 3.35, 329.0],\n",
       " 'hans_in_luck': [83.0, 3.29, 218.0],\n",
       " 'jorinda_and_jorindel': [79.0, 3.43, 28.0],\n",
       " 'the_travelling_musicians': [63.0, 3.13, 16.0],\n",
       " 'old_sultan': [67.0, 2.93, 142.0],\n",
       " 'the_straw,_the_coal,_and_the_bean': [57.0, 2.84, 148.0],\n",
       " 'briar_rose': [50.0, 3.0, 4.0],\n",
       " 'the_dog_and_the_sparrow': [82.0, 3.35, 113.0],\n",
       " 'the_twelve_dancing_princesses': [87.0, 3.55, 47.0],\n",
       " 'the_fisherman_and_his_wife': [91.0, 3.82, 348.0],\n",
       " 'the_willow-wren_and_the_bear': [63.0, 2.87, 97.0],\n",
       " 'cat_and_mouse_in_partnership': [79.0, 3.35, 280.0],\n",
       " 'the_goose-girl': [90.0, 3.52, 153.0],\n",
       " 'the_adventures_of_chanticleer_and_partlet': [51.0, 2.53, 93.0],\n",
       " 'rapunzel': [91.0, 3.75, 2058.0],\n",
       " 'fundevogel': [73.0, 3.02, 82.0],\n",
       " 'the_valiant_little_tailor': [100.0, 4.29, 7.0],\n",
       " 'hansel_and_gretel': [92.0, 3.8, 2527.0],\n",
       " 'the_mouse,_the_bird,_and_the_sausage': [65.0, 2.99, 109.0],\n",
       " 'mother_holle': [93.0, 3.74, 208.0],\n",
       " 'little_red-cap_[little_red_riding_hood]': [100.0, 4.5, 4.0],\n",
       " 'the_robber_bridegroom': [93.0, 3.66, 1014.0],\n",
       " 'tom_thumb': [86.0, 3.43, 221.0],\n",
       " 'rumpelstiltskin': [92.0, 3.83, 1289.0],\n",
       " 'clever_gretel': [75.0, 3.22, 85.0],\n",
       " 'the_old_man_and_his_grandson': [81.0, 3.38, 72.0],\n",
       " 'the_little_peasant': [71.0, 3.08, 73.0],\n",
       " 'frederick_and_catherine': [47.0, 2.48, 73.0],\n",
       " 'sweetheart_roland': [65.0, 2.9, 83.0],\n",
       " 'snowdrop': [100.0, 3.5, 2.0],\n",
       " 'the_pink': [77.0, 2.98, 47.0],\n",
       " 'clever_elsie': [36.0, 2.15, 86.0],\n",
       " 'the_miser_in_the_bush': [63.0, 2.9, 60.0],\n",
       " 'ashputtel': [97.0, 4.28, 151059.0],\n",
       " 'the_white_snake': [78.0, 3.23, 115.0],\n",
       " 'the_wolf_and_the_seven_little_kids': [86.0, 3.72, 496.0],\n",
       " 'the_queen_bee': [80.0, 3.22, 99.0],\n",
       " 'the_elves_and_the_shoemaker': [96.0, 4.04, 619.0],\n",
       " 'the_juniper-tree': [90.0, 3.87, 52.0],\n",
       " 'the_turnip': [74.0, 2.98, 43.0],\n",
       " 'clever_hans': [45.0, 2.46, 69.0],\n",
       " 'the_three_languages': [71.0, 3.04, 68.0],\n",
       " 'the_fox_and_the_cat': [67.0, 3.02, 64.0],\n",
       " 'the_four_clever_brothers': [85.0, 3.44, 71.0],\n",
       " 'lily_and_the_lion': [87.0, 3.57, 60.0],\n",
       " 'the_fox_and_the_horse': [65.0, 2.87, 52.0],\n",
       " 'the_blue_light': [74.0, 3.06, 68.0],\n",
       " 'the_raven': [78.0, 3.0, 46.0],\n",
       " 'the_golden_goose': [89.0, 3.81, 477.0],\n",
       " 'the_water_of_life': [94.0, 4.1, 350.0],\n",
       " 'the_twelve_huntsmen': [74.0, 3.1, 62.0],\n",
       " 'the_king_of_the_golden_mountain': [75.0, 3.23, 57.0],\n",
       " 'doctor_knowall': [76.0, 3.29, 42.0],\n",
       " 'the_seven_ravens': [85.0, 3.48, 122.0],\n",
       " 'the_wedding_of_mrs_fox': [71.0, 3.57, 7.0],\n",
       " 'the_salad': [71.0, 3.1, 42.0],\n",
       " 'the_story_of_the_youth_who_went_forth_to_learn_what_fear_was': [80.0,\n",
       "  3.24,\n",
       "  163.0],\n",
       " 'king_grisly-beard': [93.0, 3.77, 216.0],\n",
       " 'iron_hans': [93.0, 3.89, 57.0],\n",
       " 'cat-skin': [70.0, 3.01, 76.0],\n",
       " 'snow-white_and_rose-red': [90.0, 3.77, 879.0]}"
      ]
     },
     "execution_count": 25,
     "metadata": {},
     "output_type": "execute_result"
    }
   ],
   "source": [
    "proper_dic"
   ]
  },
  {
   "cell_type": "code",
   "execution_count": 346,
   "id": "4dc1c4b8-55ab-4681-b1cc-2118c5fe1cc9",
   "metadata": {
    "execution": {
     "iopub.execute_input": "2022-02-21T16:07:27.274369Z",
     "iopub.status.busy": "2022-02-21T16:07:27.273760Z",
     "iopub.status.idle": "2022-02-21T16:07:27.287734Z",
     "shell.execute_reply": "2022-02-21T16:07:27.286743Z",
     "shell.execute_reply.started": "2022-02-21T16:07:27.274301Z"
    },
    "tags": []
   },
   "outputs": [
    {
     "name": "stdout",
     "output_type": "stream",
     "text": [
      "61\n"
     ]
    }
   ],
   "source": [
    "average_ratings, filtered_hs, filtered_titles = [],[],[]\n",
    "\n",
    "\n",
    "Hs = hursts2\n",
    "\n",
    "proper_keys = [k for k in proper_dic.keys() if k in list(Hs.keys())]\n",
    "print(len(proper_keys))\n",
    "\n",
    "#for k in proper_keys:\n",
    "for k in proper_dic.keys():\n",
    "    scores = proper_dic[k]\n",
    "    if len(scores)==3:\n",
    "        goods = scores[1]\n",
    "        nraters = scores[-1]\n",
    "        if k in Hs.keys():\n",
    "            hsc = Hs[k][0]\n",
    "            if .0<hsc<.6:   #48-59, 56-on #and .56<Hs[k][0]<1  # .57<hsc<.66 and .48<hsc<.6:  #20<goods<3000   #.57<hsc<.65\n",
    "                average_ratings.append(goods) #scores 1 == average ratings. \n",
    "                filtered_hs.append(hsc)\n",
    "                filtered_titles.append(k)\n",
    "                #print(k,goods, scores[1])\n",
    "        else: print(\"scores not found\")\n",
    "    else: print(k, \" not in H\")"
   ]
  },
  {
   "cell_type": "code",
   "execution_count": 347,
   "id": "5457ea1f-43a6-47eb-8f41-5ccde45f48b9",
   "metadata": {
    "execution": {
     "iopub.execute_input": "2022-02-21T16:07:27.408449Z",
     "iopub.status.busy": "2022-02-21T16:07:27.407747Z",
     "iopub.status.idle": "2022-02-21T16:07:27.640125Z",
     "shell.execute_reply": "2022-02-21T16:07:27.638818Z",
     "shell.execute_reply.started": "2022-02-21T16:07:27.408383Z"
    },
    "tags": []
   },
   "outputs": [
    {
     "data": {
      "text/plain": [
       "(39, 39)"
      ]
     },
     "execution_count": 347,
     "metadata": {},
     "output_type": "execute_result"
    }
   ],
   "source": [
    "import matplotlib.pyplot as plt\n",
    "len(average_ratings), len(filtered_hs)"
   ]
  },
  {
   "cell_type": "code",
   "execution_count": 348,
   "id": "94b6c7ad-b215-4e1b-9025-f6cdd4af37f0",
   "metadata": {
    "execution": {
     "iopub.execute_input": "2022-02-21T16:07:27.643145Z",
     "iopub.status.busy": "2022-02-21T16:07:27.642600Z",
     "iopub.status.idle": "2022-02-21T16:07:28.369372Z",
     "shell.execute_reply": "2022-02-21T16:07:28.368732Z",
     "shell.execute_reply.started": "2022-02-21T16:07:27.643093Z"
    },
    "tags": []
   },
   "outputs": [
    {
     "data": {
      "text/plain": [
       "[<matplotlib.lines.Line2D at 0x7f6582e3c2b0>]"
      ]
     },
     "execution_count": 348,
     "metadata": {},
     "output_type": "execute_result"
    },
    {
     "data": {
      "image/png": "[encoded data removed]",
      "text/plain": [
       "<Figure size 432x288 with 1 Axes>"
      ]
     },
     "metadata": {
      "needs_background": "light"
     },
     "output_type": "display_data"
    }
   ],
   "source": [
    "import numpy as np\n",
    "x = np.array(filtered_hs)\n",
    "y = np.array(average_ratings)\n",
    "m, b = np.polyfit(x, y, 1)\n",
    "plt.scatter(x,y)\n",
    "plt.plot(x, m*x + b)\n",
    "#plt.savefig('grimm_48-59.png')\n",
    "plt.plot(x, m*x + b)"
   ]
  },
  {
   "cell_type": "code",
   "execution_count": 349,
   "id": "aad44700-9ac8-406c-b209-14a6dd4a308f",
   "metadata": {
    "execution": {
     "iopub.execute_input": "2022-02-21T16:07:29.036010Z",
     "iopub.status.busy": "2022-02-21T16:07:29.035337Z",
     "iopub.status.idle": "2022-02-21T16:07:29.048966Z",
     "shell.execute_reply": "2022-02-21T16:07:29.047957Z",
     "shell.execute_reply.started": "2022-02-21T16:07:29.035908Z"
    },
    "tags": []
   },
   "outputs": [
    {
     "name": "stdout",
     "output_type": "stream",
     "text": [
      "(0.2638615087794221, 0.10456518021882641)\n",
      "SpearmanrResult(correlation=0.2824123587786032, pvalue=0.08151913409934688)\n",
      "KendalltauResult(correlation=0.2019447363588501, pvalue=0.08507199448308252)\n"
     ]
    }
   ],
   "source": [
    "import scipy\n",
    "pea = scipy.stats.pearsonr(x,y) \n",
    "spe = scipy.stats.spearmanr(x,y) \n",
    "ken = scipy.stats.kendalltau(x,y)\n",
    "print(pea)\n",
    "print(spe)\n",
    "print(ken)"
   ]
  },
  {
   "cell_type": "code",
   "execution_count": 274,
   "id": "e31bf5c1-e109-4fcd-b31a-8897116c4d53",
   "metadata": {
    "execution": {
     "iopub.execute_input": "2022-02-21T16:01:34.920925Z",
     "iopub.status.busy": "2022-02-21T16:01:34.920157Z",
     "iopub.status.idle": "2022-02-21T16:01:35.344478Z",
     "shell.execute_reply": "2022-02-21T16:01:35.344002Z",
     "shell.execute_reply.started": "2022-02-21T16:01:34.920856Z"
    },
    "tags": []
   },
   "outputs": [
    {
     "data": {
      "image/png": "[encoded data removed]",
      "text/plain": [
       "<Figure size 2880x1728 with 1 Axes>"
      ]
     },
     "metadata": {
      "needs_background": "light"
     },
     "output_type": "display_data"
    }
   ],
   "source": [
    "annotations = filtered_titles\n",
    "plt.figure(figsize=(40,24))\n",
    "\n",
    "\n",
    "x = np.array(filtered_hs)\n",
    "y = np.array(average_ratings)\n",
    "m, b = np.polyfit(x, y, 1)\n",
    "plt.scatter(x,y)\n",
    "plt.plot(x, m*x + b)\n",
    "\n",
    "for i, label in enumerate(annotations):\n",
    "    plt.annotate(label, (x[i], y[i]))\n",
    "    \n",
    "\n",
    "plt.show()"
   ]
  },
  {
   "cell_type": "code",
   "execution_count": 35,
   "id": "a34aa43c-c412-40d3-a871-c7849f286943",
   "metadata": {
    "execution": {
     "iopub.execute_input": "2022-02-21T14:58:32.374629Z",
     "iopub.status.busy": "2022-02-21T14:58:32.374487Z",
     "iopub.status.idle": "2022-02-21T14:58:32.380131Z",
     "shell.execute_reply": "2022-02-21T14:58:32.378929Z",
     "shell.execute_reply.started": "2022-02-21T14:58:32.374614Z"
    },
    "tags": []
   },
   "outputs": [
    {
     "data": {
      "text/plain": [
       "array([3.35, 3.29, 3.43, 3.13, 2.93, 2.84, 3.  , 3.35, 3.55, 3.82, 2.87,\n",
       "       3.35, 3.52, 2.53, 3.75, 3.02, 4.29, 3.8 , 2.99, 3.74, 4.5 , 3.66,\n",
       "       3.43, 3.83, 3.22, 3.38, 3.08, 2.48, 2.9 , 3.5 , 2.98, 2.15, 2.9 ,\n",
       "       4.28, 3.23, 3.72, 3.22, 4.04, 3.87, 2.98, 2.46, 3.04, 3.02, 3.44,\n",
       "       3.57, 2.87, 3.06, 3.  , 3.81, 4.1 , 3.1 , 3.23, 3.29, 3.48, 3.57,\n",
       "       3.1 , 3.24, 3.77, 3.89, 3.01, 3.77])"
      ]
     },
     "execution_count": 35,
     "metadata": {},
     "output_type": "execute_result"
    }
   ],
   "source": [
    "y"
   ]
  },
  {
   "cell_type": "code",
   "execution_count": 176,
   "id": "a2252550-cee2-45cd-a7ee-82052e4702e2",
   "metadata": {
    "execution": {
     "iopub.execute_input": "2022-02-16T11:10:10.884652Z",
     "iopub.status.busy": "2022-02-16T11:10:10.883959Z",
     "iopub.status.idle": "2022-02-16T11:10:10.890535Z",
     "shell.execute_reply": "2022-02-16T11:10:10.889316Z",
     "shell.execute_reply.started": "2022-02-16T11:10:10.884598Z"
    },
    "tags": []
   },
   "outputs": [],
   "source": [
    "# H1: polyfit?"
   ]
  },
  {
   "cell_type": "code",
   "execution_count": 177,
   "id": "74cce6ca-b87c-4d08-8c73-47c4f8f2016d",
   "metadata": {
    "execution": {
     "iopub.execute_input": "2022-02-16T11:10:11.378802Z",
     "iopub.status.busy": "2022-02-16T11:10:11.378311Z",
     "iopub.status.idle": "2022-02-16T11:10:11.495525Z",
     "shell.execute_reply": "2022-02-16T11:10:11.494942Z",
     "shell.execute_reply.started": "2022-02-16T11:10:11.378754Z"
    },
    "tags": []
   },
   "outputs": [
    {
     "name": "stdout",
     "output_type": "stream",
     "text": [
      "(0.12738044613217198, 0.6382739254698043)\n"
     ]
    },
    {
     "data": {
      "image/png": "[encoded data removed]",
      "text/plain": [
       "<Figure size 432x288 with 1 Axes>"
      ]
     },
     "metadata": {
      "needs_background": "light"
     },
     "output_type": "display_data"
    },
    {
     "data": {
      "text/plain": [
       "{'r_squared': 0.9092114182131691}"
      ]
     },
     "execution_count": 177,
     "metadata": {},
     "output_type": "execute_result"
    }
   ],
   "source": [
    "import numpy as np\n",
    "import scipy\n",
    "import scipy.stats as stats\n",
    "\n",
    "#add legend\n",
    "hours = [6, 9, 12, 12, 15, 21, 24, 24, 27, 30, 36, 39, 45, 48, 57, 60]\n",
    "happ = [12, 18, 30, 42, 48, 78, 90, 96, 96, 90, 84, 78, 66, 54, 36, 24]\n",
    "\n",
    "print(scipy.stats.pearsonr(hours, happ))\n",
    "\n",
    "model = np.poly1d(np.polyfit(hours, happ, 2))\n",
    "\n",
    "#add fitted polynomial line to scatterplot\n",
    "polyline = np.linspace(1, 60)#, 50)\n",
    "plt.scatter(hours, happ)\n",
    "plt.plot(polyline, model(polyline))\n",
    "plt.show()\n",
    "\n",
    "#define function to calculate r-squared\n",
    "def polyfit(x, y, degree):\n",
    "    results = {}\n",
    "    coeffs = np.polyfit(x, y, degree)\n",
    "    p = np.poly1d(coeffs)\n",
    "    #calculate r-squared\n",
    "    yhat = p(x)\n",
    "    ybar = np.sum(y)/len(y)\n",
    "    ssreg = np.sum((yhat-ybar)**2)\n",
    "    sstot = np.sum((y - ybar)**2)\n",
    "    results['r_squared'] = ssreg / sstot\n",
    "\n",
    "    return results\n",
    "\n",
    "#find r-squared of polynomial model with degree = 3\n",
    "polyfit(hours, happ, 2)\n"
   ]
  },
  {
   "cell_type": "code",
   "execution_count": 615,
   "id": "df26080d-043b-4eeb-9b36-09272bab5ca8",
   "metadata": {
    "execution": {
     "iopub.execute_input": "2022-02-16T12:46:15.410085Z",
     "iopub.status.busy": "2022-02-16T12:46:15.409568Z",
     "iopub.status.idle": "2022-02-16T12:46:15.526410Z",
     "shell.execute_reply": "2022-02-16T12:46:15.525825Z",
     "shell.execute_reply.started": "2022-02-16T12:46:15.410033Z"
    },
    "tags": []
   },
   "outputs": [
    {
     "name": "stdout",
     "output_type": "stream",
     "text": [
      "(-0.06670718904894819, 0.6125711196558)\n"
     ]
    },
    {
     "data": {
      "image/png": "[encoded data removed]",
      "text/plain": [
       "<Figure size 432x288 with 1 Axes>"
      ]
     },
     "metadata": {
      "needs_background": "light"
     },
     "output_type": "display_data"
    },
    {
     "data": {
      "text/plain": [
       "{'r_squared': 0.022105193557503615}"
      ]
     },
     "execution_count": 615,
     "metadata": {},
     "output_type": "execute_result"
    }
   ],
   "source": [
    "import numpy as np\n",
    "import scipy\n",
    "import scipy.stats as stats\n",
    "\n",
    "#add legend\n",
    "\n",
    "print(scipy.stats.pearsonr(x, y))\n",
    "\n",
    "model = np.poly1d(np.polyfit(x, y, 2))\n",
    "\n",
    "#add fitted polynomial line to scatterplot\n",
    "polyline = np.linspace(min(x), max(x))#, 50)\n",
    "plt.scatter(x, y)\n",
    "plt.plot(polyline, model(polyline))\n",
    "plt.show()\n",
    "\n",
    "#define function to calculate r-squared\n",
    "def polyfit(x, y, degree):\n",
    "    results = {}\n",
    "    coeffs = np.polyfit(x, y, degree)\n",
    "    p = np.poly1d(coeffs)\n",
    "    #calculate r-squared\n",
    "    yhat = p(x)\n",
    "    ybar = np.sum(y)/len(y)\n",
    "    ssreg = np.sum((yhat-ybar)**2)\n",
    "    sstot = np.sum((y - ybar)**2)\n",
    "    results['r_squared'] = ssreg / sstot\n",
    "\n",
    "    return results\n",
    "\n",
    "#find r-squared of polynomial model with degree = 3\n",
    "polyfit(x, y, 3)\n",
    "\n"
   ]
  },
  {
   "cell_type": "code",
   "execution_count": 621,
   "id": "f75a1028-8feb-4280-b32e-941ff60744e0",
   "metadata": {
    "execution": {
     "iopub.execute_input": "2022-02-16T12:46:51.621164Z",
     "iopub.status.busy": "2022-02-16T12:46:51.620653Z",
     "iopub.status.idle": "2022-02-16T12:46:51.728738Z",
     "shell.execute_reply": "2022-02-16T12:46:51.728144Z",
     "shell.execute_reply.started": "2022-02-16T12:46:51.621113Z"
    },
    "tags": []
   },
   "outputs": [
    {
     "data": {
      "image/png": "[encoded data removed]",
      "text/plain": [
       "<Figure size 432x288 with 1 Axes>"
      ]
     },
     "metadata": {
      "needs_background": "light"
     },
     "output_type": "display_data"
    },
    {
     "name": "stdout",
     "output_type": "stream",
     "text": [
      "0.09729969343168432\n"
     ]
    }
   ],
   "source": [
    "import numpy\n",
    "import matplotlib.pyplot as plt\n",
    "from sklearn.metrics import r2_score\n",
    "\n",
    "mymodel = numpy.poly1d(numpy.polyfit(x, y, 4))\n",
    "\n",
    "myline = numpy.linspace(.5,.6)\n",
    "\n",
    "plt.scatter(x, y)\n",
    "plt.plot(myline, mymodel(myline))\n",
    "plt.show()\n",
    "\n",
    "mymodel = numpy.poly1d(numpy.polyfit(x, y, 4))\n",
    "\n",
    "print(r2_score(y, mymodel(x)))"
   ]
  },
  {
   "cell_type": "code",
   "execution_count": 114,
   "id": "d9f3a999-93d4-4507-ac08-cfe35ff26065",
   "metadata": {
    "execution": {
     "iopub.execute_input": "2022-02-16T10:50:03.940032Z",
     "iopub.status.busy": "2022-02-16T10:50:03.939304Z",
     "iopub.status.idle": "2022-02-16T10:50:04.146642Z",
     "shell.execute_reply": "2022-02-16T10:50:04.146012Z",
     "shell.execute_reply.started": "2022-02-16T10:50:03.939979Z"
    },
    "tags": []
   },
   "outputs": [
    {
     "data": {
      "text/plain": [
       "[<matplotlib.lines.Line2D at 0x7f7ac7b69640>]"
      ]
     },
     "execution_count": 114,
     "metadata": {},
     "output_type": "execute_result"
    },
    {
     "data": {
      "image/png": "[encoded data removed]",
      "text/plain": [
       "<Figure size 432x288 with 1 Axes>"
      ]
     },
     "metadata": {
      "needs_background": "light"
     },
     "output_type": "display_data"
    }
   ],
   "source": [
    "import numpy as np\n",
    "x = np.array(filtered_hs)\n",
    "y = np.array(average_ratings)\n",
    "m, b = np.polyfit(x, y, 1)\n",
    "plt.scatter(x,y)\n",
    "plt.plot(x, m*x + b)"
   ]
  },
  {
   "cell_type": "code",
   "execution_count": 210,
   "id": "9fd4f2f8-8610-4075-a252-0c3891c2d2a6",
   "metadata": {
    "execution": {
     "iopub.execute_input": "2022-02-16T12:02:19.770299Z",
     "iopub.status.busy": "2022-02-16T12:02:19.769819Z",
     "iopub.status.idle": "2022-02-16T12:02:19.933865Z",
     "shell.execute_reply": "2022-02-16T12:02:19.933281Z",
     "shell.execute_reply.started": "2022-02-16T12:02:19.770252Z"
    },
    "tags": []
   },
   "outputs": [
    {
     "data": {
      "text/plain": [
       "<matplotlib.collections.PathCollection at 0x7f78bd3d5d00>"
      ]
     },
     "execution_count": 210,
     "metadata": {},
     "output_type": "execute_result"
    },
    {
     "data": {
      "image/png": "[encoded data removed]",
      "text/plain": [
       "<Figure size 2160x1080 with 1 Axes>"
      ]
     },
     "metadata": {
      "needs_background": "light"
     },
     "output_type": "display_data"
    }
   ],
   "source": [
    "plt.figure(figsize=(30,15))\n",
    "plt.scatter(filtered_hs, average_ratings)"
   ]
  },
  {
   "cell_type": "code",
   "execution_count": null,
   "id": "24434caa-079c-4c39-9df7-c1c0e9d51fc9",
   "metadata": {},
   "outputs": [],
   "source": []
  },
  {
   "cell_type": "code",
   "execution_count": null,
   "id": "1a91d53c-8e69-45bd-81f6-0ec39df11d41",
   "metadata": {},
   "outputs": [],
   "source": []
  },
  {
   "cell_type": "code",
   "execution_count": 181,
   "id": "82c5a410-cce1-4e86-a56e-6149a43525b5",
   "metadata": {
    "execution": {
     "iopub.execute_input": "2022-02-21T15:49:59.007051Z",
     "iopub.status.busy": "2022-02-21T15:49:59.006655Z",
     "iopub.status.idle": "2022-02-21T15:49:59.016038Z",
     "shell.execute_reply": "2022-02-21T15:49:59.015366Z",
     "shell.execute_reply.started": "2022-02-21T15:49:59.007023Z"
    },
    "tags": []
   },
   "outputs": [
    {
     "name": "stdout",
     "output_type": "stream",
     "text": [
      "61\n"
     ]
    }
   ],
   "source": [
    "average_ratings, filtered_hs, filtered_titles = [],[],[]\n",
    "\n",
    "\n",
    "Hs = hursts2\n",
    "\n",
    "matrix_lines = []\n",
    "\n",
    "proper_keys = [k for k in proper_dic.keys() if k in list(Hs.keys())]\n",
    "print(len(proper_keys))\n",
    "\n",
    "#for k in proper_keys:\n",
    "for k in proper_dic.keys():\n",
    "    scores = proper_dic[k]\n",
    "    if len(scores)==3:\n",
    "        goods = scores[1]\n",
    "        nraters = scores[-1]\n",
    "        if k in Hs.keys():\n",
    "            hsc = Hs[k][0]\n",
    "            if 1==1:   #48-59, 56-on #and .56<Hs[k][0]<1  # .57<hsc<.66 and .48<hsc<.6:  #20<goods<3000   #.57<hsc<.65\n",
    "                average_ratings.append(goods) #scores 1 == average ratings. \n",
    "                filtered_hs.append(hsc)\n",
    "                filtered_titles.append(k)\n",
    "                matrix_lines.append((k, hsc, goods, nraters, hsc<.6, hsc>.57))\n",
    "                #print(k,goods, scores[1])\n",
    "        else: print(\"scores not found\")\n",
    "    else: print(k, \" not in H\")"
   ]
  },
  {
   "cell_type": "code",
   "execution_count": 182,
   "id": "ff2aac29-784a-45e8-8ce6-9dc618b9bb47",
   "metadata": {
    "execution": {
     "iopub.execute_input": "2022-02-21T15:49:59.209645Z",
     "iopub.status.busy": "2022-02-21T15:49:59.209351Z",
     "iopub.status.idle": "2022-02-21T15:49:59.706583Z",
     "shell.execute_reply": "2022-02-21T15:49:59.705627Z",
     "shell.execute_reply.started": "2022-02-21T15:49:59.209621Z"
    },
    "tags": []
   },
   "outputs": [
    {
     "data": {
      "text/html": [
       "<div>\n",
       "<style scoped>\n",
       "    .dataframe tbody tr th:only-of-type {\n",
       "        vertical-align: middle;\n",
       "    }\n",
       "\n",
       "    .dataframe tbody tr th {\n",
       "        vertical-align: top;\n",
       "    }\n",
       "\n",
       "    .dataframe thead th {\n",
       "        text-align: right;\n",
       "    }\n",
       "</style>\n",
       "<table border=\"1\" class=\"dataframe\">\n",
       "  <thead>\n",
       "    <tr style=\"text-align: right;\">\n",
       "      <th></th>\n",
       "      <th>title</th>\n",
       "      <th>hurst</th>\n",
       "      <th>avg_rat</th>\n",
       "      <th>_raters</th>\n",
       "      <th>&lt;.6</th>\n",
       "      <th>&gt;.57</th>\n",
       "    </tr>\n",
       "  </thead>\n",
       "  <tbody>\n",
       "    <tr>\n",
       "      <th>the_golden_bird</th>\n",
       "      <td>the_golden_bird</td>\n",
       "      <td>0.55</td>\n",
       "      <td>3.35</td>\n",
       "      <td>329.0</td>\n",
       "      <td>True</td>\n",
       "      <td>False</td>\n",
       "    </tr>\n",
       "    <tr>\n",
       "      <th>hans_in_luck</th>\n",
       "      <td>hans_in_luck</td>\n",
       "      <td>0.58</td>\n",
       "      <td>3.29</td>\n",
       "      <td>218.0</td>\n",
       "      <td>True</td>\n",
       "      <td>True</td>\n",
       "    </tr>\n",
       "    <tr>\n",
       "      <th>jorinda_and_jorindel</th>\n",
       "      <td>jorinda_and_jorindel</td>\n",
       "      <td>0.59</td>\n",
       "      <td>3.43</td>\n",
       "      <td>28.0</td>\n",
       "      <td>True</td>\n",
       "      <td>True</td>\n",
       "    </tr>\n",
       "    <tr>\n",
       "      <th>the_travelling_musicians</th>\n",
       "      <td>the_travelling_musicians</td>\n",
       "      <td>0.61</td>\n",
       "      <td>3.13</td>\n",
       "      <td>16.0</td>\n",
       "      <td>False</td>\n",
       "      <td>True</td>\n",
       "    </tr>\n",
       "    <tr>\n",
       "      <th>old_sultan</th>\n",
       "      <td>old_sultan</td>\n",
       "      <td>0.64</td>\n",
       "      <td>2.93</td>\n",
       "      <td>142.0</td>\n",
       "      <td>False</td>\n",
       "      <td>True</td>\n",
       "    </tr>\n",
       "    <tr>\n",
       "      <th>...</th>\n",
       "      <td>...</td>\n",
       "      <td>...</td>\n",
       "      <td>...</td>\n",
       "      <td>...</td>\n",
       "      <td>...</td>\n",
       "      <td>...</td>\n",
       "    </tr>\n",
       "    <tr>\n",
       "      <th>the_story_of_the_youth_who_went_forth_to_learn_what_fear_was</th>\n",
       "      <td>the_story_of_the_youth_who_went_forth_to_learn...</td>\n",
       "      <td>0.67</td>\n",
       "      <td>3.24</td>\n",
       "      <td>163.0</td>\n",
       "      <td>False</td>\n",
       "      <td>True</td>\n",
       "    </tr>\n",
       "    <tr>\n",
       "      <th>king_grisly-beard</th>\n",
       "      <td>king_grisly-beard</td>\n",
       "      <td>0.59</td>\n",
       "      <td>3.77</td>\n",
       "      <td>216.0</td>\n",
       "      <td>True</td>\n",
       "      <td>True</td>\n",
       "    </tr>\n",
       "    <tr>\n",
       "      <th>iron_hans</th>\n",
       "      <td>iron_hans</td>\n",
       "      <td>0.63</td>\n",
       "      <td>3.89</td>\n",
       "      <td>57.0</td>\n",
       "      <td>False</td>\n",
       "      <td>True</td>\n",
       "    </tr>\n",
       "    <tr>\n",
       "      <th>cat-skin</th>\n",
       "      <td>cat-skin</td>\n",
       "      <td>0.56</td>\n",
       "      <td>3.01</td>\n",
       "      <td>76.0</td>\n",
       "      <td>True</td>\n",
       "      <td>False</td>\n",
       "    </tr>\n",
       "    <tr>\n",
       "      <th>snow-white_and_rose-red</th>\n",
       "      <td>snow-white_and_rose-red</td>\n",
       "      <td>0.66</td>\n",
       "      <td>3.77</td>\n",
       "      <td>879.0</td>\n",
       "      <td>False</td>\n",
       "      <td>True</td>\n",
       "    </tr>\n",
       "  </tbody>\n",
       "</table>\n",
       "<p>61 rows × 6 columns</p>\n",
       "</div>"
      ],
      "text/plain": [
       "                                                                                                title  \\\n",
       "the_golden_bird                                                                       the_golden_bird   \n",
       "hans_in_luck                                                                             hans_in_luck   \n",
       "jorinda_and_jorindel                                                             jorinda_and_jorindel   \n",
       "the_travelling_musicians                                                     the_travelling_musicians   \n",
       "old_sultan                                                                                 old_sultan   \n",
       "...                                                                                               ...   \n",
       "the_story_of_the_youth_who_went_forth_to_learn_...  the_story_of_the_youth_who_went_forth_to_learn...   \n",
       "king_grisly-beard                                                                   king_grisly-beard   \n",
       "iron_hans                                                                                   iron_hans   \n",
       "cat-skin                                                                                     cat-skin   \n",
       "snow-white_and_rose-red                                                       snow-white_and_rose-red   \n",
       "\n",
       "                                                    hurst  avg_rat  _raters  \\\n",
       "the_golden_bird                                      0.55     3.35    329.0   \n",
       "hans_in_luck                                         0.58     3.29    218.0   \n",
       "jorinda_and_jorindel                                 0.59     3.43     28.0   \n",
       "the_travelling_musicians                             0.61     3.13     16.0   \n",
       "old_sultan                                           0.64     2.93    142.0   \n",
       "...                                                   ...      ...      ...   \n",
       "the_story_of_the_youth_who_went_forth_to_learn_...   0.67     3.24    163.0   \n",
       "king_grisly-beard                                    0.59     3.77    216.0   \n",
       "iron_hans                                            0.63     3.89     57.0   \n",
       "cat-skin                                             0.56     3.01     76.0   \n",
       "snow-white_and_rose-red                              0.66     3.77    879.0   \n",
       "\n",
       "                                                      <.6   >.57  \n",
       "the_golden_bird                                      True  False  \n",
       "hans_in_luck                                         True   True  \n",
       "jorinda_and_jorindel                                 True   True  \n",
       "the_travelling_musicians                            False   True  \n",
       "old_sultan                                          False   True  \n",
       "...                                                   ...    ...  \n",
       "the_story_of_the_youth_who_went_forth_to_learn_...  False   True  \n",
       "king_grisly-beard                                    True   True  \n",
       "iron_hans                                           False   True  \n",
       "cat-skin                                             True  False  \n",
       "snow-white_and_rose-red                             False   True  \n",
       "\n",
       "[61 rows x 6 columns]"
      ]
     },
     "execution_count": 182,
     "metadata": {},
     "output_type": "execute_result"
    }
   ],
   "source": [
    "import pandas as pd\n",
    "\n",
    "frame = pd.DataFrame(matrix_lines, index=filtered_titles,\n",
    "                     columns=['title','hurst','avg_rat', '_raters','<.6','>.57'])\n",
    "frame"
   ]
  },
  {
   "cell_type": "code",
   "execution_count": 190,
   "id": "80a33827-fbe0-4294-86eb-8d987f5796bb",
   "metadata": {
    "execution": {
     "iopub.execute_input": "2022-02-21T15:52:03.682592Z",
     "iopub.status.busy": "2022-02-21T15:52:03.682083Z",
     "iopub.status.idle": "2022-02-21T15:52:04.216738Z",
     "shell.execute_reply": "2022-02-21T15:52:04.216019Z",
     "shell.execute_reply.started": "2022-02-21T15:52:03.682556Z"
    },
    "tags": []
   },
   "outputs": [
    {
     "data": {
      "text/plain": [
       "<seaborn.axisgrid.FacetGrid at 0x7f6588166a90>"
      ]
     },
     "execution_count": 190,
     "metadata": {},
     "output_type": "execute_result"
    },
    {
     "data": {
      "image/png": "[encoded data removed]",
      "text/plain": [
       "<Figure size 421.25x360 with 1 Axes>"
      ]
     },
     "metadata": {
      "needs_background": "light"
     },
     "output_type": "display_data"
    }
   ],
   "source": [
    "import seaborn as sns\n",
    "sns.lmplot(x='hurst', y='avg_rat', hue='>.57', data=frame)"
   ]
  },
  {
   "cell_type": "code",
   "execution_count": null,
   "id": "737d26d9-89af-430f-9961-e5aa1d30bffa",
   "metadata": {},
   "outputs": [],
   "source": []
  }
 ],
 "metadata": {
  "kernelspec": {
   "display_name": "Python 3 ",
   "language": "python",
   "name": "python3"
  },
  "language_info": {
   "codemirror_mode": {
    "name": "ipython",
    "version": 3
   },
   "file_extension": ".py",
   "mimetype": "text/x-python",
   "name": "python",
   "nbconvert_exporter": "python",
   "pygments_lexer": "ipython3",
   "version": "3.9.10"
  }
 },
 "nbformat": 4,
 "nbformat_minor": 5
}
