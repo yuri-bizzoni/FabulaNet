{
 "cells": [
  {
   "cell_type": "code",
   "execution_count": 3,
   "id": "67b91df4-9ba1-4487-a96a-41667a6b242f",
   "metadata": {},
   "outputs": [
    {
     "name": "stdout",
     "output_type": "stream",
     "text": [
      "Notebook on\n"
     ]
    }
   ],
   "source": [
    "print('Success vs Failure')"
   ]
  },
  {
   "cell_type": "code",
   "execution_count": 4,
   "id": "a2bcd17c-fb7d-43d3-9bb5-b11bf613b5c7",
   "metadata": {
    "tags": []
   },
   "outputs": [],
   "source": [
    "import glob\n",
    "import pandas as pd\n",
    "import figs\n",
    "import seaborn as sns\n",
    "import numpy as np\n",
    "from matplotlib import pyplot as plt\n",
    "from scipy.stats import chisquare\n",
    "from scipy import stats\n",
    "import nltk"
   ]
  },
  {
   "cell_type": "code",
   "execution_count": 5,
   "id": "04f6f545-354e-4ca9-9fbd-86e4dcac63a3",
   "metadata": {},
   "outputs": [],
   "source": [
    "import json\n",
    "import figs\n",
    "import glob"
   ]
  },
  {
   "cell_type": "code",
   "execution_count": 6,
   "id": "32c1ca8e-355d-4207-a4a7-d759d128b82c",
   "metadata": {},
   "outputs": [],
   "source": [
    "from sklearn import svm, linear_model, cluster\n",
    "from sklearn.neighbors import KNeighborsClassifier\n",
    "from sklearn.tree import DecisionTreeClassifier\n",
    "from sklearn.ensemble import RandomForestClassifier, AdaBoostClassifier\n",
    "from sklearn.naive_bayes import GaussianNB, MultinomialNB\n",
    "from sklearn.neural_network import MLPClassifier,BernoulliRBM\n",
    "from sklearn.gaussian_process import GaussianProcessClassifier\n",
    "from sklearn.model_selection import train_test_split\n",
    "from sklearn.metrics import f1_score, balanced_accuracy_score\n",
    "from sklearn.discriminant_analysis import QuadraticDiscriminantAnalysis, LinearDiscriminantAnalysis\n",
    "from sklearn import naive_bayes, ensemble\n",
    "from sklearn.ensemble import ExtraTreesClassifier\n",
    "from sklearn.tree import DecisionTreeClassifier"
   ]
  },
  {
   "cell_type": "code",
   "execution_count": null,
   "id": "45ee8f19-14c9-42e3-843b-a4d3d94841bc",
   "metadata": {},
   "outputs": [],
   "source": []
  },
  {
   "cell_type": "code",
   "execution_count": null,
   "id": "3c722146-4580-47a0-8c69-140088f4e1d3",
   "metadata": {},
   "outputs": [],
   "source": []
  },
  {
   "cell_type": "code",
   "execution_count": 7,
   "id": "7b63faa1-2443-499c-944e-39d982eec7c8",
   "metadata": {},
   "outputs": [],
   "source": [
    "def path2texts(path):\n",
    "    \n",
    "    \"\"\" Path to success or failure \"\"\"\n",
    "    \n",
    "    texts = []\n",
    "    for el in glob.glob(path):\n",
    "        try:\n",
    "            text = open(el).read()\n",
    "            title = el.split('_')[-1]\n",
    "            texts.append((title,text))\n",
    "        except:\n",
    "            ''\n",
    "            \n",
    "    return texts\n",
    "\n",
    "\n",
    "def computing_features(texts):\n",
    "    \n",
    "    h_values = []\n",
    "    ttr_values = []\n",
    "    arcs = []\n",
    "    \n",
    "    for double in texts: \n",
    "        \n",
    "        title,text = double\n",
    "    \n",
    "        print(title, len(text))\n",
    "\n",
    "        words = nltk.wordpunct_tokenize(text)\n",
    "        ttr = len(list(set(words)))/len(words)\n",
    "        \n",
    "        arc = figs.sentimarc_sid(text)\n",
    "        #if len(arc)>300: \n",
    "        h = figs.get_Hurst(arc)\n",
    "\n",
    "        arcs.append(arc)\n",
    "        h_values.append(h)\n",
    "        ttr_values.append(ttr)\n",
    "        \n",
    "    return h_values, ttr_values, arcs\n",
    "\n",
    "\n",
    "def features_and_labels(h_values, ttr_values, arcs, label_name):\n",
    "    labels = []\n",
    "    X = []\n",
    "\n",
    "    #n=140  #fixed n best for love stories?\n",
    "\n",
    "    for i in range(len(h_values)):\n",
    "        labels.append(label_name)\n",
    "        l=len(arcs[i])\n",
    "        n=int(l/6)\n",
    "        X.append((h_values[i], abs(h_values[i]-0.6),\n",
    "                  ttr_values[i], arcs[i][-1],\n",
    "                  np.mean(arcs[i]),\n",
    "                   np.mean(arcs[i][-n:]), np.mean(arcs[i][:n])\n",
    "                 ))\n",
    "        \n",
    "    return X,labels\n",
    "\n",
    "\n",
    "def path2features(path, label_name):\n",
    "    \n",
    "    \"\"\"Feed an emotion flow path and a label name\"\"\"\n",
    "    \n",
    "    texts_set = path2texts(path)\n",
    "    \n",
    "    hs,ts,ar = computing_features(texts_set)\n",
    "    \n",
    "    X, labels = features_and_labels(hs,ts,ar,label_name)\n",
    "    \n",
    "    return X, labels"
   ]
  },
  {
   "cell_type": "code",
   "execution_count": 56,
   "id": "b546945f-9bbb-4f09-aff2-573a119a4fcf",
   "metadata": {
    "collapsed": true,
    "jupyter": {
     "outputs_hidden": true
    },
    "tags": []
   },
   "outputs": [
    {
     "name": "stdout",
     "output_type": "stream",
     "text": [
      "if+winter+comes.txt 643882\n",
      "moon+and+sixpence.txt 407464\n",
      "the+lesson+of+the+master.txt 138148\n",
      "the+poor+plutocrats.txt 561627\n",
      "dangerous+ages.txt 361751\n",
      "the+malefactor.txt 404478\n",
      "the+keeper+of+the+door.txt 928092\n",
      "a+knight+of+the+cumberland.txt 113183\n",
      "born+again.txt 344755\n",
      "youth+a+narrative.txt 71152\n",
      "the+daughters+of+danaus.txt 900635\n",
      "absolution.txt 525495\n",
      "mcteague.txt 636751\n",
      "phantastes+a+faerie+romance+for+men+and+women.txt 384826\n",
      "whirligigs.txt 428528\n",
      "error\n",
      "debts+of+honor.txt 724401\n",
      "penrod+and+sam.txt 382686\n",
      "the+altar+of+the+dead.txt 80839\n",
      "majorie+daw.txt 40399\n",
      "roderick+hudson.txt 737166\n",
      "penguin+island.txt 470067\n",
      "contrary+mary.txt 468435\n",
      "just+david.txt 327040\n",
      "error\n",
      "captain+fracasse.txt 906088\n",
      "roads+of+destiny.txt 545781\n",
      "ishmael+or+in+the+depths.txt 1206529\n",
      "main+street.txt 947692\n",
      "of+human+bondage.txt 1410680\n",
      "the+alchemist's+secret.txt 188565\n",
      "the+financier+a+novel.txt 1094846\n",
      "the+beast+in+the+jungle.txt 101909\n",
      "amaryllis+at+the+fair.txt 399875\n",
      "michael+brother+of+jerry.txt 545300\n",
      "cruel+as+the+grave.txt 611565\n",
      "the+end+of+the+tether.txt 289786\n",
      "paul+kelver+a+novel.txt 756679\n",
      "margret+howth+a+story+of+today.txt 321195\n",
      "the+wrong+box.txt 325664\n",
      "miss+billy's+decision.txt 399239\n",
      "the+romany+rye.txt 888812\n",
      "her+mother's+secret.txt 530794\n",
      "mrs+warren's+profession.txt 193597\n",
      "error\n",
      "alice+adams.txt 469898\n",
      "montezuma's+daughter.txt 783714\n",
      "dolly+dialogues.txt 156232\n",
      "the+adventures+of+jimmie+dale.txt 885044\n",
      "the+flirt.txt 406701\n",
      "jerry+of+the+islands.txt 395115\n",
      "the+exemplary+novels+of+cervantes.txt 1014979\n",
      "the+lost+lady+of+lone.txt 900340\n",
      "vandover+and+the+brute.txt 556338\n",
      "embarrassments.txt 335255\n",
      "novel+notes.txt 379575\n",
      "the+lee+shore.txt 503531\n",
      "bunker+bean.txt 410164\n",
      "error\n",
      "the+absentee.txt 578336\n",
      "my+lady+caprice.txt 221362\n",
      "the+voyage+out.txt 765243\n",
      "nada+the+lily.txt 604841\n",
      "the+harbor.txt 656940\n",
      "the+wrecker.txt 765368\n",
      "kingdom+of+the+blind.txt 393320\n",
      "the+story+of+a+bad+boy.txt 314896\n",
      "garman+and+worse+a+norwegian+novel.txt 421748\n",
      "the+people+of+the+abyss.txt 349037\n",
      "the+benefactress.txt 641804\n",
      "red+pottage.txt 645048\n",
      "error\n",
      "the+pleasant+street.txt 260564\n",
      "lin+mclean.txt 398365\n",
      "the+shuttle.txt 1188427\n",
      "harvest.txt 423326\n",
      "error\n",
      "last+days+of+pompeii.txt 868976\n",
      "martin+chuzzlewit.txt 1880381\n",
      "the+house+of+martha.txt 491471\n",
      "the+gentle+grafter.txt 240332\n",
      "the+doctor's+family.txt 305502\n",
      "in+the+shadow+of+the+hills.txt 470860\n",
      "the+baronet's+bride+or+a+woman's+vengeance.txt 441281\n",
      "the+europeans.txt 334696\n",
      "the+courage+of+marge+o'doone.txt 470530\n",
      "when+a+man+marries.txt 297109\n",
      "\n"
     ]
    }
   ],
   "source": [
    "path_to_success = 'emotion_flow-master/data/data_all/Fiction/success/*'\n",
    "path_to_failure = 'emotion_flow-master/data/data_all/Fiction/failure/*'\n",
    "\n",
    "# 'book_eacl/Fiction/success/*' #\n",
    "X_success, y_success = path2features(path_to_success, 's')\n",
    "\n",
    "print()\n",
    "\n",
    "\n",
    "#X_failure, y_faillure = path2features(path_to_failure, 'f')"
   ]
  },
  {
   "cell_type": "code",
   "execution_count": null,
   "id": "fec14912-37d8-48e8-a4c8-0e753a54eccb",
   "metadata": {
    "collapsed": true,
    "jupyter": {
     "outputs_hidden": true
    },
    "tags": []
   },
   "outputs": [],
   "source": []
  },
  {
   "cell_type": "code",
   "execution_count": 57,
   "id": "d0aa92a0-293e-423d-8542-4f78c328006e",
   "metadata": {},
   "outputs": [],
   "source": [
    "with open('eacl_fiction_success.json', 'w') as fp:\n",
    "    json.dump(X_success, fp)\n",
    "    \n",
    "with open('eacl_fiction_failure.json', 'w') as fp:\n",
    "    json.dump(X_failure, fp)"
   ]
  },
  {
   "cell_type": "code",
   "execution_count": 58,
   "id": "045ffbff-fb07-47bb-a785-85bf81efd6cd",
   "metadata": {},
   "outputs": [],
   "source": [
    "import json\n",
    " \n",
    "# Opening JSON file\n",
    "with open('eacl_fiction_success.json') as json_file:\n",
    "    X_success = json.load(json_file)\n",
    "    \n",
    "with open('eacl_fiction_failure.json') as json_file:\n",
    "    X_failure = json.load(json_file)\n",
    "    \n",
    "y_success, y_failure = ['s' for el in X_success], ['f' for el in X_failure]"
   ]
  },
  {
   "cell_type": "code",
   "execution_count": null,
   "id": "bc50e656-4190-4326-9f2b-0eb519b0adcf",
   "metadata": {},
   "outputs": [],
   "source": []
  },
  {
   "cell_type": "code",
   "execution_count": 27,
   "id": "6f2a6952-5de5-48d0-9d21-a492a3aa7843",
   "metadata": {},
   "outputs": [
    {
     "data": {
      "text/plain": [
       "(81, 30)"
      ]
     },
     "execution_count": 27,
     "metadata": {},
     "output_type": "execute_result"
    }
   ],
   "source": [
    "len(y_success), len(y_failure)"
   ]
  },
  {
   "cell_type": "code",
   "execution_count": 40,
   "id": "5f0162d4-453d-4a4b-a7be-21258032ff4f",
   "metadata": {},
   "outputs": [],
   "source": [
    "X = X_success + X_failure\n",
    "labels = y_success + y_failure"
   ]
  },
  {
   "cell_type": "code",
   "execution_count": 41,
   "id": "d2cf79b5-60aa-4544-9b2e-09a13289ed9a",
   "metadata": {},
   "outputs": [
    {
     "data": {
      "text/plain": [
       "(111, 111)"
      ]
     },
     "execution_count": 41,
     "metadata": {},
     "output_type": "execute_result"
    }
   ],
   "source": [
    "len(X) ,len(labels)"
   ]
  },
  {
   "cell_type": "code",
   "execution_count": null,
   "id": "7d6602b1-29b8-4edd-beee-73f16819016a",
   "metadata": {},
   "outputs": [],
   "source": []
  },
  {
   "cell_type": "code",
   "execution_count": 35,
   "id": "6f7df6dd",
   "metadata": {},
   "outputs": [],
   "source": [
    "from sklearn import svm, linear_model, cluster\n",
    "from sklearn.neighbors import KNeighborsClassifier\n",
    "from sklearn.tree import DecisionTreeClassifier\n",
    "from sklearn.ensemble import RandomForestClassifier, AdaBoostClassifier\n",
    "from sklearn.naive_bayes import GaussianNB, MultinomialNB\n",
    "from sklearn.neural_network import MLPClassifier,BernoulliRBM\n",
    "from sklearn.gaussian_process import GaussianProcessClassifier\n",
    "from sklearn.model_selection import train_test_split\n",
    "from sklearn.metrics import f1_score, balanced_accuracy_score\n",
    "from sklearn.discriminant_analysis import QuadraticDiscriminantAnalysis, LinearDiscriminantAnalysis\n",
    "from sklearn import naive_bayes, ensemble\n",
    "from sklearn.ensemble import ExtraTreesClassifier\n",
    "from sklearn.tree import DecisionTreeClassifier\n",
    "\n",
    "from sklearn.model_selection import cross_val_score, KFold, ShuffleSplit, RepeatedKFold"
   ]
  },
  {
   "cell_type": "code",
   "execution_count": null,
   "id": "02197c15-5aa2-4f61-8b7c-fff5c3254934",
   "metadata": {},
   "outputs": [],
   "source": []
  },
  {
   "cell_type": "code",
   "execution_count": 36,
   "id": "69a6031f-5afb-4fa7-834a-e86372f10547",
   "metadata": {},
   "outputs": [],
   "source": [
    "classifiers_scores = {}"
   ]
  },
  {
   "cell_type": "code",
   "execution_count": 37,
   "id": "4fb20499-4428-42c8-bbd4-27d2ac9b5e52",
   "metadata": {},
   "outputs": [],
   "source": [
    "classifiers = [#linear_model.LogisticRegression,\n",
    "               GaussianNB,\n",
    "               LinearDiscriminantAnalysis,\n",
    "               RandomForestClassifier, \n",
    "               svm.SVC,GaussianProcessClassifier,\n",
    "               QuadraticDiscriminantAnalysis,\n",
    "               #MLPClassifier,, BernoulliRBM,\n",
    "                ]\n",
    "ensemble_classifiers = [ensemble.StackingClassifier, ensemble.VotingClassifier]"
   ]
  },
  {
   "cell_type": "code",
   "execution_count": null,
   "id": "de93a90d-a9a1-4860-802f-af27d2d73c9e",
   "metadata": {},
   "outputs": [],
   "source": []
  },
  {
   "cell_type": "code",
   "execution_count": 38,
   "id": "b9d049eb-a613-4bad-87b2-8d9dbb4d41b8",
   "metadata": {},
   "outputs": [],
   "source": [
    "#clf = my_clf(estimators = [('q',QuadraticDiscriminantAnalysis()), ('gaussian',GaussianNB()),('linear2', LinearDiscriminantAnalysis()), ('forest',RandomForestClassifier())])"
   ]
  },
  {
   "cell_type": "code",
   "execution_count": 39,
   "id": "f055bd9f-63dc-4261-9ce2-25fd4a0ead7b",
   "metadata": {
    "tags": []
   },
   "outputs": [
    {
     "name": "stdout",
     "output_type": "stream",
     "text": [
      "GaussianNB()\n"
     ]
    },
    {
     "ename": "ValueError",
     "evalue": "Found input variables with inconsistent numbers of samples: [1, 111]",
     "output_type": "error",
     "traceback": [
      "\u001b[0;31m---------------------------------------------------------------------------\u001b[0m",
      "\u001b[0;31mValueError\u001b[0m                                Traceback (most recent call last)",
      "\u001b[0;32m/var/folders/tq/cn4jbv_11413jnwjpr13y82cxp6nzv/T/ipykernel_35482/1696044453.py\u001b[0m in \u001b[0;36m<module>\u001b[0;34m\u001b[0m\n\u001b[1;32m      8\u001b[0m     \u001b[0mcv_\u001b[0m \u001b[0;34m=\u001b[0m \u001b[0mRepeatedKFold\u001b[0m\u001b[0;34m(\u001b[0m\u001b[0mn_splits\u001b[0m\u001b[0;34m=\u001b[0m\u001b[0;36m10\u001b[0m\u001b[0;34m,\u001b[0m \u001b[0mn_repeats\u001b[0m\u001b[0;34m=\u001b[0m\u001b[0;36m2\u001b[0m\u001b[0;34m,\u001b[0m \u001b[0mrandom_state\u001b[0m\u001b[0;34m=\u001b[0m\u001b[0;36m10\u001b[0m\u001b[0;34m)\u001b[0m\u001b[0;34m\u001b[0m\u001b[0;34m\u001b[0m\u001b[0m\n\u001b[1;32m      9\u001b[0m \u001b[0;34m\u001b[0m\u001b[0m\n\u001b[0;32m---> 10\u001b[0;31m     \u001b[0maverage_repeated_f_score\u001b[0m \u001b[0;34m=\u001b[0m \u001b[0mnp\u001b[0m\u001b[0;34m.\u001b[0m\u001b[0mmean\u001b[0m\u001b[0;34m(\u001b[0m\u001b[0mcross_val_score\u001b[0m\u001b[0;34m(\u001b[0m\u001b[0mclf\u001b[0m\u001b[0;34m,\u001b[0m \u001b[0mX\u001b[0m\u001b[0;34m,\u001b[0m \u001b[0mlabels\u001b[0m\u001b[0;34m,\u001b[0m \u001b[0mcv\u001b[0m\u001b[0;34m=\u001b[0m\u001b[0mcv_\u001b[0m\u001b[0;34m,\u001b[0m \u001b[0mscoring\u001b[0m\u001b[0;34m=\u001b[0m\u001b[0;34m'f1_weighted'\u001b[0m\u001b[0;34m,\u001b[0m \u001b[0mn_jobs\u001b[0m\u001b[0;34m=\u001b[0m\u001b[0;34m-\u001b[0m\u001b[0;36m1\u001b[0m\u001b[0;34m)\u001b[0m\u001b[0;34m)\u001b[0m\u001b[0;34m\u001b[0m\u001b[0;34m\u001b[0m\u001b[0m\n\u001b[0m\u001b[1;32m     11\u001b[0m     \u001b[0maverage_tenfold_f_score\u001b[0m \u001b[0;34m=\u001b[0m \u001b[0mnp\u001b[0m\u001b[0;34m.\u001b[0m\u001b[0mmean\u001b[0m\u001b[0;34m(\u001b[0m\u001b[0mcross_val_score\u001b[0m\u001b[0;34m(\u001b[0m\u001b[0mclf\u001b[0m\u001b[0;34m,\u001b[0m \u001b[0mX\u001b[0m\u001b[0;34m,\u001b[0m \u001b[0mlabels\u001b[0m\u001b[0;34m,\u001b[0m \u001b[0mcv\u001b[0m\u001b[0;34m=\u001b[0m\u001b[0;36m5\u001b[0m\u001b[0;34m,\u001b[0m\u001b[0mscoring\u001b[0m\u001b[0;34m=\u001b[0m\u001b[0;34m'f1_weighted'\u001b[0m\u001b[0;34m)\u001b[0m\u001b[0;34m)\u001b[0m\u001b[0;34m\u001b[0m\u001b[0;34m\u001b[0m\u001b[0m\n\u001b[1;32m     12\u001b[0m \u001b[0;34m\u001b[0m\u001b[0m\n",
      "\u001b[0;32m~/opt/anaconda3/lib/python3.9/site-packages/sklearn/utils/validation.py\u001b[0m in \u001b[0;36minner_f\u001b[0;34m(*args, **kwargs)\u001b[0m\n\u001b[1;32m     61\u001b[0m             \u001b[0mextra_args\u001b[0m \u001b[0;34m=\u001b[0m \u001b[0mlen\u001b[0m\u001b[0;34m(\u001b[0m\u001b[0margs\u001b[0m\u001b[0;34m)\u001b[0m \u001b[0;34m-\u001b[0m \u001b[0mlen\u001b[0m\u001b[0;34m(\u001b[0m\u001b[0mall_args\u001b[0m\u001b[0;34m)\u001b[0m\u001b[0;34m\u001b[0m\u001b[0;34m\u001b[0m\u001b[0m\n\u001b[1;32m     62\u001b[0m             \u001b[0;32mif\u001b[0m \u001b[0mextra_args\u001b[0m \u001b[0;34m<=\u001b[0m \u001b[0;36m0\u001b[0m\u001b[0;34m:\u001b[0m\u001b[0;34m\u001b[0m\u001b[0;34m\u001b[0m\u001b[0m\n\u001b[0;32m---> 63\u001b[0;31m                 \u001b[0;32mreturn\u001b[0m \u001b[0mf\u001b[0m\u001b[0;34m(\u001b[0m\u001b[0;34m*\u001b[0m\u001b[0margs\u001b[0m\u001b[0;34m,\u001b[0m \u001b[0;34m**\u001b[0m\u001b[0mkwargs\u001b[0m\u001b[0;34m)\u001b[0m\u001b[0;34m\u001b[0m\u001b[0;34m\u001b[0m\u001b[0m\n\u001b[0m\u001b[1;32m     64\u001b[0m \u001b[0;34m\u001b[0m\u001b[0m\n\u001b[1;32m     65\u001b[0m             \u001b[0;31m# extra_args > 0\u001b[0m\u001b[0;34m\u001b[0m\u001b[0;34m\u001b[0m\u001b[0m\n",
      "\u001b[0;32m~/opt/anaconda3/lib/python3.9/site-packages/sklearn/model_selection/_validation.py\u001b[0m in \u001b[0;36mcross_val_score\u001b[0;34m(estimator, X, y, groups, scoring, cv, n_jobs, verbose, fit_params, pre_dispatch, error_score)\u001b[0m\n\u001b[1;32m    443\u001b[0m     \u001b[0mscorer\u001b[0m \u001b[0;34m=\u001b[0m \u001b[0mcheck_scoring\u001b[0m\u001b[0;34m(\u001b[0m\u001b[0mestimator\u001b[0m\u001b[0;34m,\u001b[0m \u001b[0mscoring\u001b[0m\u001b[0;34m=\u001b[0m\u001b[0mscoring\u001b[0m\u001b[0;34m)\u001b[0m\u001b[0;34m\u001b[0m\u001b[0;34m\u001b[0m\u001b[0m\n\u001b[1;32m    444\u001b[0m \u001b[0;34m\u001b[0m\u001b[0m\n\u001b[0;32m--> 445\u001b[0;31m     cv_results = cross_validate(estimator=estimator, X=X, y=y, groups=groups,\n\u001b[0m\u001b[1;32m    446\u001b[0m                                 \u001b[0mscoring\u001b[0m\u001b[0;34m=\u001b[0m\u001b[0;34m{\u001b[0m\u001b[0;34m'score'\u001b[0m\u001b[0;34m:\u001b[0m \u001b[0mscorer\u001b[0m\u001b[0;34m}\u001b[0m\u001b[0;34m,\u001b[0m \u001b[0mcv\u001b[0m\u001b[0;34m=\u001b[0m\u001b[0mcv\u001b[0m\u001b[0;34m,\u001b[0m\u001b[0;34m\u001b[0m\u001b[0;34m\u001b[0m\u001b[0m\n\u001b[1;32m    447\u001b[0m                                 \u001b[0mn_jobs\u001b[0m\u001b[0;34m=\u001b[0m\u001b[0mn_jobs\u001b[0m\u001b[0;34m,\u001b[0m \u001b[0mverbose\u001b[0m\u001b[0;34m=\u001b[0m\u001b[0mverbose\u001b[0m\u001b[0;34m,\u001b[0m\u001b[0;34m\u001b[0m\u001b[0;34m\u001b[0m\u001b[0m\n",
      "\u001b[0;32m~/opt/anaconda3/lib/python3.9/site-packages/sklearn/utils/validation.py\u001b[0m in \u001b[0;36minner_f\u001b[0;34m(*args, **kwargs)\u001b[0m\n\u001b[1;32m     61\u001b[0m             \u001b[0mextra_args\u001b[0m \u001b[0;34m=\u001b[0m \u001b[0mlen\u001b[0m\u001b[0;34m(\u001b[0m\u001b[0margs\u001b[0m\u001b[0;34m)\u001b[0m \u001b[0;34m-\u001b[0m \u001b[0mlen\u001b[0m\u001b[0;34m(\u001b[0m\u001b[0mall_args\u001b[0m\u001b[0;34m)\u001b[0m\u001b[0;34m\u001b[0m\u001b[0;34m\u001b[0m\u001b[0m\n\u001b[1;32m     62\u001b[0m             \u001b[0;32mif\u001b[0m \u001b[0mextra_args\u001b[0m \u001b[0;34m<=\u001b[0m \u001b[0;36m0\u001b[0m\u001b[0;34m:\u001b[0m\u001b[0;34m\u001b[0m\u001b[0;34m\u001b[0m\u001b[0m\n\u001b[0;32m---> 63\u001b[0;31m                 \u001b[0;32mreturn\u001b[0m \u001b[0mf\u001b[0m\u001b[0;34m(\u001b[0m\u001b[0;34m*\u001b[0m\u001b[0margs\u001b[0m\u001b[0;34m,\u001b[0m \u001b[0;34m**\u001b[0m\u001b[0mkwargs\u001b[0m\u001b[0;34m)\u001b[0m\u001b[0;34m\u001b[0m\u001b[0;34m\u001b[0m\u001b[0m\n\u001b[0m\u001b[1;32m     64\u001b[0m \u001b[0;34m\u001b[0m\u001b[0m\n\u001b[1;32m     65\u001b[0m             \u001b[0;31m# extra_args > 0\u001b[0m\u001b[0;34m\u001b[0m\u001b[0;34m\u001b[0m\u001b[0m\n",
      "\u001b[0;32m~/opt/anaconda3/lib/python3.9/site-packages/sklearn/model_selection/_validation.py\u001b[0m in \u001b[0;36mcross_validate\u001b[0;34m(estimator, X, y, groups, scoring, cv, n_jobs, verbose, fit_params, pre_dispatch, return_train_score, return_estimator, error_score)\u001b[0m\n\u001b[1;32m    233\u001b[0m \u001b[0;34m\u001b[0m\u001b[0m\n\u001b[1;32m    234\u001b[0m     \"\"\"\n\u001b[0;32m--> 235\u001b[0;31m     \u001b[0mX\u001b[0m\u001b[0;34m,\u001b[0m \u001b[0my\u001b[0m\u001b[0;34m,\u001b[0m \u001b[0mgroups\u001b[0m \u001b[0;34m=\u001b[0m \u001b[0mindexable\u001b[0m\u001b[0;34m(\u001b[0m\u001b[0mX\u001b[0m\u001b[0;34m,\u001b[0m \u001b[0my\u001b[0m\u001b[0;34m,\u001b[0m \u001b[0mgroups\u001b[0m\u001b[0;34m)\u001b[0m\u001b[0;34m\u001b[0m\u001b[0;34m\u001b[0m\u001b[0m\n\u001b[0m\u001b[1;32m    236\u001b[0m \u001b[0;34m\u001b[0m\u001b[0m\n\u001b[1;32m    237\u001b[0m     \u001b[0mcv\u001b[0m \u001b[0;34m=\u001b[0m \u001b[0mcheck_cv\u001b[0m\u001b[0;34m(\u001b[0m\u001b[0mcv\u001b[0m\u001b[0;34m,\u001b[0m \u001b[0my\u001b[0m\u001b[0;34m,\u001b[0m \u001b[0mclassifier\u001b[0m\u001b[0;34m=\u001b[0m\u001b[0mis_classifier\u001b[0m\u001b[0;34m(\u001b[0m\u001b[0mestimator\u001b[0m\u001b[0;34m)\u001b[0m\u001b[0;34m)\u001b[0m\u001b[0;34m\u001b[0m\u001b[0;34m\u001b[0m\u001b[0m\n",
      "\u001b[0;32m~/opt/anaconda3/lib/python3.9/site-packages/sklearn/utils/validation.py\u001b[0m in \u001b[0;36mindexable\u001b[0;34m(*iterables)\u001b[0m\n\u001b[1;32m    354\u001b[0m     \"\"\"\n\u001b[1;32m    355\u001b[0m     \u001b[0mresult\u001b[0m \u001b[0;34m=\u001b[0m \u001b[0;34m[\u001b[0m\u001b[0m_make_indexable\u001b[0m\u001b[0;34m(\u001b[0m\u001b[0mX\u001b[0m\u001b[0;34m)\u001b[0m \u001b[0;32mfor\u001b[0m \u001b[0mX\u001b[0m \u001b[0;32min\u001b[0m \u001b[0miterables\u001b[0m\u001b[0;34m]\u001b[0m\u001b[0;34m\u001b[0m\u001b[0;34m\u001b[0m\u001b[0m\n\u001b[0;32m--> 356\u001b[0;31m     \u001b[0mcheck_consistent_length\u001b[0m\u001b[0;34m(\u001b[0m\u001b[0;34m*\u001b[0m\u001b[0mresult\u001b[0m\u001b[0;34m)\u001b[0m\u001b[0;34m\u001b[0m\u001b[0;34m\u001b[0m\u001b[0m\n\u001b[0m\u001b[1;32m    357\u001b[0m     \u001b[0;32mreturn\u001b[0m \u001b[0mresult\u001b[0m\u001b[0;34m\u001b[0m\u001b[0;34m\u001b[0m\u001b[0m\n\u001b[1;32m    358\u001b[0m \u001b[0;34m\u001b[0m\u001b[0m\n",
      "\u001b[0;32m~/opt/anaconda3/lib/python3.9/site-packages/sklearn/utils/validation.py\u001b[0m in \u001b[0;36mcheck_consistent_length\u001b[0;34m(*arrays)\u001b[0m\n\u001b[1;32m    317\u001b[0m     \u001b[0muniques\u001b[0m \u001b[0;34m=\u001b[0m \u001b[0mnp\u001b[0m\u001b[0;34m.\u001b[0m\u001b[0munique\u001b[0m\u001b[0;34m(\u001b[0m\u001b[0mlengths\u001b[0m\u001b[0;34m)\u001b[0m\u001b[0;34m\u001b[0m\u001b[0;34m\u001b[0m\u001b[0m\n\u001b[1;32m    318\u001b[0m     \u001b[0;32mif\u001b[0m \u001b[0mlen\u001b[0m\u001b[0;34m(\u001b[0m\u001b[0muniques\u001b[0m\u001b[0;34m)\u001b[0m \u001b[0;34m>\u001b[0m \u001b[0;36m1\u001b[0m\u001b[0;34m:\u001b[0m\u001b[0;34m\u001b[0m\u001b[0;34m\u001b[0m\u001b[0m\n\u001b[0;32m--> 319\u001b[0;31m         raise ValueError(\"Found input variables with inconsistent numbers of\"\n\u001b[0m\u001b[1;32m    320\u001b[0m                          \" samples: %r\" % [int(l) for l in lengths])\n\u001b[1;32m    321\u001b[0m \u001b[0;34m\u001b[0m\u001b[0m\n",
      "\u001b[0;31mValueError\u001b[0m: Found input variables with inconsistent numbers of samples: [1, 111]"
     ]
    }
   ],
   "source": [
    "for classifier in classifiers:\n",
    "    \n",
    "    clf = classifier()\n",
    "    clf_name = clf.__str__()\n",
    "    \n",
    "    print(clf_name)\n",
    "    \n",
    "    cv_ = RepeatedKFold(n_splits=10, n_repeats=2, random_state=10)\n",
    "    \n",
    "    average_repeated_f_score = np.mean(cross_val_score(clf, X, labels, cv=cv_, scoring='f1_weighted', n_jobs=-1))\n",
    "    average_tenfold_f_score = np.mean(cross_val_score(clf, X, labels, cv=5,scoring='f1_weighted'))\n",
    "    \n",
    "    X_train , X_test , y_train, y_test = train_test_split(X, labels, random_state=0, test_size=0.2)\n",
    "    clf.fit(X_train, y_train)\n",
    "    y_pred = clf.predict(X_test)\n",
    "    \n",
    "    balanced_accuracy = balanced_accuracy_score(y_test, y_pred)\n",
    "    single_f_score = f1_score(y_test,y_pred,average='weighted') \n",
    "    binary_f_score = f1_score(y_pred,y_test,pos_label='s',average='binary')\n",
    "    \n",
    "    print(single_f_score)\n",
    "    \n",
    "    classifiers_scores[clf_name] = [average_repeated_f_score, average_tenfold_f_score,\n",
    "                                    balanced_accuracy, single_f_score, binary_f_score]"
   ]
  },
  {
   "cell_type": "code",
   "execution_count": null,
   "id": "7985ed8d-42f1-4ed2-9731-f4daeec7528b",
   "metadata": {},
   "outputs": [],
   "source": []
  },
  {
   "cell_type": "code",
   "execution_count": null,
   "id": "2a84ae42-c195-464f-bcf1-efd92330fd30",
   "metadata": {},
   "outputs": [],
   "source": [
    "classifiers_scores"
   ]
  },
  {
   "cell_type": "code",
   "execution_count": 82,
   "id": "13287ce6-f92d-41c8-85aa-dd35adaed4e2",
   "metadata": {},
   "outputs": [],
   "source": [
    "clf = QuadraticDiscriminantAnalysis()"
   ]
  },
  {
   "cell_type": "code",
   "execution_count": 83,
   "id": "9fa6874a-3a63-40d5-be95-450c0df4ac20",
   "metadata": {
    "collapsed": true,
    "jupyter": {
     "outputs_hidden": true
    },
    "tags": []
   },
   "outputs": [
    {
     "name": "stderr",
     "output_type": "stream",
     "text": [
      "/Users/au701203/opt/anaconda3/lib/python3.9/site-packages/sklearn/discriminant_analysis.py:808: UserWarning: Variables are collinear\n",
      "  warnings.warn(\"Variables are collinear\")\n",
      "/Users/au701203/opt/anaconda3/lib/python3.9/site-packages/sklearn/discriminant_analysis.py:808: UserWarning: Variables are collinear\n",
      "  warnings.warn(\"Variables are collinear\")\n",
      "/Users/au701203/opt/anaconda3/lib/python3.9/site-packages/sklearn/discriminant_analysis.py:808: UserWarning: Variables are collinear\n",
      "  warnings.warn(\"Variables are collinear\")\n",
      "/Users/au701203/opt/anaconda3/lib/python3.9/site-packages/sklearn/discriminant_analysis.py:808: UserWarning: Variables are collinear\n",
      "  warnings.warn(\"Variables are collinear\")\n",
      "/Users/au701203/opt/anaconda3/lib/python3.9/site-packages/sklearn/discriminant_analysis.py:808: UserWarning: Variables are collinear\n",
      "  warnings.warn(\"Variables are collinear\")\n",
      "/Users/au701203/opt/anaconda3/lib/python3.9/site-packages/sklearn/discriminant_analysis.py:808: UserWarning: Variables are collinear\n",
      "  warnings.warn(\"Variables are collinear\")\n",
      "/Users/au701203/opt/anaconda3/lib/python3.9/site-packages/sklearn/discriminant_analysis.py:808: UserWarning: Variables are collinear\n",
      "  warnings.warn(\"Variables are collinear\")\n",
      "/Users/au701203/opt/anaconda3/lib/python3.9/site-packages/sklearn/discriminant_analysis.py:808: UserWarning: Variables are collinear\n",
      "  warnings.warn(\"Variables are collinear\")\n",
      "/Users/au701203/opt/anaconda3/lib/python3.9/site-packages/sklearn/discriminant_analysis.py:808: UserWarning: Variables are collinear\n",
      "  warnings.warn(\"Variables are collinear\")\n",
      "/Users/au701203/opt/anaconda3/lib/python3.9/site-packages/sklearn/discriminant_analysis.py:808: UserWarning: Variables are collinear\n",
      "  warnings.warn(\"Variables are collinear\")\n",
      "/Users/au701203/opt/anaconda3/lib/python3.9/site-packages/sklearn/discriminant_analysis.py:808: UserWarning: Variables are collinear\n",
      "  warnings.warn(\"Variables are collinear\")\n",
      "/Users/au701203/opt/anaconda3/lib/python3.9/site-packages/sklearn/discriminant_analysis.py:808: UserWarning: Variables are collinear\n",
      "  warnings.warn(\"Variables are collinear\")\n",
      "/Users/au701203/opt/anaconda3/lib/python3.9/site-packages/sklearn/discriminant_analysis.py:808: UserWarning: Variables are collinear\n",
      "  warnings.warn(\"Variables are collinear\")\n",
      "/Users/au701203/opt/anaconda3/lib/python3.9/site-packages/sklearn/discriminant_analysis.py:808: UserWarning: Variables are collinear\n",
      "  warnings.warn(\"Variables are collinear\")\n",
      "/Users/au701203/opt/anaconda3/lib/python3.9/site-packages/sklearn/discriminant_analysis.py:808: UserWarning: Variables are collinear\n",
      "  warnings.warn(\"Variables are collinear\")\n",
      "/Users/au701203/opt/anaconda3/lib/python3.9/site-packages/sklearn/discriminant_analysis.py:808: UserWarning: Variables are collinear\n",
      "  warnings.warn(\"Variables are collinear\")\n",
      "/Users/au701203/opt/anaconda3/lib/python3.9/site-packages/sklearn/discriminant_analysis.py:808: UserWarning: Variables are collinear\n",
      "  warnings.warn(\"Variables are collinear\")\n",
      "/Users/au701203/opt/anaconda3/lib/python3.9/site-packages/sklearn/discriminant_analysis.py:808: UserWarning: Variables are collinear\n",
      "  warnings.warn(\"Variables are collinear\")\n",
      "/Users/au701203/opt/anaconda3/lib/python3.9/site-packages/sklearn/discriminant_analysis.py:808: UserWarning: Variables are collinear\n",
      "  warnings.warn(\"Variables are collinear\")\n",
      "/Users/au701203/opt/anaconda3/lib/python3.9/site-packages/sklearn/discriminant_analysis.py:808: UserWarning: Variables are collinear\n",
      "  warnings.warn(\"Variables are collinear\")\n",
      "/Users/au701203/opt/anaconda3/lib/python3.9/site-packages/sklearn/discriminant_analysis.py:808: UserWarning: Variables are collinear\n",
      "  warnings.warn(\"Variables are collinear\")\n",
      "/Users/au701203/opt/anaconda3/lib/python3.9/site-packages/sklearn/discriminant_analysis.py:808: UserWarning: Variables are collinear\n",
      "  warnings.warn(\"Variables are collinear\")\n",
      "/Users/au701203/opt/anaconda3/lib/python3.9/site-packages/sklearn/discriminant_analysis.py:808: UserWarning: Variables are collinear\n",
      "  warnings.warn(\"Variables are collinear\")\n",
      "/Users/au701203/opt/anaconda3/lib/python3.9/site-packages/sklearn/discriminant_analysis.py:808: UserWarning: Variables are collinear\n",
      "  warnings.warn(\"Variables are collinear\")\n",
      "/Users/au701203/opt/anaconda3/lib/python3.9/site-packages/sklearn/discriminant_analysis.py:808: UserWarning: Variables are collinear\n",
      "  warnings.warn(\"Variables are collinear\")\n",
      "/Users/au701203/opt/anaconda3/lib/python3.9/site-packages/sklearn/discriminant_analysis.py:808: UserWarning: Variables are collinear\n",
      "  warnings.warn(\"Variables are collinear\")\n",
      "/Users/au701203/opt/anaconda3/lib/python3.9/site-packages/sklearn/discriminant_analysis.py:808: UserWarning: Variables are collinear\n",
      "  warnings.warn(\"Variables are collinear\")\n",
      "/Users/au701203/opt/anaconda3/lib/python3.9/site-packages/sklearn/discriminant_analysis.py:808: UserWarning: Variables are collinear\n",
      "  warnings.warn(\"Variables are collinear\")\n",
      "/Users/au701203/opt/anaconda3/lib/python3.9/site-packages/sklearn/discriminant_analysis.py:808: UserWarning: Variables are collinear\n",
      "  warnings.warn(\"Variables are collinear\")\n",
      "/Users/au701203/opt/anaconda3/lib/python3.9/site-packages/sklearn/discriminant_analysis.py:808: UserWarning: Variables are collinear\n",
      "  warnings.warn(\"Variables are collinear\")\n",
      "/Users/au701203/opt/anaconda3/lib/python3.9/site-packages/sklearn/discriminant_analysis.py:808: UserWarning: Variables are collinear\n",
      "  warnings.warn(\"Variables are collinear\")\n",
      "/Users/au701203/opt/anaconda3/lib/python3.9/site-packages/sklearn/discriminant_analysis.py:808: UserWarning: Variables are collinear\n",
      "  warnings.warn(\"Variables are collinear\")\n",
      "/Users/au701203/opt/anaconda3/lib/python3.9/site-packages/sklearn/discriminant_analysis.py:808: UserWarning: Variables are collinear\n",
      "  warnings.warn(\"Variables are collinear\")\n",
      "/Users/au701203/opt/anaconda3/lib/python3.9/site-packages/sklearn/discriminant_analysis.py:808: UserWarning: Variables are collinear\n",
      "  warnings.warn(\"Variables are collinear\")\n",
      "/Users/au701203/opt/anaconda3/lib/python3.9/site-packages/sklearn/discriminant_analysis.py:808: UserWarning: Variables are collinear\n",
      "  warnings.warn(\"Variables are collinear\")\n",
      "/Users/au701203/opt/anaconda3/lib/python3.9/site-packages/sklearn/discriminant_analysis.py:808: UserWarning: Variables are collinear\n",
      "  warnings.warn(\"Variables are collinear\")\n",
      "/Users/au701203/opt/anaconda3/lib/python3.9/site-packages/sklearn/discriminant_analysis.py:808: UserWarning: Variables are collinear\n",
      "  warnings.warn(\"Variables are collinear\")\n",
      "/Users/au701203/opt/anaconda3/lib/python3.9/site-packages/sklearn/discriminant_analysis.py:808: UserWarning: Variables are collinear\n",
      "  warnings.warn(\"Variables are collinear\")\n",
      "/Users/au701203/opt/anaconda3/lib/python3.9/site-packages/sklearn/discriminant_analysis.py:808: UserWarning: Variables are collinear\n",
      "  warnings.warn(\"Variables are collinear\")\n",
      "/Users/au701203/opt/anaconda3/lib/python3.9/site-packages/sklearn/discriminant_analysis.py:808: UserWarning: Variables are collinear\n",
      "  warnings.warn(\"Variables are collinear\")\n"
     ]
    },
    {
     "data": {
      "text/plain": [
       "0.5283295136236312"
      ]
     },
     "execution_count": 83,
     "metadata": {},
     "output_type": "execute_result"
    }
   ],
   "source": [
    "scores = []\n",
    "for i in range(4):\n",
    "    ss = cross_val_score(clf, X, labels, cv=10,scoring='f1_weighted')\n",
    "    scores+=list(ss)\n",
    "np.mean(scores)"
   ]
  },
  {
   "cell_type": "code",
   "execution_count": 152,
   "id": "b06d2058-5218-400e-a393-37eec7301c7f",
   "metadata": {},
   "outputs": [
    {
     "data": {
      "text/plain": [
       "0.7012053082796117"
      ]
     },
     "execution_count": 152,
     "metadata": {},
     "output_type": "execute_result"
    }
   ],
   "source": [
    "cv_ = RepeatedKFold(n_splits=10, n_repeats=1, random_state=10)\n",
    "np.mean(cross_val_score(clf, X, labels, cv=cv_, scoring='f1_weighted', n_jobs=-1))"
   ]
  },
  {
   "cell_type": "code",
   "execution_count": 153,
   "id": "02c76a17-19e0-42eb-ba88-265cc26f585d",
   "metadata": {},
   "outputs": [
    {
     "data": {
      "text/plain": [
       "0.6945867342152171"
      ]
     },
     "execution_count": 153,
     "metadata": {},
     "output_type": "execute_result"
    }
   ],
   "source": [
    "np.mean(cross_val_score(clf, X, labels, cv=10,scoring='f1_weighted'))"
   ]
  },
  {
   "cell_type": "code",
   "execution_count": 176,
   "id": "0d16a067-22a9-4b2f-b284-62db0f75c661",
   "metadata": {},
   "outputs": [
    {
     "name": "stdout",
     "output_type": "stream",
     "text": [
      "94 17 111\n",
      "0.8141923436041084\n"
     ]
    },
    {
     "data": {
      "text/plain": [
       "0.7115384615384616"
      ]
     },
     "execution_count": 176,
     "metadata": {},
     "output_type": "execute_result"
    }
   ],
   "source": [
    "X_train , X_test , y_train, y_test = train_test_split(X, labels, random_state=0, test_size=0.15)\n",
    "\n",
    "print(len(X_train), len(X_test), len(X))\n",
    "\n",
    "clf.fit(X_train, y_train)\n",
    "y_pred = clf.predict(X_test)\n",
    "print(f1_score(y_test,y_pred,average='weighted')) #balanced_accuracy_score(y_pred,y_test)\n",
    "balanced_accuracy_score(y_test, y_pred)"
   ]
  },
  {
   "cell_type": "code",
   "execution_count": 177,
   "id": "3ca9744b-948a-40ac-8ee6-0cc799473bf5",
   "metadata": {},
   "outputs": [
    {
     "data": {
      "text/plain": [
       "17"
      ]
     },
     "execution_count": 177,
     "metadata": {},
     "output_type": "execute_result"
    }
   ],
   "source": [
    "len(y_pred)"
   ]
  },
  {
   "cell_type": "code",
   "execution_count": 178,
   "id": "37725c55-3b15-45c5-8e27-514ef9ea6182",
   "metadata": {},
   "outputs": [
    {
     "name": "stdout",
     "output_type": "stream",
     "text": [
      "0.888888888888889\n"
     ]
    }
   ],
   "source": [
    "print(f1_score(y_pred,y_test,pos_label='s',average='binary'))"
   ]
  },
  {
   "cell_type": "code",
   "execution_count": 81,
   "id": "43cfbd6d-5145-4206-93a1-ce42439af27b",
   "metadata": {
    "tags": []
   },
   "outputs": [
    {
     "name": "stdout",
     "output_type": "stream",
     "text": [
      "s f\n",
      "s s\n",
      "s s\n",
      "f s\n",
      "s s\n",
      "f f\n",
      "s s\n",
      "s s\n",
      "s s\n",
      "s f\n",
      "s f\n",
      "s s\n",
      "f s\n",
      "f s\n",
      "f s\n",
      "f s\n",
      "f s\n",
      "f s\n",
      "s f\n",
      "s s\n",
      "f f\n",
      "s s\n",
      "s s\n"
     ]
    }
   ],
   "source": [
    "for i in range(len(y_pred)): print(y_pred[i],y_test[i])"
   ]
  },
  {
   "cell_type": "code",
   "execution_count": 28,
   "id": "f872ba8c-e24c-47db-a9ad-913dd7328bf5",
   "metadata": {},
   "outputs": [],
   "source": [
    "### check out the balanced datasets as well!! test size=.1"
   ]
  },
  {
   "cell_type": "code",
   "execution_count": null,
   "id": "08c69fc1-b4a1-4e80-ab42-ae938f363f18",
   "metadata": {},
   "outputs": [],
   "source": []
  },
  {
   "cell_type": "code",
   "execution_count": null,
   "id": "835d89f4-0b40-4c81-b1d3-4e4a7ddeca2c",
   "metadata": {},
   "outputs": [],
   "source": []
  }
 ],
 "metadata": {
  "kernelspec": {
   "display_name": "Python 3 (ipykernel)",
   "language": "python",
   "name": "python3"
  },
  "language_info": {
   "codemirror_mode": {
    "name": "ipython",
    "version": 3
   },
   "file_extension": ".py",
   "mimetype": "text/x-python",
   "name": "python",
   "nbconvert_exporter": "python",
   "pygments_lexer": "ipython3",
   "version": "3.9.7"
  }
 },
 "nbformat": 4,
 "nbformat_minor": 5
}
