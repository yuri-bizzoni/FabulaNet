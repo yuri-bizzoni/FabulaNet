{
 "cells": [
  {
   "cell_type": "code",
   "execution_count": 1,
   "id": "a2bcd17c-fb7d-43d3-9bb5-b11bf613b5c7",
   "metadata": {},
   "outputs": [],
   "source": [
    "import glob\n",
    "import pandas as pd\n",
    "import figs\n",
    "import seaborn as sns\n",
    "import numpy as np\n",
    "from matplotlib import pyplot as plt\n",
    "from scipy.stats import chisquare\n",
    "from scipy import stats\n",
    "import nltk"
   ]
  },
  {
   "cell_type": "code",
   "execution_count": 2,
   "id": "5cbafa0c-a88f-43cd-8ffa-cd708d6f11d9",
   "metadata": {},
   "outputs": [],
   "source": [
    "def filenames2texts(filenames): \n",
    "    dico = {}\n",
    "    for el in glob.glob('fiction-plaintext-volumes/*'):\n",
    "        for filename in glob.glob(el+'/*'): \n",
    "            filename_ = filename.split('/')[-1].split('.')[0]\n",
    "            if filename_ in filenames:\n",
    "                title = filename2title[filename_]\n",
    "                text = open(filename).read().lower()\n",
    "                dico[title]=text\n",
    "    return dico"
   ]
  },
  {
   "cell_type": "code",
   "execution_count": 794,
   "id": "1d5e3423-14e8-4781-9aeb-dceb37c00e6b",
   "metadata": {},
   "outputs": [
    {
     "name": "stderr",
     "output_type": "stream",
     "text": [
      "/Users/au701203/opt/anaconda3/lib/python3.9/site-packages/IPython/core/interactiveshell.py:3444: DtypeWarning: Columns (19) have mixed types.Specify dtype option on import or set low_memory=False.\n",
      "  exec(code_obj, self.user_global_ns, self.user_ns)\n"
     ]
    },
    {
     "name": "stdout",
     "output_type": "stream",
     "text": [
      "108604\n"
     ]
    }
   ],
   "source": [
    "meta = pd.read_csv('hathi-english-fiction-metadata.csv', sep=\",\", index_col=0)\n",
    "meta.head()\n",
    "\n",
    "filename2title = {}\n",
    "title2meta={}\n",
    "for item, row in meta.iterrows():\n",
    "    filename = row['filename']\n",
    "    title = row['title']\n",
    "    date, genre, subject, author, place = row['latestcomp'],row['genres'],row['subjects'],row['author'], row['place']\n",
    "    filename2title[filename]=title\n",
    "    title2meta[title]=[date, genre, subject, author, place, filename]\n",
    "    \n",
    "print(len(filename2title))"
   ]
  },
  {
   "cell_type": "code",
   "execution_count": 6,
   "id": "b90d95b6-2564-4a26-b512-f280c11028b7",
   "metadata": {},
   "outputs": [],
   "source": [
    "nobel = pd.read_csv('nobels_1910s.csv')\n",
    "ignobel = pd.read_csv('ignobels_1910s.csv')\n",
    "nobel_files = list(nobel.loc[:,'Filename'])\n",
    "ignobel_files = list(ignobel.loc[:,'Filename'])"
   ]
  },
  {
   "cell_type": "code",
   "execution_count": null,
   "id": "68f8708f-b2de-496d-a43d-f68f41e325f1",
   "metadata": {},
   "outputs": [],
   "source": []
  },
  {
   "cell_type": "code",
   "execution_count": 7,
   "id": "2940fb3f-f2f4-4c2c-967c-d15f328d0b72",
   "metadata": {
    "tags": []
   },
   "outputs": [],
   "source": [
    "#nobel_files"
   ]
  },
  {
   "cell_type": "code",
   "execution_count": 8,
   "id": "edf7a170-7c1d-4605-b6d0-c7414a94426e",
   "metadata": {},
   "outputs": [
    {
     "name": "stdout",
     "output_type": "stream",
     "text": [
      "18\n"
     ]
    }
   ],
   "source": [
    "nobs = []\n",
    "for i,row in nobel.iterrows():\n",
    "    nobs.append(row['Author'])\n",
    "print(len(list(set(nobs))))"
   ]
  },
  {
   "cell_type": "code",
   "execution_count": 9,
   "id": "da0f3f23-7635-4cb2-85ea-8ab8b4b24708",
   "metadata": {},
   "outputs": [
    {
     "name": "stdout",
     "output_type": "stream",
     "text": [
      "18\n"
     ]
    }
   ],
   "source": [
    "nobs = []\n",
    "for i,row in nobel.iterrows():\n",
    "    nobs.append(row['Author'])\n",
    "print(len(list(set(nobs))))"
   ]
  },
  {
   "cell_type": "code",
   "execution_count": 10,
   "id": "3aeaae67-4359-4507-a4d2-881ced4a3ddb",
   "metadata": {},
   "outputs": [],
   "source": [
    "title2text_nobel = filenames2texts(nobel_files[:200])\n",
    "title2text_ignobel = filenames2texts(ignobel_files[:200])"
   ]
  },
  {
   "cell_type": "code",
   "execution_count": 11,
   "id": "c03d827d-a185-420f-b2b2-60ab72d18f43",
   "metadata": {},
   "outputs": [
    {
     "data": {
      "text/plain": [
       "(77, 71)"
      ]
     },
     "execution_count": 11,
     "metadata": {},
     "output_type": "execute_result"
    }
   ],
   "source": [
    "len(title2text_nobel), len(title2text_ignobel)"
   ]
  },
  {
   "cell_type": "code",
   "execution_count": null,
   "id": "e282488d-2a48-4a8d-b1ef-63c479f67b04",
   "metadata": {},
   "outputs": [],
   "source": []
  },
  {
   "cell_type": "code",
   "execution_count": 207,
   "id": "9f8cd8a6-42bd-4cbc-99b2-db80bd7c5655",
   "metadata": {
    "collapsed": true,
    "jupyter": {
     "outputs_hidden": true
    },
    "tags": []
   },
   "outputs": [
    {
     "name": "stdout",
     "output_type": "stream",
     "text": [
      "Our Mr. Wrenn / | $c: Sinclair Lewis.\n",
      "Life's handicap : | being stories of mine own people / | $c: by Rudyard Kipling.\n",
      "\"Captains courageous\"\n",
      "The pilgrim Kaminita. | A legendary romance, | $c: by Karl Gjellerup. Translated by John E. Logie.\n",
      "Rewards and fairies.\n",
      "Soldier stories / | $c: by Rudyard Kipling.\n",
      "My reminiscences, | $c: by Sir Rabindranath Tagore; with frontispiece from the portrait in colors by Sasi Kumar Hesh.\n",
      "Colas Breugnon, | $c: by Romain Rolland ... tr. by Katherine Miller ...\n",
      "error\n",
      "Under the deodars. The phantom 'rickshaw. Wee Willie Winkie ...\n"
     ]
    },
    {
     "ename": "KeyboardInterrupt",
     "evalue": "",
     "output_type": "error",
     "traceback": [
      "\u001b[0;31m---------------------------------------------------------------------------\u001b[0m",
      "\u001b[0;31mKeyboardInterrupt\u001b[0m                         Traceback (most recent call last)",
      "\u001b[0;32m/var/folders/tq/cn4jbv_11413jnwjpr13y82cxp6nzv/T/ipykernel_9313/3825067638.py\u001b[0m in \u001b[0;36m<module>\u001b[0;34m\u001b[0m\n\u001b[1;32m     12\u001b[0m     \u001b[0mprint\u001b[0m\u001b[0;34m(\u001b[0m\u001b[0mt\u001b[0m\u001b[0;34m)\u001b[0m\u001b[0;34m\u001b[0m\u001b[0;34m\u001b[0m\u001b[0m\n\u001b[1;32m     13\u001b[0m     \u001b[0mtext\u001b[0m \u001b[0;34m=\u001b[0m \u001b[0mchosentexts\u001b[0m\u001b[0;34m[\u001b[0m\u001b[0mt\u001b[0m\u001b[0;34m]\u001b[0m\u001b[0;34m\u001b[0m\u001b[0;34m\u001b[0m\u001b[0m\n\u001b[0;32m---> 14\u001b[0;31m     \u001b[0marc\u001b[0m \u001b[0;34m=\u001b[0m \u001b[0mfigs\u001b[0m\u001b[0;34m.\u001b[0m\u001b[0msentimarc_sid\u001b[0m\u001b[0;34m(\u001b[0m\u001b[0mtext\u001b[0m\u001b[0;34m)\u001b[0m\u001b[0;34m\u001b[0m\u001b[0;34m\u001b[0m\u001b[0m\n\u001b[0m\u001b[1;32m     15\u001b[0m     \u001b[0;32mif\u001b[0m \u001b[0mlen\u001b[0m\u001b[0;34m(\u001b[0m\u001b[0marc\u001b[0m\u001b[0;34m)\u001b[0m\u001b[0;34m>\u001b[0m\u001b[0;36m300\u001b[0m\u001b[0;34m:\u001b[0m \u001b[0mh\u001b[0m \u001b[0;34m=\u001b[0m \u001b[0mfigs\u001b[0m\u001b[0;34m.\u001b[0m\u001b[0mget_Hurst\u001b[0m\u001b[0;34m(\u001b[0m\u001b[0marc\u001b[0m\u001b[0;34m)\u001b[0m\u001b[0;34m\u001b[0m\u001b[0;34m\u001b[0m\u001b[0m\n\u001b[1;32m     16\u001b[0m     \u001b[0;31m#if len(arc)>100: h, c, val = compute_Hc(arc)\u001b[0m\u001b[0;34m\u001b[0m\u001b[0;34m\u001b[0m\u001b[0m\n",
      "\u001b[0;32m~/Downloads/figs.py\u001b[0m in \u001b[0;36msentimarc_sid\u001b[0;34m(text, untokd)\u001b[0m\n\u001b[1;32m    198\u001b[0m     \u001b[0marc\u001b[0m\u001b[0;34m=\u001b[0m\u001b[0;34m[\u001b[0m\u001b[0;34m]\u001b[0m\u001b[0;34m\u001b[0m\u001b[0;34m\u001b[0m\u001b[0m\n\u001b[1;32m    199\u001b[0m     \u001b[0;32mfor\u001b[0m \u001b[0msentence\u001b[0m \u001b[0;32min\u001b[0m \u001b[0msents\u001b[0m\u001b[0;34m:\u001b[0m\u001b[0;34m\u001b[0m\u001b[0;34m\u001b[0m\u001b[0m\n\u001b[0;32m--> 200\u001b[0;31m         \u001b[0mcompound_pol\u001b[0m \u001b[0;34m=\u001b[0m \u001b[0msid\u001b[0m\u001b[0;34m.\u001b[0m\u001b[0mpolarity_scores\u001b[0m\u001b[0;34m(\u001b[0m\u001b[0msentence\u001b[0m\u001b[0;34m)\u001b[0m\u001b[0;34m[\u001b[0m\u001b[0;34m'compound'\u001b[0m\u001b[0;34m]\u001b[0m\u001b[0;34m\u001b[0m\u001b[0;34m\u001b[0m\u001b[0m\n\u001b[0m\u001b[1;32m    201\u001b[0m         \u001b[0marc\u001b[0m\u001b[0;34m.\u001b[0m\u001b[0mappend\u001b[0m\u001b[0;34m(\u001b[0m\u001b[0mcompound_pol\u001b[0m\u001b[0;34m)\u001b[0m\u001b[0;34m\u001b[0m\u001b[0;34m\u001b[0m\u001b[0m\n\u001b[1;32m    202\u001b[0m     \u001b[0;32mreturn\u001b[0m \u001b[0marc\u001b[0m\u001b[0;34m\u001b[0m\u001b[0;34m\u001b[0m\u001b[0m\n",
      "\u001b[0;32m~/opt/anaconda3/lib/python3.9/site-packages/nltk/sentiment/vader.py\u001b[0m in \u001b[0;36mpolarity_scores\u001b[0;34m(self, text)\u001b[0m\n\u001b[1;32m    359\u001b[0m         \"\"\"\n\u001b[1;32m    360\u001b[0m         \u001b[0;31m# text, words_and_emoticons, is_cap_diff = self.preprocess(text)\u001b[0m\u001b[0;34m\u001b[0m\u001b[0;34m\u001b[0m\u001b[0m\n\u001b[0;32m--> 361\u001b[0;31m         sentitext = SentiText(\n\u001b[0m\u001b[1;32m    362\u001b[0m             \u001b[0mtext\u001b[0m\u001b[0;34m,\u001b[0m \u001b[0mself\u001b[0m\u001b[0;34m.\u001b[0m\u001b[0mconstants\u001b[0m\u001b[0;34m.\u001b[0m\u001b[0mPUNC_LIST\u001b[0m\u001b[0;34m,\u001b[0m \u001b[0mself\u001b[0m\u001b[0;34m.\u001b[0m\u001b[0mconstants\u001b[0m\u001b[0;34m.\u001b[0m\u001b[0mREGEX_REMOVE_PUNCTUATION\u001b[0m\u001b[0;34m\u001b[0m\u001b[0;34m\u001b[0m\u001b[0m\n\u001b[1;32m    363\u001b[0m         )\n",
      "\u001b[0;32m~/opt/anaconda3/lib/python3.9/site-packages/nltk/sentiment/vader.py\u001b[0m in \u001b[0;36m__init__\u001b[0;34m(self, text, punc_list, regex_remove_punctuation)\u001b[0m\n\u001b[1;32m    272\u001b[0m         \u001b[0mself\u001b[0m\u001b[0;34m.\u001b[0m\u001b[0mPUNC_LIST\u001b[0m \u001b[0;34m=\u001b[0m \u001b[0mpunc_list\u001b[0m\u001b[0;34m\u001b[0m\u001b[0;34m\u001b[0m\u001b[0m\n\u001b[1;32m    273\u001b[0m         \u001b[0mself\u001b[0m\u001b[0;34m.\u001b[0m\u001b[0mREGEX_REMOVE_PUNCTUATION\u001b[0m \u001b[0;34m=\u001b[0m \u001b[0mregex_remove_punctuation\u001b[0m\u001b[0;34m\u001b[0m\u001b[0;34m\u001b[0m\u001b[0m\n\u001b[0;32m--> 274\u001b[0;31m         \u001b[0mself\u001b[0m\u001b[0;34m.\u001b[0m\u001b[0mwords_and_emoticons\u001b[0m \u001b[0;34m=\u001b[0m \u001b[0mself\u001b[0m\u001b[0;34m.\u001b[0m\u001b[0m_words_and_emoticons\u001b[0m\u001b[0;34m(\u001b[0m\u001b[0;34m)\u001b[0m\u001b[0;34m\u001b[0m\u001b[0;34m\u001b[0m\u001b[0m\n\u001b[0m\u001b[1;32m    275\u001b[0m         \u001b[0;31m# doesn't separate words from\u001b[0m\u001b[0;34m\u001b[0m\u001b[0;34m\u001b[0m\u001b[0m\n\u001b[1;32m    276\u001b[0m         \u001b[0;31m# adjacent punctuation (keeps emoticons & contractions)\u001b[0m\u001b[0;34m\u001b[0m\u001b[0;34m\u001b[0m\u001b[0m\n",
      "\u001b[0;32m~/opt/anaconda3/lib/python3.9/site-packages/nltk/sentiment/vader.py\u001b[0m in \u001b[0;36m_words_and_emoticons\u001b[0;34m(self)\u001b[0m\n\u001b[1;32m    305\u001b[0m         \u001b[0mwes\u001b[0m \u001b[0;34m=\u001b[0m \u001b[0mself\u001b[0m\u001b[0;34m.\u001b[0m\u001b[0mtext\u001b[0m\u001b[0;34m.\u001b[0m\u001b[0msplit\u001b[0m\u001b[0;34m(\u001b[0m\u001b[0;34m)\u001b[0m\u001b[0;34m\u001b[0m\u001b[0;34m\u001b[0m\u001b[0m\n\u001b[1;32m    306\u001b[0m         \u001b[0mwords_punc_dict\u001b[0m \u001b[0;34m=\u001b[0m \u001b[0mself\u001b[0m\u001b[0;34m.\u001b[0m\u001b[0m_words_plus_punc\u001b[0m\u001b[0;34m(\u001b[0m\u001b[0;34m)\u001b[0m\u001b[0;34m\u001b[0m\u001b[0;34m\u001b[0m\u001b[0m\n\u001b[0;32m--> 307\u001b[0;31m         \u001b[0mwes\u001b[0m \u001b[0;34m=\u001b[0m \u001b[0;34m[\u001b[0m\u001b[0mwe\u001b[0m \u001b[0;32mfor\u001b[0m \u001b[0mwe\u001b[0m \u001b[0;32min\u001b[0m \u001b[0mwes\u001b[0m \u001b[0;32mif\u001b[0m \u001b[0mlen\u001b[0m\u001b[0;34m(\u001b[0m\u001b[0mwe\u001b[0m\u001b[0;34m)\u001b[0m \u001b[0;34m>\u001b[0m \u001b[0;36m1\u001b[0m\u001b[0;34m]\u001b[0m\u001b[0;34m\u001b[0m\u001b[0;34m\u001b[0m\u001b[0m\n\u001b[0m\u001b[1;32m    308\u001b[0m         \u001b[0;32mfor\u001b[0m \u001b[0mi\u001b[0m\u001b[0;34m,\u001b[0m \u001b[0mwe\u001b[0m \u001b[0;32min\u001b[0m \u001b[0menumerate\u001b[0m\u001b[0;34m(\u001b[0m\u001b[0mwes\u001b[0m\u001b[0;34m)\u001b[0m\u001b[0;34m:\u001b[0m\u001b[0;34m\u001b[0m\u001b[0;34m\u001b[0m\u001b[0m\n\u001b[1;32m    309\u001b[0m             \u001b[0;32mif\u001b[0m \u001b[0mwe\u001b[0m \u001b[0;32min\u001b[0m \u001b[0mwords_punc_dict\u001b[0m\u001b[0;34m:\u001b[0m\u001b[0;34m\u001b[0m\u001b[0;34m\u001b[0m\u001b[0m\n",
      "\u001b[0;32m~/opt/anaconda3/lib/python3.9/site-packages/nltk/sentiment/vader.py\u001b[0m in \u001b[0;36m<listcomp>\u001b[0;34m(.0)\u001b[0m\n\u001b[1;32m    305\u001b[0m         \u001b[0mwes\u001b[0m \u001b[0;34m=\u001b[0m \u001b[0mself\u001b[0m\u001b[0;34m.\u001b[0m\u001b[0mtext\u001b[0m\u001b[0;34m.\u001b[0m\u001b[0msplit\u001b[0m\u001b[0;34m(\u001b[0m\u001b[0;34m)\u001b[0m\u001b[0;34m\u001b[0m\u001b[0;34m\u001b[0m\u001b[0m\n\u001b[1;32m    306\u001b[0m         \u001b[0mwords_punc_dict\u001b[0m \u001b[0;34m=\u001b[0m \u001b[0mself\u001b[0m\u001b[0;34m.\u001b[0m\u001b[0m_words_plus_punc\u001b[0m\u001b[0;34m(\u001b[0m\u001b[0;34m)\u001b[0m\u001b[0;34m\u001b[0m\u001b[0;34m\u001b[0m\u001b[0m\n\u001b[0;32m--> 307\u001b[0;31m         \u001b[0mwes\u001b[0m \u001b[0;34m=\u001b[0m \u001b[0;34m[\u001b[0m\u001b[0mwe\u001b[0m \u001b[0;32mfor\u001b[0m \u001b[0mwe\u001b[0m \u001b[0;32min\u001b[0m \u001b[0mwes\u001b[0m \u001b[0;32mif\u001b[0m \u001b[0mlen\u001b[0m\u001b[0;34m(\u001b[0m\u001b[0mwe\u001b[0m\u001b[0;34m)\u001b[0m \u001b[0;34m>\u001b[0m \u001b[0;36m1\u001b[0m\u001b[0;34m]\u001b[0m\u001b[0;34m\u001b[0m\u001b[0;34m\u001b[0m\u001b[0m\n\u001b[0m\u001b[1;32m    308\u001b[0m         \u001b[0;32mfor\u001b[0m \u001b[0mi\u001b[0m\u001b[0;34m,\u001b[0m \u001b[0mwe\u001b[0m \u001b[0;32min\u001b[0m \u001b[0menumerate\u001b[0m\u001b[0;34m(\u001b[0m\u001b[0mwes\u001b[0m\u001b[0;34m)\u001b[0m\u001b[0;34m:\u001b[0m\u001b[0;34m\u001b[0m\u001b[0;34m\u001b[0m\u001b[0m\n\u001b[1;32m    309\u001b[0m             \u001b[0;32mif\u001b[0m \u001b[0mwe\u001b[0m \u001b[0;32min\u001b[0m \u001b[0mwords_punc_dict\u001b[0m\u001b[0;34m:\u001b[0m\u001b[0;34m\u001b[0m\u001b[0;34m\u001b[0m\u001b[0m\n",
      "\u001b[0;31mKeyboardInterrupt\u001b[0m: "
     ]
    }
   ],
   "source": [
    "title2text = title2text_nobel\n",
    "\n",
    "chosentexts = {}\n",
    "for title in list(title2text.keys())[:70]:\n",
    "    text = title2text[title]\n",
    "    n = len(text)\n",
    "    chosentexts[title]=text[:]\n",
    "    \n",
    "the_chosen = list(chosentexts)\n",
    "Hs,arcs = [],[]\n",
    "for t in the_chosen[:]:\n",
    "    print(t)\n",
    "    text = chosentexts[t]\n",
    "    arc = figs.sentimarc_sid(text)\n",
    "    if len(arc)>300: h = figs.get_Hurst(arc)\n",
    "    #if len(arc)>100: h, c, val = compute_Hc(arc)\n",
    "    Hs.append(h)\n",
    "    arcs.append(arc)"
   ]
  },
  {
   "cell_type": "code",
   "execution_count": 13,
   "id": "930aa550-3515-440c-96f8-7ef3f0a73723",
   "metadata": {},
   "outputs": [
    {
     "name": "stdout",
     "output_type": "stream",
     "text": [
      "0.6058823529411765 0.03655114443036703\n",
      "173.70724264705893\n"
     ]
    },
    {
     "name": "stderr",
     "output_type": "stream",
     "text": [
      "/Users/au701203/opt/anaconda3/lib/python3.9/site-packages/seaborn/distributions.py:2619: FutureWarning: `distplot` is a deprecated function and will be removed in a future version. Please adapt your code to use either `displot` (a figure-level function with similar flexibility) or `histplot` (an axes-level function for histograms).\n",
      "  warnings.warn(msg, FutureWarning)\n"
     ]
    },
    {
     "data": {
      "text/plain": [
       "<AxesSubplot:ylabel='Density'>"
      ]
     },
     "execution_count": 13,
     "metadata": {},
     "output_type": "execute_result"
    },
    {
     "data": {
      "image/png": "[encoded data removed]",
      "text/plain": [
       "<Figure size 432x288 with 1 Axes>"
      ]
     },
     "metadata": {
      "needs_background": "light"
     },
     "output_type": "display_data"
    }
   ],
   "source": [
    "print(np.mean(Hs), np.std(Hs))\n",
    "print(np.mean([sum(a) for a in arcs]))\n",
    "sns.distplot(Hs)"
   ]
  },
  {
   "cell_type": "code",
   "execution_count": 235,
   "id": "4ecfde48-394c-4595-83e0-3effc2f09845",
   "metadata": {},
   "outputs": [],
   "source": [
    "nltk.wordpunct_tokenize"
   ]
  },
  {
   "cell_type": "code",
   "execution_count": 15,
   "id": "6e216bc2-f657-46a7-bef6-bce86c6e554f",
   "metadata": {
    "collapsed": true,
    "jupyter": {
     "outputs_hidden": true
    },
    "tags": []
   },
   "outputs": [
    {
     "name": "stdout",
     "output_type": "stream",
     "text": [
      "\n",
      "\n",
      "\n",
      "\n",
      "1900s\n",
      "The phantom 'rickshaw. | The works of Rudyard Kipling.\n",
      "The well of Saint Clare / | $c: by Anatole France ; a translation by Alfred Allinson.\n",
      "The country house.\n",
      "The Celtic twilight.\n",
      "Mine own people; | with a critical introd. | $c: by Henry James.\n",
      "Fraternity\n",
      "Quo vadis; | a tale of the time of Nero, | $c: by Henryk Sienkiewicz. Translated from the Polish by Dr. S. A. Binion and S. Malevsky.\n",
      "A commentary.\n",
      "Under the deodars\n",
      "After the divorce\n",
      "error\n",
      "Just so stories for little children\n",
      "Fairy and folk tales of the Irish peasantry: | $c: ed. and selected by W. B. Yeats.\n",
      "error\n",
      "From a Swedish homestead,\n",
      "Mother of pearl, | $c: by Anatole France, a translation by Frederic Chapman.\n",
      "Fraternity.\n",
      "Mary, | $c: by Björnstjerne Björson; tr. from the Norwegian by Mary Morison.\n",
      "Kim / | $c: Rudyard Kipling.\n",
      "Just so stories for little children / | $c: by Rudyard Kipling.\n",
      "The country house\n",
      "Without dogma. | A novel of modern Poland. | $c: By Henryk Sienkiewicz ... Tr. from the Polish by Iza Young ...\n",
      "With fire and sword, | a tale of the past, | $c: by Henryk Sienkiewicz; tr. from the Polish\n",
      "Puck of Pook's hill\n",
      "Abaft the funnel\n",
      "They / | $c: by Rudyard Kipling ; with illustrations by F.H. Townsend.\n",
      "Kipling stories and poems every child should know from Rudyard Kipling; | $c: ed. by Mary E. Burt and W. T. Chapin ... illustrated by J. M. Gleeson, Charles Livingston Bull, and the author.\n",
      "Balthasar\n",
      "The country house | [a novel] | $c: by John Galsworthy ...\n",
      "The man of property, | $c: by John Galsworthy ...\n",
      "Puck of Pook's Hill / | $c: Rudyard Kipling.\n",
      "Where there is nothing ... | $c: by W. B. Yeats.\n",
      "Plain tales from the hills. | The works of Rudyard Kipling.\n",
      "Just so stories\n",
      "On the field of glory;\n",
      "They. | $c: With illus. by F. H. Townsend.\n",
      "The merrie tales of Jacques Tournebroche : | and Child life in town and country / | $c: by Anatole France.\n",
      "In black and white.\n",
      "Soldiers three ; The story of the Gadsbys ; In black and white / | $c: by Rudyard Kipling.\n",
      "Plain tales from the hills.\n",
      "Puck of Pook's Hill, | $c: by Rudyard Kipling.\n",
      "The day's work ; Many inventions\n",
      "The man of property\n",
      "Puck of Pook's Hill / | $c: by Rudyard Kipling.\n",
      "Kim, | $c: by Rudyard Kipling ...\n",
      "Plain tales from the hills, | $c: by Rudyard Kipling.\n",
      "The country house, | $c: by John Galsworthy.\n",
      "The day's work / | $c: by Rudyard Kipling.\n",
      "They\n",
      "0.6025531914893617 0.03367353181852989\n",
      "178.67768297872337\n"
     ]
    },
    {
     "name": "stderr",
     "output_type": "stream",
     "text": [
      "/Users/au701203/opt/anaconda3/lib/python3.9/site-packages/seaborn/distributions.py:2619: FutureWarning: `distplot` is a deprecated function and will be removed in a future version. Please adapt your code to use either `displot` (a figure-level function with similar flexibility) or `histplot` (an axes-level function for histograms).\n",
      "  warnings.warn(msg, FutureWarning)\n"
     ]
    },
    {
     "name": "stdout",
     "output_type": "stream",
     "text": [
      "Tales of laughter : | a third fairy book / | $c: edited by Kate Douglas Wiggin and Nora Archibald Smith.\n",
      "The two captains;\n",
      "error\n",
      "The goose girl\n",
      "Hans Brinker; | or, The silver skates. | $c: With drawings & decorations by George Wharton.\n",
      "The Kempton-Wace letters\n",
      "The fruit of the tree, | $c: by Edith Wharton.\n",
      "Under tops'ls and tents / | $c: by Cyrus Townsend Brady.\n",
      "The hermit and the wild woman, and other stories.\n",
      "Set in silver\n",
      "Helena's path, | $c: by Anthony Hope [pseud.]\n",
      "Captain Dieppe\n",
      "Ewing's lady\n",
      "The socialist.\n",
      "The car of destiny / | $c: by C.N. and A.M. Williamson ; illustrations by Armand Both.\n",
      "Shapes that haunt the dusk / | $c: Ed. by William Dean Howells and Henry Mills Alden.\n",
      "The great Miss Driver / | $c: by Anthony Hope.\n",
      "A rose of Normandy, | $c: by William R. A. Wilson ; [illustrated by Ch. Grunwald]\n",
      "The intrusions of Peggy;\n",
      "\"Posson Jone\" and P??re Rapha??l;\n",
      "error\n",
      "The Bobbsey twins at the seashore / | $c: by Laura Lee Hope.\n",
      "Enchantment / | $c: by Harold Mac Grath.\n",
      "The garroters : | farce / | $c: by W.D. Howells.\n",
      "Tales of the fish patrol\n",
      "Finding a home, | $c: by Kate Douglas Wiggin.\n",
      "Anna of the five towns : | a novel / | $c: by Arnold Bennett.\n",
      "The man on the box, | $c: by Harold MacGrath ... illustrated by scenes from Walter N. Lawrence's production of the play as seen for 123 nights at the Madison square theatre, New York.\n",
      "The ring and the man\n",
      "The lightning conductor; | the strange adventures of a motor-car; | $c: ed. by C.N. and A.M. Williamson.\n",
      "Posson Jone and Père Raphaël, | with a new word setting forth how and why the two tales are one. | $c: Illustrated by Stanley M. Arthurs. New York, Scribner, 1909.\n",
      "The Annie Laurie mine\n",
      "The iron heel,\n",
      "Southern lights and shadows, | $c: ed. by William Dean Howells and Henry Mills Alden.\n",
      "In the Wasp's nests, | the story of a sea waif in the war of 1812,\n",
      "Half a rogue / | $c: by Harold MacGrath ; with ill. by Harrison Fisher.\n",
      "Posson Jone and Père Raphaël / | $c: by George W. Cable ; with a new word setting forth how and why the two tales are one.\n",
      "The son of Royal Langbrith\n",
      "The grand Babylon hotel, | $c: by Arnold Bennett.\n",
      "A servant of the public\n",
      "error\n",
      "The ring and the man, | with some incidental relation to the woman, | $c: by Cyrus Townsend Brady ... illustrated by George Gibbs.\n",
      "The spoilers,\n",
      "Barnaby Lee / | $c: by John Bennett ; with illustrations by Clyde O. De Land.\n",
      "The call of the wild / | $c: by Jack London ; illustrated by Philip R. Goodwin and Charles Livingston Bull ; decorated by Chas. Edw. Hooper.\n",
      "error\n",
      "The princess elopes / | $c: by Harold MacGrath.\n",
      "Tristram of Blent : | an episode in the story of an ancient house / | $c: by Anthony Hope [pseud.]\n",
      "The old wives' tale / | $c: by Arnold Bennett.\n",
      "The son of the wolf; | tales of the far North, | $c: by Jack London.\n",
      "The private tutor\n",
      "Cousin Maude / | $c: by Mary J. Holmes.\n",
      "Homespun tales / | $c: by Kate Douglas Wiggin ; with illustrations.\n",
      "The ghost : | a fantasia on modern themes. / | $c: By Arnold Bennett.\n",
      "The silver horde;\n",
      "Connie's mistake and other stories.\n",
      "The maid of honor\n",
      "The old Peabody pew\n",
      "Pardners\n",
      "The traitor's wife\n",
      "Southern lights and shadows\n",
      "The castle of the shadows\n",
      "For the love of Lady Margaret\n",
      "error\n",
      "Under the sunset\n",
      "The sea-wolf\n",
      "The botor chaperon / | $c: by C. N. and A. M. Williamson ; with a front. in colour by A. H. Buckland and sixteen other illustrations.\n",
      "Enchantment\n",
      "Old Creole days; | a story of Creole life, | $c: by George W. Cable.\n",
      "The Princess Virginia, | $c: by C.N. & A.M. Williamson ...\n",
      "Tristram of Blent\n",
      "The history of Henry Esmond, esq., a colonel in the service of Her Majesty Queen Anne\n",
      "Under tops'ls and tents\n",
      "Old Creole days;\n",
      "Anna of the five towns\n",
      "The patriots;\n",
      "My Lady Cinderella\n",
      "The triumph of Count Ostermann, | $c: by Graham Hope [pseud.]\n",
      "The flight of Pony Baker;ba boy's town story\n",
      "Sir Henry Morgan, buccaneer;\n",
      "Pardners / | $c: by Rex E. Beach.\n",
      "Through the eye of the needle;\n",
      "The traitor's wife, | $c: by W.H. Williamson.\n",
      "The intrusions of Peggy / | $c: by Anthony Hope.\n",
      "Woven with the ship\n",
      "Fennel and rue;\n",
      "The diary of a goose girl\n",
      "A servant of the public, | $c: by Anthony Hope [pseud.]\n",
      "The goose girl. | with illustrations by André Castaigne.\n",
      "The silent battle, | $c: by Mrs. C. N. Williamson.\n",
      "The valley of decision; | a novel, | $c: by Edith Wharton.\n",
      "Donald and Dorothy.\n",
      "error\n",
      "The spoilers / | $c: by Rex E. Beach; illustrated by Clarence F. Underwood.\n",
      "Barnaby Lee\n",
      "Captain Dieppe, | $c: by Anthony Hope [pseud.]\n",
      "The lure of the mask\n",
      "Hans Brinker, or, The silver skates : | a story of life in Holland / | $c: by Mary Mapes Dodge.\n",
      "Madame Delphine : | Carancro ; and Grand Pointe / | $c: by George W. Cable.\n",
      "The Grand Babylon Hotel / | $c: by Arnold Bennett.\n",
      "Love of life, and other stories\n",
      "When blades are out and love's afield;\n",
      "Rose o' the river, | $c: by Kate Douglas Wiggin. Illustrated by George Wright.\n",
      "Susanna and Sue, | $c: by Kate Douglas Wiggin; with illustrations by Alice Barber Stephens and N. C. Wyeth.\n",
      "A knot of blue / | $c: by William R.A. Wilson ... ; with illustrations by Charles Grunwald.\n",
      "The game / | $c: by Jack London ; with illustrations and decorations by Henry Hutt and T. C. Lawrence.\n",
      "The road / | $c: by Jack London.\n",
      "Recollections of a missionary in the great West | $c: by Cyrus Townsend Brady.\n",
      "The cavalier\n",
      "Sanctuary / | $c: by Edith Wharton ; with illustrations by Walter Appleton Clark.\n",
      "The turnstile of night\n",
      "The heart of childhood, | $c: ed. by William Dean Howells and Henry Mills Alden.\n",
      "The silver horde; | a novel, | $c: by Rex Beach ... illustrated by Harvey T. Dunn.\n",
      "The tragedy of the pyramids;\n",
      "The puppet crown\n",
      "The southerners, | a story of the Civil War, | $c: by Cyrus Townsend Brady.\n",
      "The God of his fathers, | tales of the Klondyke.\n",
      "Double harness | $c: [by] Anthony Hope [pseud.]\n",
      "The glimpse;\n",
      "Finding a home\n",
      "My friend the chauffeur, | $c: by C. N. & A. M. Williamson ... illustrated by Frederic Lowenheim.\n",
      "The seeker\n",
      "The other Mr. Barclay, | $c: by Henry Irving Dodge; drawings by Nella Fontaine Binckley.\n",
      "The Kentons;\n",
      "error\n",
      "Mrs. Featherweight's musical moments / | $c: by John Brady ; illustrated by the author.\n",
      "Three daughters of the confederacy; | the story of their loves and their hatreds, their joys and their sorrows, during many surprising adventures on land and sea, | $c: by Cyrus Townsend Brady ... illustrated by J. N. Marchand.\n",
      "Whom God hath joined / | $c: by Arnold Bennett.\n",
      "Tales of the fish patrol / | $c: by Jack London ... ; with illustrations by George Varian.\n",
      "The spenders;\n",
      "La belle San Antone\n",
      "Dr. Sevier, | $c: by George W. Cable.\n",
      "The spenders\n",
      "Children of the frost, | $c: by Jack London...with illustrations by Raphael M. Reay.\n",
      "Kitty Craig : | and other stories / | $c: by Mary J. Holmes.\n",
      "Matthew Porter\n",
      "Rose o' the river, | $c: by Kate Douglas Wiggin; illustrated by George Wright.\n",
      "Quisanté / | $c: by Anthony Hope.\n",
      "The journal of a recluse\n",
      "The maid of honor, | $c: by Richard S. Holmes.\n",
      "The goose girl, | $c: by Harold MacGrath; with illustrations by André Castaigne.\n",
      "Fennel and rue; | a novel, | $c: by W.D. Howells; illustrated by Charlotte Harding.\n",
      "The Princess Virginia\n",
      "Their husbands' wives, | $c: ed. by William Dean Howells and Henry Mills Alden.\n",
      "Different girls\n",
      "Crucial instances / | $c: by Edith Wharton.\n",
      "The wild flowers;\n",
      "The lure of the mask. | $c: With illustrations by Harrison Fisher and Karl Anderson.\n",
      "Letters home\n",
      "The old Peabody pew;\n",
      "The history of Samuel Titmarsh and the great Hoggarty diamond\n",
      "The intrusions of Peggy; | a novel, | $c: by Anthony Hope [pseud.]\n",
      "The city of pleasure\n",
      "My Lady Cinderella, | $c: by Mrs. C. N. Williamson.\n",
      "Rena's experiment / | $c: by Mary J. Holmes.\n",
      "Hearts and masks\n",
      "Playing-- the game : | a story of Japan / | $c: by Douglas Sladen.\n",
      "0.6197333333333334 0.04578131593662298\n",
      "314.9794526666666\n",
      "\n",
      "\n",
      "\n",
      "\n",
      "1910s\n"
     ]
    },
    {
     "name": "stderr",
     "output_type": "stream",
     "text": [
      "/Users/au701203/opt/anaconda3/lib/python3.9/site-packages/seaborn/distributions.py:2619: FutureWarning: `distplot` is a deprecated function and will be removed in a future version. Please adapt your code to use either `displot` (a figure-level function with similar flexibility) or `histplot` (an axes-level function for histograms).\n",
      "  warnings.warn(msg, FutureWarning)\n"
     ]
    },
    {
     "name": "stdout",
     "output_type": "stream",
     "text": [
      "Our Mr. Wrenn / | $c: Sinclair Lewis.\n",
      "Life's handicap : | being stories of mine own people / | $c: by Rudyard Kipling.\n",
      "\"Captains courageous\"\n",
      "The pilgrim Kaminita. | A legendary romance, | $c: by Karl Gjellerup. Translated by John E. Logie.\n",
      "A motley,\n",
      "The burning spear, | being the experiences of Mr. John Lavender in time of war, | $c: recorded by A. R. P--m.\n",
      "Rewards and fairies.\n",
      "Soldier stories / | $c: by Rudyard Kipling.\n",
      "My reminiscences, | $c: by Sir Rabindranath Tagore; with frontispiece from the portrait in colors by Sasi Kumar Hesh.\n",
      "Colas Breugnon, | $c: by Romain Rolland ... tr. by Katherine Miller ...\n",
      "For love of beasts\n",
      "Three novels of love\n",
      "Under the deodars. The phantom 'rickshaw. Wee Willie Winkie ...\n",
      "The light that failed, | $c: by Rudyard Kipling.\n",
      "error\n",
      "The emperor of Portugallia, from the Swedish of Selma Lagerlöf; | $c: tr. by Velma Swanston Howard.\n",
      "Life's handicap\n",
      "Romain Rolland's Jean-Christophe, | $c: translated from the French by Gilbert Cannan.\n",
      "The Kipling reader for elementary grades.\n",
      "Plain tales from the hills\n",
      "Jean-Christophe\n",
      "Captains courageous : | a story of the Grand banks / | $c: by Rudyard Kipling.\n",
      "The Inn of tranquillity.\n",
      "The red lily, | $c: by Anatole France.\n",
      "Fraternity\n",
      "Mine own people\n",
      "The island Pharisees.\n",
      "Just so stories, / | $c: by Rudyard Kipling: pictures by Joseph M. Gleeson.\n",
      "The Inn of tranquillity; | studies and essays.\n",
      "In desert and wilderness, | by Henryk Sienkiewicz ... tr. from the Polish by Max A. Drezmal.\n",
      "The day's work,\n",
      "The benefactors, | $c: by Rudyard Kipling.\n",
      "The light that failed,\n",
      "Quo vadis; | a tale of the time of Nero,\n",
      "My friend's book, | $c: by Anatole France, a translation, by J. Lewis May.\n",
      "The job;\n",
      "Sacrifice, | and other plays, | $c: by Sir Rabindranath Tagore.\n",
      "The Kipling reader for upper grades.\n",
      "Synnövé Solbakken / | $c: by Björnstjerne Björnson. Given in English by Julie Sutter.\n",
      "The gods are athirst, | $c: by Anatole France, a translation by Mrs. Wilfrid Jackson.\n",
      "The deluge : | a historical novel of Poland, Sweden and Russia / | $c: Henryk Sienkiewicz ; authorized and unabridged translation from Polish by Jeremiah Curtin.\n",
      "Stalky & co.\n",
      "The innocents : | a story for lovers / | $c: by Sinclair Lewis.\n",
      "error\n",
      "Reveries over childhood and youth, | $c: by William Butler Yeats.\n",
      "Prometheus illbound, | $c: by André Gide.  Literal translation from the French by Lilian Rothermere.\n",
      "Soldiers three : | The Story of the Gadsby's ; In black and white / | $c: by Rudyard Kipling.\n",
      "Quo vadis? | $c: Translated by C. J. Hogarth.\n",
      "Crainquebille, Putois, Riquet, and other profitable tales / | $c: by Anatole France ; translated by Winifred Stephens.\n",
      "Wee Willie Winkie\n",
      "Rewards and fairies, | by Rudyard Kipling ...\n",
      "Sea warfare\n",
      "The gods are athirst ;\n",
      "A diversity of creatures\n",
      "My friend's book\n",
      "The aspirations of Jean Servien, | $c: by Anatole France, a translation by Alfred Allinson.\n",
      "Free air.\n",
      "Shallow soil,\n",
      "The job : | an American novel / | $c: by Sinclair Lewis.\n",
      "The second jungle book / | $c: by Rudyard Kipling ; decorated by John Lockwood Kipling.\n",
      "The Inn of tranquillity\n",
      "Jocasta & The famished cat\n",
      "error\n",
      "The Kipling reader for elementary grades\n",
      "The phantom rickshaw, City of dreadful night\n",
      "error\n",
      "The red lily\n",
      "A motley, | $c: by John Galsworthy.\n",
      "The trail of the hawk; | a comedy of the seriousness of life.\n",
      "Saint's progress\n",
      "Villa Rubein.\n",
      "The fringes of the fleet.\n",
      "Through the desert\n",
      "Soldiers three, | The story of the Gadsbys, In black and white, | $c: by Rudyard Kipling.\n",
      "error\n",
      "The girl from the march [i.e. marsh] croft / | $c: by Selma Lagerlöf ; translated from the Swedish by Velma Swanston Howard.\n",
      "Without dogma\n",
      "The tables of the law\n",
      "In black and white to which is added Under the deodars / | $c: by Rudyard Kipling.\n",
      "Absaloms hair | & A painful memory ... | $c: (Translated from the Norwegian)\n",
      "error\n",
      "The red lily | (Le lys rouge) | $c: With a preface by Jules LeMaitre.\n",
      "Kim, | $c: by Rudyard Kipling.\n",
      "The Inn of tranquillity; | studies and essays, | $c: by John Galsworthy.\n",
      "Jocasta & The famished cat, | $c: by Anatole France; a translation by Agnes Farley.\n",
      "Saint's progress.\n",
      "A man of Devon, | $c: by John Galsworthy.\n",
      "The patrician, | $c: by John Galsworthy.\n",
      "Rewards and fairies, | $c: by Rudyard Kipling ...\n",
      "Quo vadis, | a narrative of the time of Nero, | $c: Translated from the Polish by Jeremiah Curtin, with illustrations from paintings by Howard Pyle and Evert Van Muyden.\n",
      "In black and white, to which is added Under the deodars and other tales\n",
      "The revolt of the angels / | $c: by Anatole France ; a translation by Mrs. Wilfrid Jackson.\n",
      "Soldier stories\n",
      "The hungry stones, | and other stories, | $c: by Sir Rabindranath Tagore ... translated from the original Bengali by various writers.\n",
      "Stalky & Co\n",
      "Rewards and fairies. | $c: With illus. by Frank Craig.\n",
      "The gods are athirst, | $c: by Anatole France; authorised translation by Alfred Allinson.\n",
      "Under the deodars, The phantom 'rickshaw, Wee Willie Winkie, | $c: by Rudyard Kipling.\n",
      "0.606304347826087 0.0388899615779084\n",
      "221.24698369565218\n",
      "Mother Carey's chickens, | $c: by Kate Douglas Wiggin.\n"
     ]
    },
    {
     "name": "stderr",
     "output_type": "stream",
     "text": [
      "/Users/au701203/opt/anaconda3/lib/python3.9/site-packages/seaborn/distributions.py:2619: FutureWarning: `distplot` is a deprecated function and will be removed in a future version. Please adapt your code to use either `displot` (a figure-level function with similar flexibility) or `histplot` (an axes-level function for histograms).\n",
      "  warnings.warn(msg, FutureWarning)\n"
     ]
    },
    {
     "name": "stdout",
     "output_type": "stream",
     "text": [
      "An average woman\n",
      "Understood Betsy / | $c: by Dorothy Canfield [i.e. D. Fisher].\n",
      "The birds' Christmas carol\n",
      "Set in silver, | $c: by C. N. and A. M. Williamson ...\n",
      "Gideon's band;\n",
      "The ne'er-do-well / | $c: by Rex Beach ; illustrated by Howard Chandler Christy.\n",
      "Bunny Brown and his sister Sue playing circus / | $c: by Laura Lee Hope ; illustrated by Florence England Nosworthy.\n",
      "Going some\n",
      "The red one\n",
      "Attraction of the compass; | or, The blonde Eskimo; | $c: a romance of the North, based upon facts of a personal experience, by H. L. Dodge.\n",
      "Tom Pagdin : | pirate / | $c: by E. J. Brady. With 4 full-page illus. by Lionel Lindsay.\n",
      "The story of the Mary Fisher Home, | $c: by Mary A. Fisher.\n",
      "The carpet from Bagdad ... | $c: With four illustrations in color by Andre Castaigne.\n",
      "error\n",
      "Hearts of three\n",
      "The reef; | a novel, | $c: by Edith Wharton ...\n",
      "The more excellent way : | being the determinative episodes in the life of Chrissey De Sleden, hedonist / | $c: by Cyrus Townsend Brady.\n",
      "The real motive\n",
      "The chalice of courage; | a romance of Colorado, | $c: by Cyrus Townsend Brady. With illus. by Harrison Fisher and J. N. Marchand.\n",
      "The landlord at Lion's head; | a novel, | $c: by W. D. Howells.\n",
      "Where the path breaks\n",
      "error\n",
      "Penelope's English experiences and Penelope's Scottish experiences / | $c: by Kate Douglas Wiggin.\n",
      "Tales of men and ghosts / | $c: by Edith Wharton.\n",
      "The daughter of the storage\n",
      "The eagle of the empire;\n",
      "Efficiency in library management, | $c: by C.C. Williamson ...\n",
      "The human drift\n",
      "The bent twig\n",
      "The port of adventure\n",
      "By the world forgot\n",
      "Penelope's postscripts; | Switzerland: Venice: Wales: Devon: home, | $c: by Kate Douglas Wiggin.\n",
      "The story of Waitstill Baxter\n",
      "error\n",
      "The auction block : | a novel of New York life / | $c: by Rex Beach ... ; illustrated by Charles Dana Gibson.\n",
      "Ladies in waiting\n",
      "Where the path breaks,\n",
      "What I found out in the house of a German prince, | $c: by an English governess.\n",
      "On the Makaloa mat, | $c: by Jack London ...\n",
      "Kirstie / | $c: by M.F. ; author of \"The journal of a recluse\".\n",
      "A son of the sun\n",
      "The Bobbsey twins on a houseboat, | $c: by Laura Lee Hope.\n",
      "The story of Waitstill Baxter, | $c: by Kate Douglas Wiggin; with illustrations by H.M. Brett.\n",
      "Lovers of Louisiana (to-day), | $c: by George W. Cable.\n",
      "By the world forgot : | a double romance of the east and west / | $c: by Cyrus Townsend Brady ; with a frontispiece by Clarence F. Underwood.\n",
      "Robinetta, | $c: by Kate Douglas Wiggin, Mary Findlater, Jane Findlater, Allan McAulay [pseud.]\n",
      "The car of destiny\n",
      "Skinner's dress suit / | $c: illustrated by F. Vaux Wilson.\n",
      "The Bobbsey twins in a great city / | $c: by Laura Lee Hope.\n",
      "The valley of the moon, | $c: by Jack London.\n",
      "The abysmal brute\n",
      "Pidgin island, | $c: by Harold MacGrath... illustrated by Arthur William Brown.\n",
      "The outdoor girls in Florida, or, Wintering in the sunny south.\n",
      "error\n",
      "A young man's year\n",
      "A baby of the frontier\n",
      "The Yellow Typhoon\n",
      "Caught in the net\n",
      "As the sparks fly upward / | $c: by Cyrus Townsend Brady ; with three illustrations by J. N. Marchand.\n",
      "The mutiny of the Elsinore, | $c: by Jack London.\n",
      "The mutiny of the Elsinore\n",
      "Understood Betsy / | $c: by Dorothy Canfield.  Illustrations by Ada C. Williamson.\n",
      "My Mark Twain; reminiscences and criticisms,\n",
      "The man who won / | $c: by Cyrus Townsend Brady ...\n",
      "The patriots; | the story of Lee and the last hope, | $c: by Cyrus Townsend Brady ... illustrations in colour by Walter H. Everett.\n",
      "The diamond from the sky;\n",
      "Bunny Brown and his sister Sue at Aunt Lu's city home / | $c: by Laura Lee Hope ; illustrated by Florence England Nosworthy.\n",
      "The outdoor girls in a winter camp : | or, Glorious days on skates and ice boats / | $c: by Laura Lee Hope.\n",
      "Rosy\n",
      "error\n",
      "Lord Loveland discovers America / | $c: by C.N. and A.M. Williamson ; with four illustrations in color by George Brehm.\n",
      "error\n",
      "The port of adventure, | $c: by C.N. & A.M. Williamson ...\n",
      "White fang / | $c: by Jack London.\n",
      "The crimson gardenia\n",
      "error\n",
      "The squirrel-cage / | $c: by Dorothy Canfield; with illustrations by John Alonzo Williams.\n",
      "The fetters of freedom, | $c: by Cyrus Townsend Brady; with illus. by the Kinneys.\n",
      "Front lines,\n",
      "When the sun stood still\n",
      "The strength of the strong, | $c: by Jack London; with frontispiece.\n",
      "Burning Daylight, | $c: by Jack London ...\n",
      "Second string\n",
      "The outdoor girls in a motor car; | or, The haunted mansion of Shadow Valley, | $c: by Laura Lee Hope.\n",
      "The call of the wild | $c: by Jack London. [Illustrated by Philip R. Goodwin and Charles Livingston Bull] Decorated by Chas. Edw. Hooper.\n",
      "The yellow dog, | $c: by Henry Irving Dodge.\n",
      "The secret service submarine; | a story of the present war. | $c: By Guy Thorne [pseud.].\n",
      "The carpet from Bagdad, | $c: by Harold MacGrath ... with illustrations by Andre Castaigne.\n",
      "Portraits of American women\n",
      "A hazard of new fortunes,\n",
      "Burning Daylight / | $c: by Jack London.\n",
      "On the old Kearsarge, | a story of the civil war, | $c: by Cyrus Townsend Brady; illustrated by Clifford W. Ashley.\n",
      "The little lady of the big house / | $c: by Jack London ...\n",
      "The seen and unseen at Stratford-on-Avon;\n",
      "The heather moon / | $c: by C.N. and A.M. Williamson.\n",
      "The poet at the breakfast table\n",
      "Between the lines\n",
      "The outdoor girls at the Hostess House ;\n",
      "The bent twig / | $c: by Dorothy Canfield.\n",
      "The shop girl, | $c: by C.N. & A.M. Williamson; illustrations by the Vitagraph Company.\n",
      "When God laughs, | and other stories, | $c: by Jack London.\n",
      "Mr. Barrington.\n",
      "Another man's shoes / | $c: by Victor Bridges.\n",
      "The curse of the Nile; | a romance of the siege and fall of Khartum, and the fate of the white prisoners in Omdurman, | $c: by Douglas Sladen ...\n",
      "The fighting man, | $c: by William A. Brady. With many photographs.\n",
      "The life mask;\n",
      "The life mask; | a novel, | $c: by the author of \"To M. L. G.\"\n",
      "The net; a novel | $c: by Rex Beach...\n",
      "A little book for Christmas; | containing a greeting, a word of advice, some personal adventures, a carol, a meditation, and three Christmas stories of all ages, | $c: by Cyrus Townsend Brady, with illustrations and decorations by Will Crawford.\n",
      "The lady from Long Acre\n",
      "The Bobbsey twins at home / | $c: by Laura Lee Hope.\n",
      "Hans Brinker;\n",
      "error\n",
      "By blow and kiss\n",
      "Lovers of Louisiana | (to-day) | $c: by George W. Cable.\n",
      "The cradle of the deep : | an account of the adventures of Eleanor Channing and John Starbuck / | $c: by Jacob Fisher ; with a frontispiece in full color from a painting by Modest Stein.\n",
      "The old contemptibles / | $c: by Boyd Cable.\n",
      "The iron trail; | an Alaskan romance, | $c: by Rex Beach.\n",
      "Waif-o-the-sea;\n",
      "It happened in Egypt / | $c: by C. N. & A. M. Williamson.\n",
      "The Bobbsey twins in Washington. / | $c: By Laura Lee Hope.\n",
      "error\n",
      "And thus He came;\n",
      "The star rover.\n",
      "The auction block\n",
      "Second string,\n",
      "The winds of chance\n",
      "The Treloars\n",
      "The island of surprise / | $c: by Cyrus Townsend Brady ... ; illustrations by Walter Tittle.\n",
      "The lion's mouse\n",
      "The sword hand of Napoleon; | a romance of Russia and the great retreat, | $c: by Cyrus Townsend Brady ... illustrated by the Reeses.\n",
      "South sea tales / | $c: by Jack London.\n",
      "The iron heel / | $c: by Jack London.\n",
      "A hazard of new fortunes / | $c: W. D. Howells.\n",
      "Hillsboro people\n",
      "Susanna and Sue / | $c: with illus. by Alice Barber Stephens and N.C. Wyeth.\n",
      "New Leaf Mills; | a chronicle | $c: [by] W.D. Howells.\n",
      "He made his wife his partner / | $c: by Henry Irving Dodge ... ; illustrated by William Shewell Ellis.\n",
      "The moving picture girls at Oak Farm, or, Queer happenings while taking rural plays / | $c: by Laura Lee Hope.\n",
      "Twilight tales of the black Baganda, with illustations / | $c: by Mrs. A. B. Fisher.\n",
      "error\n",
      "Everyman's land\n",
      "Air service boys over the Rhine\n",
      "The carpet from Bagdad\n",
      "The lion's mouse, | $c: by C.N. & A.M. Williamson; frontispiece by Harry Stacey Benton.\n",
      "Beaumaroy home from the wars\n",
      "The chalice of courage\n",
      "A Christmas when the West was young / | $c: by Cyrus Townsend Brady ...\n",
      "error\n",
      "The moving picture girls under the palms : | or; Lost in the wilds of Florida / | $c: by Laura Lee Hope.\n",
      "The motor maid, | $c: by C. N. and A. M. Williamson;  illustratetions by F. Melville Du Mond and F. Lowenbeim.\n",
      "The secret of the tower, | $c: by Anthony Hope [pseud.]\n",
      "Robinetta, | $c: by Kate Douglas Wiggin and Mary Findlater, Jane Findlater, Allan McAulay [pseud.] ...\n",
      "The place of honeymoons, | $c: by Harold MacGrath ... with illustrations by Arthur I. Keller.\n",
      "An Annapolis first classman, | $c: by Lt. Com. Edward L. Beach, illustrated by Frank T. Merrill.\n",
      "John Barleycorn. | Illustrated by H.T. Dunn.\n",
      "The golden silence\n",
      "The case of Mary Sherman; | a novel / | $c: by Jasper Ewing Brady : illustrated by Charles F. Lester,\n",
      "Skinner's big idea, | $c: by Henry Irving Dodge ...\n",
      "Gideon's band; | a tale of the Mississippi, | $c: By George W. Cable, illustrated by F.C. Yohn.\n",
      "0.6242000000000002 0.03904305315930096\n",
      "297.88129999999984\n",
      "\n",
      "\n",
      "\n",
      "\n",
      "1920s\n"
     ]
    },
    {
     "name": "stderr",
     "output_type": "stream",
     "text": [
      "/Users/au701203/opt/anaconda3/lib/python3.9/site-packages/seaborn/distributions.py:2619: FutureWarning: `distplot` is a deprecated function and will be removed in a future version. Please adapt your code to use either `displot` (a figure-level function with similar flexibility) or `histplot` (an axes-level function for histograms).\n",
      "  warnings.warn(msg, FutureWarning)\n"
     ]
    },
    {
     "name": "stdout",
     "output_type": "stream",
     "text": [
      "Selected stories from Kipling, | $c: ed. by William Lyon Phelps.\n",
      "Captures, | $c: by John Galsworthy ...\n",
      "Plain tales from the hills,\n",
      "The works of Anatole France.\n",
      "error\n",
      "Segelfoss town / | $c: Translated from the Norwegian of Knut Hamsun by J. S. Scott.\n",
      "Stalky & Co., | $c: by Rudyard Kipling.\n",
      "Broken ties, and other stories,\n",
      "The seven wives of Bluebeard / | $c: by Anatole France.\n",
      "Fifteen tales,\n",
      "To let, | $c: by John Galsworthy.\n",
      "Villa Rubein : | and other stories.\n",
      "The seven wives of Bluebeard & other marvellous tales\n",
      "Five tales. | $c: New York, Scribner Sons, 1921.\n",
      "Jean-Christophe: | Dawn, Morning, Youth, Revolt, | $c: by Romain Rolland; tr. by Gilbert Cannan.\n",
      "[Works]\n",
      "Monsieur Bergeret in Paris; | $c: translation by B. Drillien.\n",
      "Pan / | $c: translated from the Norwegian of Knut Hamsun, by W. W. Worster, with an introduction by Edwin Björkman.\n",
      "The dark flower, | $c: by John Galsworthy.\n",
      "Mother of pearl / | $c: by Anatole France ; a translation by Frederic Chapman.\n",
      "Main street; | the story of Carol Kennicott, | $c: by Sinlair Lewis ...\n",
      "A murmer's tale, | $c: by Anatole France; a translation by Charles E. Roche.\n",
      "Under the deodars, The phantom 'rickshaw, Wee Willie Winkie,\n",
      "Mother of pearl. | $c: A translation by Frederic Chapman.\n",
      "The works of Anatole France in an English translation / | $c: edited by Frederic Chapman.\n",
      "On life and letters : | second series / | $f: a translation by A.W. Evans.\n",
      "The phantom 'rickshaw and other stories,\n",
      "Life's handicap; | being stories of mine own people, | $c: by Rudyard Kipling.\n",
      "The crime of Sylvestre Bonnard\n",
      "The island of the great mother; | or, The miracle of île des dames; a story from the Utonian archipelago, | $c: translated by Willa and Edwin Muir.\n",
      "Main Street\n",
      "Balthasar; | $c: a translation by Mrs. John Lane.\n",
      "The jungle book, / | $c: by Rudyard Kipling.\n",
      "Little sea dogs, | and other tales of childhood, | $c: by Anatole France, translated by Alfred Allinson & J. Lewis May; illustrated in colour and black and white by Marcia Lane Foster.\n",
      "The wreck\n",
      "At the sign of the Reine Pédauque / | $c: by Anatole France.\n",
      "The village; | authorized translation from the Russian of Ivan Bunin, | $c: by Isabel F. Hapgood.\n",
      "Pierre and Luce\n",
      "A commentary, | $c: by John Galsworthy...\n",
      "Tatterdemalion, | $c: by John Galsworthy.\n",
      "Clerambault : | the story of an independent spirit during the war / | $c: by Romain Rolland ; translated by Katherine Miller.\n",
      "To let\n",
      "Marguerite\n",
      "error\n",
      "The amethyst ring. | $c: A translation by B. Drillien.\n",
      "Jerusalem; | a novel from the Swedish of Selma Lagerlöf: | $c: tr. by Velma Swanston Howard [with an introduction by Henry Goddard Leach]\n",
      "Babbitt / | $c: by Sinclair Lewis.\n",
      "The peasants ... [from the Polish of Ladislas St. Reymont]\n",
      "The bloom of life / | $c: by Anatole France ; translated by J. Lewis May.\n",
      "\"They\" and The brushwood boy, | $c: by Rudyard Kipling; with illustrations by F. H. Townsend.\n",
      "The village; | $c: authorized translation from the Russian of Ivan Buni, by Isabel F. Hapgood.\n",
      "Caravan : | the assembled tales of John Galsworthy.\n",
      "Five tales, | $c: by John Galsworthy.\n",
      "The amethyst ring, | $c: by Anatole France; a translation by B. Drillien.\n",
      "Captain's courageous: | a story of the Grand Banks, | $c: by Rudyard Kipling.\n",
      "A mummer's tale, | $c: by Anatole France; a translation by Charles E. Roche.\n",
      "The crime of Sylvestre Bonnard (Member of the Insitute) / | $c: by Anatole France ; translation and introduction by Lafcadio Hearn.\n",
      "The day's work, | $c: by Rudyard Kipling\n",
      "Main street.\n",
      "The crime of Sylvestre Bonnard / | $c: by Anatole France ; a translation by Lafcadio Hearn.\n",
      "Thaïs | $c: by Anatole France. |  A translation by Robert B. Douglas.\n",
      "Main Street / | $c: by Sinclair Lewis.\n",
      "Traffic and discoveries.\n",
      "Phantom, | a novel. / | $c: Translated by Bayard Quincy Morgan.\n",
      "The seven wives of Bluebeard & other marvellous tales / | $c: by Anatole France ; translated by D.B. Stewart.\n",
      "Phantom | $c: by Gerhart Hauptmann.\n",
      "Wanderers,\n",
      "The country house\n",
      "The day's work. | Many inventions.\n",
      "The com??dienne\n",
      "The outcast.\n",
      "Growth of the soil / | $c: by Knut Hamsun ; translated from the Norwegian by W.W. Worster.\n",
      "Just so stories for little children ...\n",
      "Strait is the gate [La porte étroite\n",
      "Captures, | $c: by John Galsworthy.\n",
      "The country house | [a novel] | $c: by John Galsworthy ...\n",
      "A diversity of creatures, | $c: by Rudyard Kipling.\n",
      "Thais\n",
      "Count Morin, deputy,\n",
      "The gods are athirst / | $c: by Anatole France ; a translation by Mrs. Wilfrid Jackson.\n",
      "error\n",
      "The aspirations of Jean Servien, | $c: by Anatole France, a translation by Alfred Allinson.\n",
      "The works of Anatole France in English; | $c: edited by Frederic Chapman and James Lewis May.\n",
      "Crainquebille\n",
      "Little Pierre.\n",
      "Royal highness : | a novel of German court life.\n",
      "Kim, | $c: by Rudyard Kipling.\n",
      "0.6034523809523811 0.030841146279846274\n",
      "271.53877261904745\n",
      "Plays\n"
     ]
    },
    {
     "name": "stderr",
     "output_type": "stream",
     "text": [
      "/Users/au701203/opt/anaconda3/lib/python3.9/site-packages/seaborn/distributions.py:2619: FutureWarning: `distplot` is a deprecated function and will be removed in a future version. Please adapt your code to use either `displot` (a figure-level function with similar flexibility) or `histplot` (an axes-level function for histograms).\n",
      "  warnings.warn(msg, FutureWarning)\n"
     ]
    },
    {
     "name": "stdout",
     "output_type": "stream",
     "text": [
      "The unseen ear\n",
      "The fire in the flint | $c: [by] Walter F. White.\n",
      "The tale of Grandfather Mole / | $c: by Arthur Scott Bailey ; illustrated by Harry L. Smith.\n",
      "The keeper of the bees, | $c: by Gene Stratton-Porter; decorations by Lee Thayer, illustrations by Gordon Grant.\n",
      "Queer Judson, | $c: by Joseph C. Lincoln.\n",
      "Whispers\n",
      "The gay cockade\n",
      "Jurgen; | a comedy of justice, | $c: by James Branch Cabell.\n",
      "Portraits and sketches of Serbia\n",
      "error\n",
      "Liza of Lambeth\n",
      "The drums of jeopardy, | $c: by Harold MacGrath; illustrated by Ralph Allen Pallen Coleman.\n",
      "Tales of the pampas, | $c: by W. H. Hudson.\n",
      "Vision house / | $c: by C. N. and A. M. Williamson.\n",
      "El Ombú, | $c: by W. H. Hudson.\n",
      "The drums of jeopardy / | $c: by Harold MacGrath ; ill. by Ralph Pallen Coleman.\n",
      "The tale of Henrietta Hen / | $c: by Arthur Scott Bailey ; illustrated by Harry L. Smith.\n",
      "The star people\n",
      "The sisters-in-law;\n",
      "The fire in the flint.\n",
      "The death of society; | a novel of tomorrow, | $c: by Romer Wilson [pseud.] ...\n",
      "The ragged edge / | $c: by Harold MacGrath ; frontispiece by George W. Gage.\n",
      "The purple land: | being the narrative of one Richard Lamb's adventures in the Banda Orientál, in South America, as told by himself. | $c: By W. H. Hudson with an introductory note by Theodore Roosevelt.\n",
      "Ellen Levis;\n",
      "The explorer / | $c: by W. Somerset Maugham.\n",
      "Buried alive : | a tale of these days / | $c: by Arnold Bennett.\n",
      "Maori and settler\n",
      "Plays / | $c: by Susan Glaspell.\n",
      "The bright messenger, | by Algernon Blackwood.\n",
      "Blue blood; | a dramatic interlude, | $c: by Owen Johnson.\n",
      "Domnei : | a comedy of woman-worship / | $c: by James Branch Cabell.\n",
      "The bright messenger.\n",
      "Riceyman steps, | a novel ...\n",
      "The wolves of God, | and other stories, | $c: by Algernon Blackwood and Wilfred Wilson.\n",
      "The Portygee;\n",
      "The unseen ear / | $c: by Natalie Sumner Lincoln.\n",
      "The seven stars, | $c: by L. H. Bailey.\n",
      "The spark (The 'sixties) Decorations by E.C. Caswell.\n",
      "error\n",
      "Cryder\n",
      "A shepherd's life; | impressions of the South Wiltshire downs, | $c: by W. H. Hudson; illustrated by Bernard C. Gotch.\n",
      "The Bobbsey Twins at the county fair / | $c: by Laura Lee Hope.\n",
      "Gypsy down the lane,/ | $c: by Thames Williamson...\n",
      "Sunny Boy in school and out / | $c: by Ramy Allison White ; illustrated by Howard L. Hastings.\n",
      "Abbé Pierre / | $c: by Jay William Hudson.\n",
      "From Hawthorne hall; | an historical story, 1885, | $c: by William Lyman Johnson.\n",
      "Blair's attic, | $c: by Joseph C. Lincoln and Freeman Lincoln; end papers by N. C. Wyeth.\n",
      "error\n",
      "Figures of earth : | a comedy of appearances / | $c: by James Branch Cabell ...\n",
      "Tony | $c: [by] Stephen Hudson [pseud.]\n",
      "The light heart, | $c: by Maurice Hewlett.\n",
      "The red seal / | $c: by Natalie Sumner Lincoln.\n",
      "A son of his father / | $c: by Harold Bell Wright ...\n",
      "Dead Man's Pack and An old thorn.\n",
      "Sun brothers,.\n",
      "Log cabin days;\n",
      "The tale of Mrs. Ladybug / | $c: by Arthur Scott Bailey ; illustrated by Harry L. Smith.\n",
      "error\n",
      "Figures of earth ; | a comedy of appearances, | $c: by James Branch Cabell.\n",
      "Queen Elizabeth's maids of honour and ladies of the privy chamber, | $c: by Violet A. Wilson; with twelve portraits.\n",
      "The gray dawn, | $c: by Stewart Edward White; frontispiece by Thomas Fogarty.\n",
      "The king's mirror | [a novel] | $c: by Anthony Hope [pseud.]\n",
      "The death of society, | a novel of tomorrow, | $c: with an introduction by Hugh Walpole.\n",
      "The light heart,\n",
      "error\n",
      "The river dragon's bride\n",
      "The wagon wheel / | $c: by William Patterson White ; with frontispiece by Remington Schuyler.\n",
      "The \"Old home house\", | $c: by Joseph C. Lincoln.\n",
      "The sandman's mountain; | a story for large persons to read to small persons, | $c: by Louis Dodge; illustrated by Paul Bransom.\n",
      "Judy of York Hill / | $c: by Ethel Hume ; with illustrations by Harold Cue.\n",
      "Riceyman Steps.\n",
      "The verge; | a play in three acts, | $c: by Susan Glaspell.\n",
      "The Tennessee shad: | a Lawrenceville story, | $c: by Owen Johnson.\n",
      "The old wives' tale; | a new ed., with prface, | $c: by Arnold Bennett.\n",
      "error\n",
      "Doctor Nye of North Ostable, | a novel, | $c: by Joseph C. Lincoln.\n",
      "error\n",
      "The forest lovers : | a romance , | $c: by Maurice Hewlett.\n",
      "Flowing gold, | $c: by Rex Beach...\n",
      "Oh, shoot! | Confessions of an agitated sportsman, | $c: by Rex Beach ... with illustrations from photographs taken by the author.\n",
      "Dead man's plack, An old thorn\n",
      "Sleeping fires;\n",
      "Where strange gods call : | pages out of the East, | $c: by Harry Hervey, with illustrations by Christopher Murphy ...\n",
      "And even now, | $c: by Max Beerbohm.\n",
      "From Hawthorne hall;\n",
      "Simon Dale, | $c: by Anthony Hope [pseud.]\n",
      "Her father's daughter ...\n",
      "The torrent | (Entre naranjos) | $c: by Vicente Blasco Ibañez, tr. from the Spanish by Isaac Goldberg and Arthur Livingston.\n",
      "Zuleika Dobson : | or, An Oxford love story / | $c: by Max Beerbohm.\n",
      "The blazed trail, | $c: by Stewart Edward White.\n",
      "Jurgen;\n",
      "A traveller in little things\n",
      "Robin Hood's barn;\n",
      "The cords of vanity; | a comedy of shirking.\n",
      "The seven ages of man\n",
      "Ralph Herne, | $c: by W.H. Hudson.\n",
      "error\n",
      "The keeper of the bees ...\n",
      "Far away and long ago; | a history of my early life.\n",
      "Portraits and sketches of Serbia, | $c: by Francesca M. Wilson.\n",
      "The old maid (the 'fifties).\n",
      "The Sheridan road mystery\n",
      "The second latchkey\n",
      "The drums of jeopardy\n",
      "The cream of the jest ; | a comedy of evasions, | $c: by James Branch Cabell.\n",
      "error\n",
      "A crystal age / | $c: with an introduction by Dr. Clifford Smyth.\n",
      "Fair Harbor; | a novel.\n",
      "Vision house, | $c: by C. N. & A. M. Williamson.\n",
      "Our women; | chapters on the sex-discord, | $c: by Arnold Bennett.\n",
      "Polly Oliver's problem; | a story for girls, | $c: by Kate Douglas Wiggin.\n",
      "Buried alive\n",
      "Basil Everman / | $c: by Elsie Singmaster.\n",
      "Flowing gold\n",
      "Gallantry; | dizain des fêtes galantes / | $c: by James Branch Cabell; with an introd. by Louis Untermeyer.\n",
      "Zuleika Dobson, | $c: by Max Beerbohm; introduction by Francis Hackett.\n",
      "Air service boys over the Atlantic.\n",
      "Laddie; | $c: by Gene Stratton-Porter; illustrations by Herman Pfeifer.\n",
      "Love shall not pass\n",
      "The mine with the iron door; | a romance, | $c: by Harold Bell Wright.\n",
      "Jurgen : | a comedy of justice / | $c: Branch Cabell ; with an introd. by Hugh Walpole.\n",
      "The cords of vanity; | a comedy of shirking. | $c: With an introduction by Wilson Follett.\n",
      "Mr. Prohack\n",
      "The story of a white rocking horse / | $c: illustrated by Harry L. Smith.\n",
      "The marriage of Patricia Pepperday\n",
      "The tale of Chirpy Cricket /\n",
      "Six little Bunkers at Captain Ben's / | $c: By Laura Lee Hope.\n",
      "Rogue's haven, | $c: by Roy Bridges.\n",
      "Elsie and the child, | and other stories, | $c: by Arnold Bennett.\n",
      "Flowing gold / | $c: by Rex Beach.\n",
      "Zuleika Dobson; | or, An Oxford love story, | $c: by Max Beerbohm.\n",
      "The marriage of Patricia Pepperday / | $c: by Grace Miller White ; with frontispiece by Ralph P. Coleman.\n",
      "The mystery / | $c: by Stewart Edward White and Samuel Hopkins Adams; illustrations by Will Crawford.\n",
      "Domnei; | a comedy of woman-worship ... | $c: with an introduction by Joseph Hergesheimer ...\n",
      "Wind along the waste\n",
      "Scouts of the desert\n",
      "Under the rose, | $c: by Arthur Johnson.\n",
      "Gold, | $c: by Stewart Edward White; frontispiece by Thomas Fogarty.\n",
      "The eagle's shadow : | a comedy of purse-strings / | $c: by James Branch Cabell ; with an introduction by Edwin Björkman.\n",
      "Lukundoo : | and other stories / | $c: by Edward Lucas White ...\n",
      "Lilian, | $c: by Arnold Bennett.\n",
      "On a Chinese screen, | $c: by W. Somerset Maugham.\n",
      "The varmint : | a Lawrenceville story.\n",
      "Their hearts / | $c: by Violet Hunt ...\n",
      "The islands of desire; | a novel, | $c: by Diana Patrick [pseud.] ...\n",
      "The light heart\n",
      "Sunny boy at the seashore / | $c: by Ramy Allison White ; illustrated by Charles L. Wrenn.\n",
      "Creeping Jenny and other New England stories / | $c: by Kate Douglas Wiggin ; with a frontispiece by Helen Mason Grose.\n",
      "Basil Everman\n",
      "Dragon's blood : | conte de fée deuxième / | $c: by Romer Wilson.\n",
      "Whispers, | $c: by Louis Dodge.\n",
      "Bennett Malin, | a novel | $c: by Elsie Singmaster.\n",
      "Partners of the tide, | $c: by Joseph C. Lincoln ...\n",
      "Fair harbor : | a novel / | $c: by Joseph C. Lincoln.\n",
      "The four horsemen of the Apocalypse. | (Los cuatro jinetes del Apocalipsis) from the Spanish of Vicente Blasco Ibañez; | $c: authorized translation by Charlotte Brewster Jordan.\n",
      "The last of the gnostic masters : | a novel / | $c: by Thomas Sawyer Spivey.\n",
      "Rogues' haven\n",
      "Christmas every day and other stories\n",
      "0.6132666666666667 0.0431662934346799\n",
      "283.2257393333333\n",
      "\n",
      "\n",
      "\n",
      "\n",
      "1930s\n"
     ]
    },
    {
     "name": "stderr",
     "output_type": "stream",
     "text": [
      "/Users/au701203/opt/anaconda3/lib/python3.9/site-packages/seaborn/distributions.py:2619: FutureWarning: `distplot` is a deprecated function and will be removed in a future version. Please adapt your code to use either `displot` (a figure-level function with similar flexibility) or `histplot` (an axes-level function for histograms).\n",
      "  warnings.warn(msg, FutureWarning)\n",
      "/Users/au701203/opt/anaconda3/lib/python3.9/site-packages/numpy/core/fromnumeric.py:3419: RuntimeWarning: Mean of empty slice.\n",
      "  return _methods._mean(a, axis=axis, dtype=dtype,\n",
      "/Users/au701203/opt/anaconda3/lib/python3.9/site-packages/numpy/core/_methods.py:188: RuntimeWarning: invalid value encountered in double_scalars\n",
      "  ret = ret.dtype.type(ret / rcount)\n",
      "/Users/au701203/opt/anaconda3/lib/python3.9/site-packages/numpy/core/_methods.py:261: RuntimeWarning: Degrees of freedom <= 0 for slice\n",
      "  ret = _var(a, axis=axis, dtype=dtype, out=out, ddof=ddof,\n",
      "/Users/au701203/opt/anaconda3/lib/python3.9/site-packages/numpy/core/_methods.py:221: RuntimeWarning: invalid value encountered in true_divide\n",
      "  arrmean = um.true_divide(arrmean, div, out=arrmean, casting='unsafe',\n",
      "/Users/au701203/opt/anaconda3/lib/python3.9/site-packages/numpy/core/_methods.py:253: RuntimeWarning: invalid value encountered in double_scalars\n",
      "  ret = ret.dtype.type(ret / rcount)\n",
      "/Users/au701203/opt/anaconda3/lib/python3.9/site-packages/seaborn/distributions.py:2619: FutureWarning: `distplot` is a deprecated function and will be removed in a future version. Please adapt your code to use either `displot` (a figure-level function with similar flexibility) or `histplot` (an axes-level function for histograms).\n",
      "  warnings.warn(msg, FutureWarning)\n",
      "/Users/au701203/opt/anaconda3/lib/python3.9/site-packages/seaborn/distributions.py:2657: RuntimeWarning: Mean of empty slice.\n",
      "  line, = ax.plot(a.mean(), 0)\n",
      "/Users/au701203/opt/anaconda3/lib/python3.9/site-packages/numpy/lib/histograms.py:905: RuntimeWarning: invalid value encountered in true_divide\n",
      "  return n/db/n.sum(), bin_edges\n"
     ]
    },
    {
     "name": "stdout",
     "output_type": "stream",
     "text": [
      "nan nan\n",
      "nan\n",
      "The lady of the manor | $c: [by] Archibald Marshall.\n",
      "error\n",
      "The string glove mystery, | $c: by Harriette R. Campbell.\n",
      "Mystery at the rectory.\n",
      "Stardust, | $c: by D. L. Murray.\n",
      "Death watch on the Gazette, | $c: by Guy W. Finney.\n",
      "Two families, | $c: by Archibald Marshall.\n",
      "The haunted bookshop.\n",
      "Murder in a walled town; | the private memoirs of Wayne Armitage, | $c: by Katherine Woods.\n",
      "From this hill look down / | $c: by Elliott Merrick ; drawings by Allen Congdon.\n",
      "The Grand Babylon Hotel. | a fantasia on modern Themes.\n",
      "Try all ports / | $c: by Elinor Whitney ; illustrated by Bernard Westmacott.\n",
      "Beppo / | $c: written and pictured by Emma Brock.\n",
      "For further reading, a list of one hundred and sixty novels from fifteen literatures ...\n",
      "Mr. Darlington's dangerous age / | $c: by Isa Glenn.\n",
      "An epic on California : the golden empire, | $c: by Louise C. Vallet Anderson ...\n",
      "In time of peace / | $c: by Thomas Boyd.\n",
      "Candles in the wind, | $c: by Maud Diver.\n",
      "Murder unleashed, | $c: by Dorothy Bennett.\n",
      "Doctor Bradley remembers.\n",
      "Frankie and Johnnie : | a love story / | $c: by Meyer Levin.\n",
      "Susan of the Green mountains, | $c: by Genevieve Fox; with illustrations by Forrest W. Orr.\n",
      "The rim of the prairie, | $c: by Bess Streeter Aldrich.\n",
      "The oxen of the sun; | a novel of our times, | $c: by Irving Bacheller, with an introduction by Richard Burton.\n",
      "The rebel loyalist, | $c: by Ralph Connor [i. e. Charles William Gordon]\n",
      "Parched earth / | $c: by Arnold B. Armstrong.\n",
      "Town house, | $c: by Tait Morley.\n",
      "The wedding / | $c: by Grace Lumpkin.\n",
      "A gala dress.\n",
      "White python ; | adventure and mystery in Tibet | $c: [by] Mark Channing.\n",
      "Mulberry square.\n",
      "Railroad west, a novel | $c: [by] Cornelia Meigs ; with illustrations by Helen Hunt Bencker.\n",
      "Sudden silence, | the case of the murdered band-leader, | $c: by Cortland Fitzsimmons.\n",
      "A Jew in love.\n",
      "The arm of gold, | $c: by Ralph Connor [pseud.]\n",
      "The novels and stories of Willa Cather ...\n",
      "Page Mr. Pomeroy; | a novel | $c: by Elizabeth Jordan.\n",
      "Barefoot days / | $c: by Anna Rose Wright ; illustrations by Paul Chapman.\n",
      "A case for Mr. Paul Savoy, | $c: by Jackson Gregory.\n",
      "The dream prevails, | a story of India ...\n",
      "The role of the teacher in personnel work.\n",
      "Clara Alice / | $c: by Julia A. Norton.\n",
      "Frank Forester <Henry William Herbert> | a tragedy in exile, | $c: by William Southworth Hunt.\n",
      "The strongest son, | $c: by Barbara B. Stevens.\n",
      "error\n",
      "Mr. Fortune explains, | $c: by H. C. Bailey.\n",
      "Jennie Gerhardt, | a novel\n",
      "Love for two / | $c: by Mildred Gilman.\n",
      "Yesterday's promise | $c: [by] Mary Badger Wilson.\n",
      "Toward romance.\n",
      "The long way home, | $c: by Sylvia Chatfield Bates.\n",
      "error\n",
      "Morgan's yard, | $c: by Richard Pryce.\n",
      "Victory ! / | $c: Charles Elmo Robinson.\n",
      "Hungry men / | $c: [by] Edward Anderson.\n",
      "error\n",
      "Terrania, or, The feminization of the world / | $c: by Columbus Bradford\n",
      "Hillikin.\n",
      "Death sails with Magellan / | $c: by Charles Ford.\n",
      "The road to San Jacinto, | $c: by J. Frank Davis.\n",
      "Casuals of the sea / | $c: by William McFee ; with an introd. by Christopher Morley.\n",
      "The teacher and school organization, | by Leo M. Chamberlain.\n",
      "Amusement park, | $c: by Roger Garis.\n",
      "We inheritors, | $c: by Mary Stuart Chamberlain.\n",
      "My great, wide, beautiful world, | $c: by Juanita Harrison; arranged and prefaced by Mildred Morris.\n",
      "The omnibus Fleming Stone | $c: Carolyn Wells.\n",
      "Strange passage.\n",
      "Captain Samson, A.D., | $c: by Gavin Douglas.\n",
      "Sometime.\n",
      "Flower of thorn.\n",
      "Two make a world / | $c: Peter B. Kyne.\n",
      "Begin no day | $c: [by] Wellington Roe.\n",
      "Vestal virgin, | $c: by Arthur Meeker, jr.\n",
      "Body unidentified.\n",
      "The gringo privateer ; and Island of desire.\n",
      "Black fortune, | $c: by E. K. Means.\n",
      "Big business, | $c: by A. S. M. Hutchinson, with illustrations by Gluyas Williams.\n",
      "The harvest murder; | a Dr. Priestley detective story, | $c: by John Rhode [pseud.]\n",
      "The Craig poisoning mystery | $c: [by] A. Fielding.\n",
      "Old Chester days | $c: [by] Margaret Deland.\n",
      "Mr. Fortune speaking, | $c: by H. C. Bailey.\n",
      "The Garston murder case ...\n",
      "Too many boats.\n",
      "Bird life at the pole, | $c: by Commander Christopher Robin as told to Wolcott Gibbs; pictures by Bruton & Bruton.\n",
      "Weep no more | $c: [by] Ward Greene.\n",
      "The mystery at Chillery, | $c: by R. Francis Foster.\n",
      "Puckered moccasins : | a tale of old Fort Dearborn / | $c: by Bernadine Freeman Bailey ; pictures by Gaye Woodring Coons.\n",
      "A man of purpose; | a novel, | $c: by Donald Richberg.\n",
      "Facts, fables, and fancies, | $c: by William Henry Kelly; edited by Norman Joseph Sondheim, illustrated by Barbara Teel.\n",
      "Black adventure / | $c: by Joseph Dixon.  Edited by Nan Denker. Illustrated by Kay Russon.\n",
      "Black feather / | $c: by Harold Titus.\n",
      "Front porch, | $c: by Reginald Wright Kauffman.\n",
      "Mysterious rancho.\n",
      "Murder in the cellar | $c: [by] Louise Eppley and Rebecca Gayton.\n",
      "Dian of the lost land.\n",
      "A knight and a day / | $c: by Ivan Swift ...\n",
      "Uncle Peel, | $c: by Irving Bacheller.\n",
      "error\n",
      "Inchin' along, | $c: by Welbourn Kelley.\n",
      "Sean and Sheela / | $c: by Marian King ; pictured by Emma Brock.\n",
      "error\n",
      "Padre Porko, | the gentlemanly pig, | $c: by Robert Davis; illustrated by Fritz Eichenberg.\n",
      "Sky farm, | $c: by Clarice Blake.\n",
      "The appletons of Herne, | a family chronicle | $c: by Archibald Marshall.\n",
      "The seventh gate, | $c: by Muriel Harris.\n",
      "James Shore's daughter.\n",
      "Murder of a missing man | $c: [by] Arthur M. Chase.\n",
      "error\n",
      "The most pleasant and delectable questions of love,\n",
      "The ecstasy of Owen Muir.\n",
      "The drum of Lanoraye; | a narrative of the days of Talon, the great intendant ...\n",
      "Our gods are not born: | a book of American short stories, | $c: by Charles R. Walker.\n",
      "Little saints annoy the Lord / | $c: by Arthur H. Hutchinson.\n",
      "The Square circle.\n",
      "The silver flute / | $c: Lida Larrimore [pseud.]\n",
      "The little colonel in Arizona / | $c: by Annie Fellows Johnston ; illustrated by Etheldred B. Barry.\n",
      "Three in a trailer / | $c: by Ralph Henry Barbour ; illustrated by Edward C. Caswell.\n",
      "Purslane, | $c: by Kelly Harris.\n",
      "Their ships were broken, | $c: by Constance Wright.\n",
      "The Westminster mystery, | $c: by Elaine Hamilton.\n",
      "The parachute murder, | $c: by Lebbeus Mitchell.\n",
      "The rainbow trail.\n",
      "New land, | a novel for boys and girls, | $c: by Sarah Lindsay Schmidt; illustrated by Frank Dobias.\n",
      "Marika / | $c: by Sari Szekely ; illustrated by Barbara Gabor.\n",
      "Conveyor : | a novel / | $c: by James Steele.\n",
      "East of Eden | $c: [by] Isa Glenn.\n",
      "13 Thirteenth street, | $c: by Natalie Sumner Lincoln.\n",
      "Love comes to Mary / | $c: Ruby M. Ayres.\n",
      "One was valiant.\n",
      "Where will I be at fifty? | A study in man-power.\n",
      "The coming of the Amazons, | a satiristic speculation on the scientific future of civilization, | $c: by Owen Johnson.\n",
      "The chinaberry tree; | a novel of American life, | $c: by Jessie Fauset.\n",
      "error\n",
      "Jungle gold, | $c: by Harold Bindloss.\n",
      "The devil and the deep sea ...\n",
      "The first Christmas tree [and] The story of the other wise man.\n",
      "Murder from beyond.\n",
      "David's day.\n",
      "The case of the Malverne diamonds.\n",
      "The Willoughbys, | $c: by Alice Brown.\n",
      "A sign for Cain, | $c: by Grace Lumpkin.\n",
      "The concave mirror / | $c: by W.B. Maxwell.\n",
      "Saturday-night girl : | a love story / | $c: by Vivian Grey.\n",
      "The young forester / | $c: Zane Grey.\n",
      "Gulliver's travels into some strange parts of the world : | condensed from the immortal tale of Dean Swift / | $c: by Leonora de Lima Andrews.\n",
      "Dark valley / | $c: Jackson Gregory.\n",
      "The preacher | $c: [by] Garett Holmes.\n",
      "Mrs. Morton of Mexico, | $c: by Arthur Davison Ficke; decorations by Gladys Brown.\n",
      "Women are born to listen, | $c: by Norah C. James.\n",
      "Gypsies of the air / | $c: by Bess Moyer.\n",
      "Wings of destiny; | also containing Phantom of the desert, The grey shadow, The hand, Hightide | $c: [by] Winnie Fields Moore.\n",
      "error\n",
      "Literary love-letters, | and other stories.\n",
      "Acres of sky, | $c: by Charles Morrow Wilson.\n",
      "error\n",
      "The bank vault mystery, | $c: by Louis F. Booth.\n",
      "You wouldn't believe it / | $c: by Arthur Goodrich.\n",
      "Shoulder the sky / | $c: by James Gray.\n",
      "The Case of Mr. Crump, | $c: by Ludwig Lewison.\n",
      "Salute to freedom, | $c: a novel by Eric Lowe.\n",
      "0.6086666666666667 0.039894304801005816\n",
      "271.5288680000001\n",
      "\n",
      "\n",
      "\n",
      "\n",
      "1940s\n",
      "The science of hatred / | $c: Mikhail Sholokhov.\n",
      "The long love | $c: [by] John Sedges [pseud.]\n",
      "0.575 0.014999999999999958\n",
      "174.83480000000068\n",
      "The Bradshaws of Harniss, | $c: by Joseph C. Lincoln.\n"
     ]
    },
    {
     "name": "stderr",
     "output_type": "stream",
     "text": [
      "/Users/au701203/opt/anaconda3/lib/python3.9/site-packages/seaborn/distributions.py:2619: FutureWarning: `distplot` is a deprecated function and will be removed in a future version. Please adapt your code to use either `displot` (a figure-level function with similar flexibility) or `histplot` (an axes-level function for histograms).\n",
      "  warnings.warn(msg, FutureWarning)\n"
     ]
    },
    {
     "name": "stdout",
     "output_type": "stream",
     "text": [
      "The masquerade : | an historical novel / | $c: by Oscar Micheaux.\n",
      "The New Hope | $c: [by] Joseph C Lincoln and Freeman Lincoln.\n",
      "Victorian Cinderella; | the story of Harriet Beecher Stowe. Ports. by Elliott Means.\n",
      "Friday, thank God! | $c: By Fern Rives.\n",
      "The ghostland : | a novel / | $c: by Fred Rothermell.\n",
      "Caleb's luck / | $c: story by Laura Benét ; pictures by Ellis Credle.\n",
      "Cabbage holiday, | $c: by Anthony Thorne.\n",
      "Functional human anatomy, | $c: by Cleveland Pendleton Hickman...illustrated by Frances Miller Hickman.\n",
      "Two young Corsicans : | a boy and his colt / | $c: by Anna Bird Stewart ; illustrated by Catherine M. Richter.\n",
      "Whistle, daughter, whistle.\n",
      "Third ward, Newark.\n",
      "Manabush Menomini tales : | adventures of the Menomini cultural hero, Manabush / | $c: Dorothy Moulding Brown.\n",
      "The affair of the limping sailor / | $c: by Clifford Knight.\n",
      "The bitter roots / | $c: Norman Macleod.\n",
      "The Chinese room / | $c: Vivian Connell.\n",
      "Royal physician, | an historical novel | $c: by John Fitzgay [pseud.]\n",
      "Faraway island, | $c: by Elizabeth Jordan.\n",
      "The preacher of Cedar mountain | $c: [by] Ernest Thompson Seton.\n",
      "The evening wolves, | a novel.\n",
      "Boot-heel doctor, | a novel | $c: by Fannie Cook ...\n",
      "Decoy, | $c: by Cleve F. Adams.\n",
      "Shadow over Winding Ranch / | $c: Sarah Lindsay Schmidt ; with illustrations by Rafaello Busoni.\n",
      "Grass roots, | a novel of American politics, | $c: by Earl Schenck Miers.\n",
      "Flight to Utopia / | $c: Carleton Matthews.\n",
      "The wind from nowhere / | $c: by Oscar Micheaux.\n",
      "The velveteen rabbit; | or, How toys become real, | $c: by Margery Williams. Illustrated by William Nicholson.\n",
      "Banner by the wayside, | $c: by Samuel Hopkins Adams.\n",
      "Log cabin children / | $c: by Edith L. Johnson ; illustrated by Marion Downer.\n",
      "The adventures of Jerry Muskrat / | $c: by Thornton W. Burgess ; illustrated by Harrison Cady.\n",
      "My heart for hostage / | $c: [by] Robert Hillyer.\n",
      "The glittering hill / | $c: by Clyde F. Murphy ... .\n",
      "Trade wind tales, | $c: by Wade Warren Thayer.\n",
      "Backstage with Joe.\n",
      "The horn of life, | $c: by Gertrude Atherton.\n",
      "Other people. | $c: Illus. by George Carman.\n",
      "The five arrows / | $c: Allan Chase.\n",
      "Dave Dawson with the Pacific fleet / | $c: by R. Sidney Bowen.\n",
      "Private report, | a novel.\n",
      "The Blackbirder / | $c: Dorothy B. Hughes.\n",
      "Beach patrol / | $c: by Kerk Rogers ...\n",
      "City in the sun / | $c: by Karon Kehoe.\n",
      "Vinnie Ream and Mr. Lincoln / | $c: by Freeman H. Hubbard.\n",
      "The white winter : | a story of Scarlet Hill / | $c: by Elizabeth Bleecker Meigs ; illustrated by Frederick T. Chapman.\n",
      "Independent means : | a novel / | $c: by Frank Singleton.\n",
      "Licorice / | $c: story and pictures by Barbara Briggs.\n",
      "Tibb's flooders; | a tale of the Ohio River flood of 1937, | $c: by Elisabeth Peck.\n",
      "Indian fireside tales / | $c: Dorothy Moulding Brown.\n",
      "This side of paradise.\n",
      "Robert Cain, | $c: by William Russell.\n",
      "Tournament forward / | $c: C. Paul Jackson.\n",
      "The golden totem, | a novel of modern Alaska, | $c: by Barrett Willoughby.\n",
      "Administration of occupied areas; | a study guide, | $c: by Philip H. Taylor and Ralph J. D. Braibanti.\n",
      "error\n",
      "The far shore. | $c: With official U.S. Navy and Coast Guard photographs.\n",
      "The tale of Mrs. Tiggy-Winkle / | $c: by Beatrix Potter.\n",
      "Kona, | a novel | $c: by Marjorie Sinclair.\n",
      "Hit the rivet, sister, | $c: by Ann Pendleton [pseud.]\n",
      "This way to Christmas.\n",
      "Truant, | $c: by Richmond Barrett.\n",
      "Thirst : | a novel / | $c: Charles Lee Robinson.\n",
      "The Judas time, | $c: by Isidor Schneider.\n",
      "Dear life.\n",
      "View from a window, | a novel | $c: by F. Ruth Howard.\n",
      "Ken bails out : | a high Sierra adventure for boys / | $c: by Basil Miller.\n",
      "The moot point.\n",
      "Safety for the household.\n",
      "Scandal rag / | $c: by Joseph Harrington.\n",
      "Hawk's flight, | $c: by Helen Hull.\n",
      "The inward voyage.\n",
      "Theodore Dreiser. | $c: Edited, with an introd., by James T. Farrell.\n",
      "If we should fail / | $c: by Marion White.\n",
      "Road to Endor, | $c: a novel by Esther Barstow Hammand, illustrated by E. M. Simon.\n",
      "At the seashore / | $c: by W. W. Robinson ; with pictures by Irene Robinson.\n",
      "The strumpet wind, | $c: by Gordon Merrick.\n",
      "The mule skinners / | $c: by Myra Reed Richardson ; illustrated by Louis S. Glanzman.\n",
      "And never yield | $c: [by] Elinor Pryor.\n",
      "Wild grape.\n",
      "He and his, | $c: by Reginald Carter.\n",
      "The city foursquare : Bethel Baptist Church ... Shelby, N.C. / | $c: by J.A. Brock.\n",
      "The smacksmen : | a story of the fishermen of the Borough / | $c: George Goldsmith Carter.\n",
      "Thorn-apple tree, | $c: by Grace Campbell.\n",
      "Destroyer from America, | $c: by John Fernald.\n",
      "Citizens : | a novel / | $c: by Meyer Levin.\n",
      "Jerry Jake carries on / | $c: by May Justus ... illustrated by Christine Chisholm.\n",
      "Triumvirate, | a novel | $c: by Oliver Robinson.\n",
      "Lizzie / | $c: by May Justus ; illustrated by Christine Chisholm.\n",
      "The golden horde, | $c: by LaSelle Gilman.\n",
      "error\n",
      "The devil is loneliness / | $c: by Elma K. Lobaugh.\n",
      "Gene Autry and the Thief river outlaws : | an original story featuring Gene Autry, famous motion picture star, as the hero / | $c: by Bob Hamilton ; illustrated by Dan Muller.\n",
      "Saving time and steps in bedmaking / | $c: Marianne Muse.\n",
      "The fates are laughing, | $c: by W.P. Crozier.\n",
      "Adventurers all:  Sir Richard Hannay, Sir Edward Leithen [and others]... | $c: containing Huntingtower, John Macnab [and] The three hostages.\n",
      "Ghost of the South / | $c: Lew Lauria.\n",
      "Ann Bartlett returns to the Philippines / | $c: Martha Johnson.\n",
      "Opus 21: descriptive music for the Lower Kinsey epoch of the atomic age, | a concerto for a one-man band, six arias for soap operas, fugues, anthems & barrelhouse.\n",
      "Live with lightning, a novel.\n",
      "Proceed at will / | $c: by Burke Wilkinson.\n",
      "Mary, | a novel, following Spira and Ray, containing suggestions for the betterment of aspiring mankind, | $c: by Monroe E. Miller.\n",
      "White shadows, | $c: by Guy Nunn.\n",
      "Listen for the laughter.\n",
      "Ruth Middleton / | $c: Ruth Middleton.\n",
      "Ray, | a novel with the original characters of Spira, and intended as further inspiration toward divine life. | $c: By Monroe E. Miller.\n",
      "A bridge at Branfield.\n",
      "Uneasy spring | $c: by Robert Molloy\n",
      "Piper Tompkins, | $c: by Ben Field.\n",
      "The old bunch.\n",
      "Handkerchief holiday / | $c: by Fjeril Hess ; decorations by Edward C. Caswell.\n",
      "Her own people / | $c: a novel by Grace Tomkinson.\n",
      "The pilgrim's progress from this world to that which is to come, | delivered under the similitude of a dream, wherein is discovered the manner of his setting out, his dangerous journey, and safe arrival at the desired country, | $c: by John Bunyan.\n",
      "Kill joy.\n",
      "Westward the dream.\n",
      "Malcolm MacBeth / | $c: by John Storm ; illustrated by Charles Alston.\n",
      "The patchwork time.\n",
      "Bring home the bride / | $c: by Gale Wilhelm.\n",
      "One braver thing, | $c: by Cyril Harris.\n",
      "On this side nothing.\n",
      "Homeward the heart, | a novel | $c: by Margaret Mackay.\n",
      "error\n",
      "Step Along and Jerry Jake / | $c: by May Justus ; illustrated by Christine Chisholm.\n",
      "Enemy sighted, | $c: by Alec Hudson [pseud.]\n",
      "Prepare them for Caesar.\n",
      "The fire of the lord / | $c: by Norman Nicholson.\n",
      "Stranger in the land / | $c: Ward Thomas.\n",
      "The pledge of Piang, | $c: by F. P. Stuart, illustrated by Robbie.\n",
      "Then gilded dust, | $c: by John Shirley Hurst.\n",
      "The tale of Johnny Town-Mouse / | $c: Beatrix Potter.\n",
      "The affair of the dead stranger / | $c: by Clifford Knight.\n",
      "Swords and sails in the Philippines / | $c: by Phyllis Ayer Sowers ; illustrated by Margaret Ayer.\n",
      "Two saps; | and fourteen other stories : | $c: by James W. Clark.\n",
      "The unconquered; | Europe fights back, | $c: by Robert Carse.\n",
      "Stepping stones to literature : | a fourth reader / | $c: by Sarah Louise Arnold and Charles B. Gilbert.\n",
      "Swift flows the river, | $c: by Nard Jones.\n",
      "Never come back, | $c: John Mair.\n",
      "South of heaven, | $c: by Lettie Rogers.\n",
      "The tale of Pigling Bland / | $c: by Beatrix Potter.\n",
      "Flatboats and wagon wheels / | $c: Mildren Houghton Comfort ; pictures by Dirk Gringhuis.\n",
      "Summer under sail / | $c: Elizabeth Howard.\n",
      "Layout for a corpse.\n",
      "She came to the valley / | $c: by Cleo Dawson.\n",
      "About the grass mountain mouse = | He p' eji it' unkala kin / | $c: written by Ann Clark ; illustrated by Andrew Standing Soldier.\n",
      "Harvest of the Hudson / | $c: by Erick Berry.\n",
      "A man may dream / | $c: by Carl Avery Werner.\n",
      "River song, | $c: by Harry Hamilton ...\n",
      "Alexandra.\n",
      "Still to the West.\n",
      "Big Sandy.\n",
      "The corpse with the eerie eye : | a Philip Tolefree mystery / | $c: by R. A. J. Walling.\n",
      "The bombero, | tales from Latin America, | $c: by Harry Levy; drawings by Howard Simon.\n",
      "error\n",
      "Hugger-mugger in the Louvre; | a Homer Evans murder mystery, | $c: by Elliot Paul.\n",
      "The veiled fountain\n",
      "The broken gate.\n",
      "0.6123999999999999 0.0398610921409169\n",
      "189.57915000000006\n"
     ]
    },
    {
     "name": "stderr",
     "output_type": "stream",
     "text": [
      "/Users/au701203/opt/anaconda3/lib/python3.9/site-packages/seaborn/distributions.py:2619: FutureWarning: `distplot` is a deprecated function and will be removed in a future version. Please adapt your code to use either `displot` (a figure-level function with similar flexibility) or `histplot` (an axes-level function for histograms).\n",
      "  warnings.warn(msg, FutureWarning)\n"
     ]
    },
    {
     "data": {
      "image/png": "[encoded data removed]",
      "text/plain": [
       "<Figure size 432x288 with 1 Axes>"
      ]
     },
     "metadata": {
      "needs_background": "light"
     },
     "output_type": "display_data"
    }
   ],
   "source": [
    "Hurst_buckets = {'56-60':[],'61-63':[],'64-70':[]}\n",
    "Hursts, Arcs = [],[]\n",
    "#Bigrams = []\n",
    "Book_lengths = []\n",
    "Ttr = []\n",
    "\n",
    "years = \"1900s 1910s 1920s 1930s 1940s\".split()\n",
    "for year in years:\n",
    "    \n",
    "    print(\"\\n\\n\\n\")\n",
    "    print(year)\n",
    "    \n",
    "    nobel = pd.read_csv('nobels_'+year+'.csv')\n",
    "    ignobel = pd.read_csv('ignobels_'+year+'.csv')\n",
    "    nobel_files = list(nobel.loc[:,'Filename'])\n",
    "    ignobel_files = list(ignobel.loc[:,'Filename'])\n",
    "    \n",
    "    title2text_nobel = filenames2texts(nobel_files[:400])\n",
    "    title2text_ignobel = filenames2texts(ignobel_files[:400])\n",
    "    \n",
    "    prv_dic = {'nobel':title2text_nobel, 'ignobel':title2text_ignobel}\n",
    "    \n",
    "    for key in prv_dic:\n",
    "        \n",
    "        title2text = prv_dic[key]\n",
    "        \n",
    "        Hs,arcs = [],[]\n",
    "        bis, lens =[],[]\n",
    "        \n",
    "        \n",
    "        for title in list(title2text.keys())[:150]:\n",
    "            text = title2text[title]\n",
    "            print(title)\n",
    "            #bigrams = list(nltk.bigrams(text))\n",
    "            #big_rich = len(list(set(bigrams)))/len(bigrams)\n",
    "            words = nltk.wordpunct_tokenize(text)\n",
    "            ttr = len(list(set(words)))/len(words)\n",
    "            arc = figs.sentimarc_sid(text)\n",
    "            if len(arc)>300: h = figs.get_Hurst(arc)\n",
    "            #if len(arc)>100: h, c, val = compute_Hc(arc)\n",
    "            arcs.append(arc)\n",
    "            Hs.append(h)\n",
    "            bis.append(ttr), lens.append(len(text))\n",
    "            \n",
    "        print(np.mean(Hs), np.std(Hs))\n",
    "        print(np.mean([sum(a) for a in arcs]))\n",
    "        Hursts.append((year,Hs))\n",
    "        Arcs.append((year,arcs))\n",
    "        #Bigrams.append((year,bis))\n",
    "        Book_lengths.append((year,lens))\n",
    "        Ttr.append((year,bis))\n",
    "        sns.distplot(Hs, label=str(year)+'_'+key)\n",
    "\n",
    "plt.legend()\n",
    "plt.show()"
   ]
  },
  {
   "cell_type": "code",
   "execution_count": 16,
   "id": "a366180f-549b-4c54-bd75-59465f5a6366",
   "metadata": {},
   "outputs": [],
   "source": [
    "import json"
   ]
  },
  {
   "cell_type": "code",
   "execution_count": 17,
   "id": "e72d847c-c194-4450-98e1-67aa89d1fb78",
   "metadata": {},
   "outputs": [],
   "source": [
    "with open('Nobel_Ignobel_Hursts.json', 'w') as fp:\n",
    "    json.dump(Hursts, fp)"
   ]
  },
  {
   "cell_type": "code",
   "execution_count": 18,
   "id": "1f9a10a9-9b22-451b-9066-fe62c3659f97",
   "metadata": {},
   "outputs": [],
   "source": [
    "with open('Nobel_Ignobel_Arcs.json', 'w') as fp:\n",
    "    json.dump(Arcs, fp)"
   ]
  },
  {
   "cell_type": "code",
   "execution_count": 19,
   "id": "fa2e6ca4-dab0-49d4-b85f-8e2af3cfe1b5",
   "metadata": {},
   "outputs": [],
   "source": [
    "with open('Nobel_Ignobel_Ttr.json', 'w') as fp:\n",
    "    json.dump(Ttr, fp)"
   ]
  },
  {
   "cell_type": "code",
   "execution_count": 793,
   "id": "ddf95d4e-79dc-49a4-936a-63ed24e72c15",
   "metadata": {},
   "outputs": [
    {
     "name": "stdout",
     "output_type": "stream",
     "text": [
      "\n",
      "1900s\n",
      "Nobels\t\t47\n",
      "Non Nobels\t150\n",
      "\n",
      "1910s\n",
      "Nobels\t\t92\n",
      "Non Nobels\t150\n",
      "\n",
      "1920s\n",
      "Nobels\t\t84\n",
      "Non Nobels\t150\n",
      "\n",
      "1930s\n",
      "Nobels\t\t0\n",
      "Non Nobels\t150\n",
      "\n",
      "1940s\n",
      "Nobels\t\t2\n",
      "Non Nobels\t150\n"
     ]
    }
   ],
   "source": [
    "# Data classes are skewed\n",
    "for i,element in enumerate(Hursts):\n",
    "    if i%2==0: \n",
    "        print()\n",
    "        print(element[0])\n",
    "        print('Nobels',end=\"\\t\\t\")\n",
    "    else: \n",
    "        print('Non Nobels',end=\"\\t\")\n",
    "    print(len(element[1]))"
   ]
  },
  {
   "cell_type": "code",
   "execution_count": 573,
   "id": "78c58f3b-edc1-41e0-b7eb-201281c4abdd",
   "metadata": {},
   "outputs": [
    {
     "name": "stdout",
     "output_type": "stream",
     "text": [
      "1900s 47 0.6025531914893617\n",
      "1900s 150 0.6197333333333334\n",
      "1910s 92 0.606304347826087\n",
      "1910s 150 0.6242000000000002\n",
      "1920s 84 0.6034523809523811\n",
      "1920s 150 0.6132666666666667\n"
     ]
    }
   ],
   "source": [
    "## nobel-ignoble average values\n",
    "\n",
    "# Displaying \n",
    "for element in Hursts[:-4]:\n",
    "    print(element[0], len(element[1]), np.mean(element[1]))\n",
    "    "
   ]
  },
  {
   "cell_type": "code",
   "execution_count": 518,
   "id": "40fe8b54-3580-4e25-866f-4c0863980413",
   "metadata": {},
   "outputs": [
    {
     "name": "stdout",
     "output_type": "stream",
     "text": [
      "1900 h 0.6156345177664975\n",
      "1910 h 0.6173966942148761\n",
      "1920 h 0.6097435897435898\n",
      "1930 h 0.6086666666666667\n",
      "1940 h 0.611907894736842\n"
     ]
    }
   ],
   "source": [
    "## nobel + ignobel average values\n",
    "\n",
    "a=Hursts[0][1]+Hursts[1][1]\n",
    "print('1900 h', np.mean(a))\n",
    "b=Hursts[2][1]+Hursts[3][1]\n",
    "print('1910 h', np.mean(b))\n",
    "c=Hursts[4][1]+Hursts[5][1]\n",
    "print('1920 h', np.mean(c))\n",
    "d=Hursts[6][1]+Hursts[7][1]\n",
    "print('1930 h', np.mean(d))\n",
    "e=Hursts[8][1]+Hursts[9][1]\n",
    "print('1940 h', np.mean(e))"
   ]
  },
  {
   "cell_type": "code",
   "execution_count": 519,
   "id": "83866ad3-c693-4509-982e-19dbfedaf0e9",
   "metadata": {},
   "outputs": [
    {
     "data": {
      "text/plain": [
       "[<matplotlib.lines.Line2D at 0x7fdbadc5c0a0>]"
      ]
     },
     "execution_count": 519,
     "metadata": {},
     "output_type": "execute_result"
    },
    {
     "data": {
      "image/png": "[encoded data removed]",
      "text/plain": [
       "<Figure size 432x288 with 1 Axes>"
      ]
     },
     "metadata": {
      "needs_background": "light"
     },
     "output_type": "display_data"
    }
   ],
   "source": [
    "plt.plot([np.mean(e) for e in [a,b,c,d,e]])"
   ]
  },
  {
   "cell_type": "code",
   "execution_count": 633,
   "id": "dd4480b4-62a7-49da-bbb9-f2eb6b9f0908",
   "metadata": {
    "collapsed": true,
    "jupyter": {
     "outputs_hidden": true
    },
    "tags": []
   },
   "outputs": [
    {
     "name": "stdout",
     "output_type": "stream",
     "text": [
      "\n",
      "1900 1900 F_onewayResult(statistic=0.0, pvalue=1.0)\n",
      "1900 1910 F_onewayResult(statistic=656.0050123913826, pvalue=3.1184022475399593e-71)\n",
      "1900 1920 F_onewayResult(statistic=639.5483584011814, pvalue=2.955461714139149e-69)\n",
      "1900 1930 F_onewayResult(statistic=413.48046811906056, pvalue=2.4348121270218103e-45)\n",
      "1900 1940 F_onewayResult(statistic=417.8132742321999, pvalue=7.55548350351582e-46)\n",
      "\n",
      "1910 1900 F_onewayResult(statistic=656.0050123913826, pvalue=3.1184022475399593e-71)\n",
      "1910 1910 F_onewayResult(statistic=0.0, pvalue=1.0)\n",
      "1910 1920 F_onewayResult(statistic=4.399907742316282, pvalue=0.036469866535565616)\n",
      "1910 1930 F_onewayResult(statistic=4.405346405004742, pvalue=0.0364688894022935)\n",
      "1910 1940 F_onewayResult(statistic=1.7567744550748579, pvalue=0.18579929768793846)\n",
      "\n",
      "1920 1900 F_onewayResult(statistic=639.5483584011808, pvalue=2.9554617141393647e-69)\n",
      "1920 1910 F_onewayResult(statistic=4.399907742316283, pvalue=0.036469866535565616)\n",
      "1920 1920 F_onewayResult(statistic=0.0, pvalue=1.0)\n",
      "1920 1930 F_onewayResult(statistic=0.06712161168580635, pvalue=0.7957143108732361)\n",
      "1920 1940 F_onewayResult(statistic=0.2734472487749852, pvalue=0.6013302314585979)\n",
      "\n",
      "1930 1900 F_onewayResult(statistic=413.4804681190613, pvalue=2.4348121270215803e-45)\n",
      "1930 1910 F_onewayResult(statistic=4.405346405004742, pvalue=0.0364688894022935)\n",
      "1930 1920 F_onewayResult(statistic=0.06712161168580635, pvalue=0.7957143108732361)\n",
      "1930 1930 F_onewayResult(statistic=0.0, pvalue=1.0)\n",
      "1930 1940 F_onewayResult(statistic=0.49542030224121203, pvalue=0.4820652944074121)\n",
      "\n",
      "1940 1900 F_onewayResult(statistic=417.8132742321999, pvalue=7.55548350351582e-46)\n",
      "1940 1910 F_onewayResult(statistic=1.7567744550748579, pvalue=0.18579929768793846)\n",
      "1940 1920 F_onewayResult(statistic=0.2734472487749852, pvalue=0.6013302314585979)\n",
      "1940 1930 F_onewayResult(statistic=0.49542030224121203, pvalue=0.4820652944074121)\n",
      "1940 1940 F_onewayResult(statistic=0.0, pvalue=1.0)\n"
     ]
    }
   ],
   "source": [
    "### is there ANY statistical significance? No.\n",
    "\n",
    "diffs,ps = [],[]\n",
    "\n",
    "decade_hs = [('1900',a),('1910',b),('1920',c),('1930',d),('1940',e)]\n",
    "for el in decade_hs:\n",
    "    print()\n",
    "    for al in decade_hs: \n",
    "        oneway = stats.f_oneway(el[1], al[1])\n",
    "        print(el[0],al[0],oneway)\n",
    "        diffs.append(oneway[0])\n",
    "        ps.append(oneway[1])"
   ]
  },
  {
   "cell_type": "code",
   "execution_count": null,
   "id": "2f10dcf8-1ef2-445f-809e-5bddc67429de",
   "metadata": {},
   "outputs": [],
   "source": []
  },
  {
   "cell_type": "code",
   "execution_count": 579,
   "id": "b38917fe-55c4-47f1-b1ae-56dd06bbb886",
   "metadata": {
    "tags": []
   },
   "outputs": [
    {
     "name": "stdout",
     "output_type": "stream",
     "text": [
      "\n",
      "1900s Ttest_indResult(statistic=0.0, pvalue=1.0)\n",
      "1900s Ttest_indResult(statistic=-2.3668391825389197, pvalue=0.01892036589746268)\n",
      "\n",
      "1900s Ttest_indResult(statistic=2.3668391825389197, pvalue=0.01892036589746268)\n",
      "1900s Ttest_indResult(statistic=0.0, pvalue=1.0)\n",
      "\n",
      "1910s Ttest_indResult(statistic=0.0, pvalue=1.0)\n",
      "1910s Ttest_indResult(statistic=-3.4520782975970232, pvalue=0.0006572794576551656)\n",
      "\n",
      "1910s Ttest_indResult(statistic=3.4520782975970232, pvalue=0.0006572794576551656)\n",
      "1910s Ttest_indResult(statistic=0.0, pvalue=1.0)\n",
      "\n",
      "1920s Ttest_indResult(statistic=0.0, pvalue=1.0)\n",
      "1920s Ttest_indResult(statistic=-1.8297515302387712, pvalue=0.06857036618702947)\n",
      "\n",
      "1920s Ttest_indResult(statistic=1.8297515302387712, pvalue=0.06857036618702947)\n",
      "1920s Ttest_indResult(statistic=0.0, pvalue=1.0)\n",
      "\n",
      "1930s Ttest_indResult(statistic=nan, pvalue=nan)\n",
      "1930s Ttest_indResult(statistic=nan, pvalue=nan)\n",
      "\n",
      "1930s Ttest_indResult(statistic=nan, pvalue=nan)\n",
      "1930s Ttest_indResult(statistic=0.0, pvalue=1.0)\n",
      "\n",
      "1940s Ttest_indResult(statistic=0.0, pvalue=1.0)\n",
      "1940s Ttest_indResult(statistic=-1.3168964739804454, pvalue=0.18988167201434392)\n",
      "\n",
      "1940s Ttest_indResult(statistic=1.3168964739804454, pvalue=0.18988167201434392)\n",
      "1940s Ttest_indResult(statistic=0.0, pvalue=1.0)\n"
     ]
    }
   ],
   "source": [
    "#\n",
    "for element in Hursts:\n",
    "    print()\n",
    "    for other_element in Hursts: \n",
    "        if element[0]==other_element[0]:\n",
    "            print(element[0],stats.ttest_ind(element[1],other_element[1]))\n"
   ]
  },
  {
   "cell_type": "code",
   "execution_count": 537,
   "id": "b3632527-e7ed-4151-b865-ad0b9efa6537",
   "metadata": {},
   "outputs": [],
   "source": [
    "nobel_h = Hursts[0][1]+Hursts[2][1]+Hursts[4][1]+Hursts[6][1]+Hursts[8][1]\n",
    "ignobel_h = Hursts[1][1]+Hursts[3][1]+Hursts[5][1]+Hursts[7][1]+Hursts[9][1]"
   ]
  },
  {
   "cell_type": "code",
   "execution_count": null,
   "id": "06fb1fe0-29e9-40b9-b093-92d0a937a676",
   "metadata": {},
   "outputs": [],
   "source": []
  },
  {
   "cell_type": "code",
   "execution_count": 736,
   "id": "00f94248-1ee4-414c-8b44-176c2ddd60cf",
   "metadata": {},
   "outputs": [
    {
     "name": "stdout",
     "output_type": "stream",
     "text": [
      "1900s\n"
     ]
    },
    {
     "data": {
      "image/png": "[encoded data removed]",
      "text/plain": [
       "<Figure size 432x288 with 1 Axes>"
      ]
     },
     "metadata": {
      "needs_background": "light"
     },
     "output_type": "display_data"
    },
    {
     "name": "stdout",
     "output_type": "stream",
     "text": [
      "Ttest_1sampResult(statistic=-3.460325806353182, pvalue=0.0011749532953693922)\n",
      "Ttest_1sampResult(statistic=-3.3260496233127195, pvalue=0.0017374282500099572)\n",
      "Ttest_indResult(statistic=-2.3668391825389197, pvalue=0.01892036589746268)\n",
      "F_onewayResult(statistic=6.49144152200241, pvalue=0.011140658210205311)\n",
      "\n",
      "1910s\n"
     ]
    },
    {
     "data": {
      "image/png": "[encoded data removed]",
      "text/plain": [
       "<Figure size 432x288 with 1 Axes>"
      ]
     },
     "metadata": {
      "needs_background": "light"
     },
     "output_type": "display_data"
    },
    {
     "name": "stdout",
     "output_type": "stream",
     "text": [
      "Ttest_1sampResult(statistic=-4.389658269376034, pvalue=3.054478522113958e-05)\n",
      "Ttest_1sampResult(statistic=-3.1304932555980605, pvalue=0.002346223445965886)\n",
      "Ttest_indResult(statistic=-3.4520782975970232, pvalue=0.0006572794576551656)\n",
      "F_onewayResult(statistic=6.920634837779416, pvalue=0.00876396846424882)\n",
      "\n",
      "1920s\n"
     ]
    },
    {
     "data": {
      "image/png": "[encoded data removed]",
      "text/plain": [
       "<Figure size 432x288 with 1 Axes>"
      ]
     },
     "metadata": {
      "needs_background": "light"
     },
     "output_type": "display_data"
    },
    {
     "name": "stdout",
     "output_type": "stream",
     "text": [
      "Ttest_1sampResult(statistic=-2.8991269428001942, pvalue=0.004786492649133656)\n",
      "Ttest_1sampResult(statistic=-4.612439226318197, pvalue=1.4305502040979028e-05)\n",
      "Ttest_indResult(statistic=-1.8297515302387712, pvalue=0.06857036618702947)\n",
      "F_onewayResult(statistic=10.072713966429989, pvalue=0.001591819588461944)\n",
      "\n"
     ]
    }
   ],
   "source": [
    "\n",
    "nobs,ignobs=[],[]\n",
    "for i in range(len(Hursts)):\n",
    "    if i%2==0:nobs.append(Hursts[i])\n",
    "    else: ignobs.append(Hursts[i])\n",
    "len(nobs), len(ignobs)\n",
    "\n",
    "\n",
    "means_n,mean_i,ps = [],[],[]\n",
    "\n",
    "for i in range(len(nobs)-2):\n",
    "    el=nobs[i]\n",
    "    print(el[0])\n",
    "    a=stats.ttest_1samp(el[1],np.mean(ignobs[i][1]))\n",
    "    b=stats.ttest_1samp(el[1], np.mean(ignobel_h))\n",
    "    c=stats.ttest_ind(el[1], ignobs[i][1])\n",
    "    d=stats.f_oneway(el[1], ignobel_h)\n",
    "    means_n.append(np.mean(el[1]))\n",
    "    mean_i.append(np.mean(ignobs[i][1]))\n",
    "    ps.append(a[1])\n",
    "    sns.kdeplot(el[1])\n",
    "    plt.axvline(x=np.mean(el[1]), color='red',ls='--')\n",
    "    sns.kdeplot(ignobs[i][1])\n",
    "    plt.axvline(x=np.mean(ignobs[i][1]), color='red',ls='--')\n",
    "    plt.show()\n",
    "    print(a)\n",
    "    print(b)\n",
    "    print(c)\n",
    "    print(d)\n",
    "    print()"
   ]
  },
  {
   "cell_type": "code",
   "execution_count": 707,
   "id": "b9b3438e-4cf5-45ee-848c-44612b53a13b",
   "metadata": {},
   "outputs": [
    {
     "data": {
      "text/plain": [
       "(4, 5)"
      ]
     },
     "execution_count": 707,
     "metadata": {},
     "output_type": "execute_result"
    }
   ],
   "source": [
    "len(means_n), len(years)"
   ]
  },
  {
   "cell_type": "code",
   "execution_count": 738,
   "id": "c75f3cf8-e7bd-47ea-bc53-8718f153e427",
   "metadata": {
    "tags": []
   },
   "outputs": [
    {
     "data": {
      "text/plain": [
       "<BarContainer object of 3 artists>"
      ]
     },
     "execution_count": 738,
     "metadata": {},
     "output_type": "execute_result"
    },
    {
     "data": {
      "image/png": "[encoded data removed]",
      "text/plain": [
       "<Figure size 432x288 with 1 Axes>"
      ]
     },
     "metadata": {
      "needs_background": "light"
     },
     "output_type": "display_data"
    }
   ],
   "source": [
    "\n",
    "fig = plt.figure()\n",
    "\n",
    "ax = fig.add_axes([0,0,1,1])\n",
    "\n",
    "X = np.arange(3)\n",
    "\n",
    "ax.bar(X,means_n, width=0.25)\n",
    "ax.bar(X-0.25,mean_i, width=0.25)\n",
    "#ax.set_xticklabels(years)\n",
    "    \n",
    "#ax.set_yticklabels\n"
   ]
  },
  {
   "cell_type": "code",
   "execution_count": 716,
   "id": "2b89b372-5680-4d39-a214-74093ba7877b",
   "metadata": {},
   "outputs": [
    {
     "data": {
      "text/plain": [
       "[0.6197333333333334,\n",
       " 0.6242000000000002,\n",
       " 0.6132666666666667,\n",
       " 0.6086666666666667]"
      ]
     },
     "execution_count": 716,
     "metadata": {},
     "output_type": "execute_result"
    }
   ],
   "source": [
    "mean_i"
   ]
  },
  {
   "cell_type": "code",
   "execution_count": 540,
   "id": "f50137b4-ef2d-4ad5-b77b-23ac78cbad1a",
   "metadata": {},
   "outputs": [],
   "source": [
    "#Conclusions: nobels and ignobels through time to not show statistically different\n",
    "#Hursts exponents!"
   ]
  },
  {
   "cell_type": "markdown",
   "id": "4bf57714-3b1e-4f65-af59-8504a6b69fac",
   "metadata": {},
   "source": [
    "# Timeless Hursts"
   ]
  },
  {
   "cell_type": "code",
   "execution_count": null,
   "id": "767cb35e-2c23-4ebc-9c0b-c762e3b96c34",
   "metadata": {},
   "outputs": [],
   "source": [
    "# Is this an author size effect? What if we collect all the nobels versus all the non nobels?"
   ]
  },
  {
   "cell_type": "code",
   "execution_count": 815,
   "id": "7c85fdaa-2f24-4fbd-962c-d47f2dcce883",
   "metadata": {},
   "outputs": [],
   "source": [
    "nobel_h = Hursts[0][1]+Hursts[2][1]+Hursts[4][1]#+Hursts[6][1]+Hursts[8][1]\n",
    "ignobel_h = Hursts[1][1]+Hursts[3][1]+Hursts[5][1]#+Hursts[7][1]+Hursts[9][1]"
   ]
  },
  {
   "cell_type": "code",
   "execution_count": 816,
   "id": "6e449592-f1ae-4891-b6d3-8ad753df5ce7",
   "metadata": {},
   "outputs": [
    {
     "name": "stdout",
     "output_type": "stream",
     "text": [
      "223 450\n",
      "0.604439461883408 0.6190666666666667\n"
     ]
    },
    {
     "data": {
      "text/plain": [
       "F_onewayResult(statistic=19.381023611126476, pvalue=1.2455274121683325e-05)"
      ]
     },
     "execution_count": 816,
     "metadata": {},
     "output_type": "execute_result"
    }
   ],
   "source": [
    "print(len(nobel_h), len(ignobel_h))\n",
    "\n",
    "# is there a statistical different between nobels and ignobels in general? Yes!\n",
    "print(np.mean(nobel_h), np.mean(ignobel_h))\n",
    "stats.f_oneway(nobel_h, ignobel_h)"
   ]
  },
  {
   "cell_type": "code",
   "execution_count": null,
   "id": "629b9969-f4b2-4d2d-a387-7216f9348bf9",
   "metadata": {},
   "outputs": [],
   "source": [
    "# Notice that decreasing the numbers makes the difference smaller, not lager?"
   ]
  },
  {
   "cell_type": "code",
   "execution_count": 582,
   "id": "41426b15-4f61-415e-84d4-1cd67902368c",
   "metadata": {},
   "outputs": [
    {
     "data": {
      "text/plain": [
       "Ttest_indResult(statistic=-4.402388398486278, pvalue=1.2455274121681726e-05)"
      ]
     },
     "execution_count": 582,
     "metadata": {},
     "output_type": "execute_result"
    }
   ],
   "source": [
    "stats.ttest_ind(nobel_h, ignobel_h)"
   ]
  },
  {
   "cell_type": "code",
   "execution_count": 583,
   "id": "a617502a-a506-44f2-a2a9-a2f66264c1c3",
   "metadata": {},
   "outputs": [
    {
     "data": {
      "text/plain": [
       "(0.6142199108469539, 0.604439461883408, 0.6190666666666667)"
      ]
     },
     "execution_count": 583,
     "metadata": {},
     "output_type": "execute_result"
    }
   ],
   "source": [
    "np.mean(nobel_h+ignobel_h), np.mean(nobel_h), np.mean(ignobel_h)"
   ]
  },
  {
   "cell_type": "code",
   "execution_count": 584,
   "id": "e3acbe7e-911c-4789-9e85-5e8eac50713a",
   "metadata": {},
   "outputs": [
    {
     "data": {
      "text/plain": [
       "Ttest_1sampResult(statistic=-6.229950092556493, pvalue=2.3134455840867916e-09)"
      ]
     },
     "execution_count": 584,
     "metadata": {},
     "output_type": "execute_result"
    }
   ],
   "source": [
    "stats.ttest_1samp(nobel_h, np.mean(ignobel_h))"
   ]
  },
  {
   "cell_type": "code",
   "execution_count": 585,
   "id": "606967a4-6484-4760-99c4-620862c6a138",
   "metadata": {},
   "outputs": [
    {
     "data": {
      "text/plain": [
       "(4.402388398486278, 1.070656666443146e-05)"
      ]
     },
     "execution_count": 585,
     "metadata": {},
     "output_type": "execute_result"
    }
   ],
   "source": [
    "from statsmodels.stats.weightstats import ztest as ztest\n",
    "ztest(ignobel_h, nobel_h)"
   ]
  },
  {
   "cell_type": "markdown",
   "id": "f2aa61cd-b64b-4b04-8435-277c48246c01",
   "metadata": {},
   "source": [
    "# Arcs themselves"
   ]
  },
  {
   "cell_type": "code",
   "execution_count": 840,
   "id": "e3ccab57-7f0a-4e75-a15d-84f39e6de50f",
   "metadata": {},
   "outputs": [
    {
     "data": {
      "text/plain": [
       "(223, 450)"
      ]
     },
     "execution_count": 840,
     "metadata": {},
     "output_type": "execute_result"
    }
   ],
   "source": [
    "nobel_a = Arcs[0][1]+Arcs[2][1]+Arcs[4][1]#+Arcs[6][1]#+Arcs[8][1]\n",
    "ignobel_a = Arcs[1][1]+Arcs[3][1]+Arcs[5][1]#+Arcs[7][1]#+Arcs[9][1]\n",
    "len(nobel_a), len(ignobel_a)"
   ]
  },
  {
   "cell_type": "code",
   "execution_count": 841,
   "id": "e64bbbfd-de09-4fa1-8765-44aca993ad98",
   "metadata": {},
   "outputs": [
    {
     "data": {
      "text/plain": [
       "(231.21897085201786,\n",
       " 298.69549733333326,\n",
       " F_onewayResult(statistic=11.698462767475437, pvalue=0.0006634205417018372),\n",
       " Ttest_indResult(statistic=-3.420301560897144, pvalue=0.000663420541701814))"
      ]
     },
     "execution_count": 841,
     "metadata": {},
     "output_type": "execute_result"
    }
   ],
   "source": [
    "# Is there a sentimental difference between nobels and ignobels?\n",
    "san, sai = [sum(a) for a in nobel_a], [sum(a) for a in ignobel_a]\n",
    "np.mean(san), np.mean(sai), stats.f_oneway(san, sai), stats.ttest_ind(san, sai)"
   ]
  },
  {
   "cell_type": "code",
   "execution_count": 842,
   "id": "dfb590a4-0124-4df8-ac6a-71db2f9d0eb6",
   "metadata": {},
   "outputs": [
    {
     "data": {
      "text/plain": [
       "(0.05164507755825337,\n",
       " 0.06897873304364693,\n",
       " F_onewayResult(statistic=19.272544133848783, pvalue=1.3162327173419904e-05),\n",
       " Ttest_indResult(statistic=-4.3900505844293845, pvalue=1.31623271734191e-05))"
      ]
     },
     "execution_count": 842,
     "metadata": {},
     "output_type": "execute_result"
    }
   ],
   "source": [
    "san, sai = [np.mean(a) for a in nobel_a], [np.mean(a) for a in ignobel_a]\n",
    "np.mean(san), np.mean(sai), stats.f_oneway(san, sai), stats.ttest_ind(san, sai)"
   ]
  },
  {
   "cell_type": "code",
   "execution_count": 843,
   "id": "93ea5f02-6d98-48fd-9b8f-9fca39b31a4c",
   "metadata": {},
   "outputs": [
    {
     "name": "stdout",
     "output_type": "stream",
     "text": [
      "47\n",
      "150\n",
      "92\n",
      "150\n",
      "84\n",
      "150\n",
      "0\n",
      "150\n",
      "2\n",
      "150\n"
     ]
    }
   ],
   "source": [
    "for element in Arcs:\n",
    "    print(len(element[1]))"
   ]
  },
  {
   "cell_type": "code",
   "execution_count": 854,
   "id": "fbcb040f-38b6-47be-9d4a-a0633a7adce8",
   "metadata": {
    "tags": []
   },
   "outputs": [
    {
     "name": "stdout",
     "output_type": "stream",
     "text": [
      "\n",
      "\n",
      "Nobels\n",
      "47 0.04505595517974198 0.03584117190941871\n",
      "Ttest_1sampResult(statistic=-2.897158536693833, pvalue=0.005748169017719001)\n",
      "\n",
      "Not Nobels\n",
      "150 0.07610746576776224 0.04784237053747938\n",
      "Ttest_1sampResult(statistic=4.016303312580619, pvalue=9.343279562747254e-05)\n",
      "\n",
      "\n",
      "\n",
      "Nobels\n",
      "92 0.04717811781297702 0.038678481680304216\n",
      "Ttest_1sampResult(statistic=-3.2525596848276463, pvalue=0.00160523699966286)\n",
      "\n",
      "Not Nobels\n",
      "150 0.06415318823807144 0.05348770166933106\n",
      "Ttest_1sampResult(statistic=0.8642905998297589, pvalue=0.3888175305392776)\n",
      "\n",
      "\n",
      "\n",
      "Nobels\n",
      "84 0.06022423289581836 0.04573478287525012\n",
      "Ttest_1sampResult(statistic=-0.028233779907065954, pvalue=0.9775434720020445)\n",
      "\n",
      "Not Nobels\n",
      "150 0.06667554512510708 0.051096986283587206\n",
      "Ttest_1sampResult(statistic=1.507294519410233, pvalue=0.13385246866175024)\n",
      "\n"
     ]
    }
   ],
   "source": [
    "# Have to do it better\n",
    "\n",
    "nobel_av_s, ignobel_av_s = [],[]\n",
    "\n",
    "i=0\n",
    "for element in Arcs[:-4]:\n",
    "    arcs = element[1]\n",
    "    sums = [np.mean(arc) for arc in arcs]\n",
    "    #print(sums)\n",
    "    if i%2==0:\n",
    "        print('\\n\\nNobels')\n",
    "        nobel_av_s.append(np.mean(sums))\n",
    "    else:\n",
    "        print('Not Nobels')\n",
    "        ignobel_av_s.append(np.mean(sums))\n",
    "    #print(element[0])\n",
    "    print(len(arcs),np.mean(sums), np.std(sums))\n",
    "    print(stats.ttest_1samp(sums,np.mean(sai)))\n",
    "    i+=1\n",
    "    print()"
   ]
  },
  {
   "cell_type": "code",
   "execution_count": 855,
   "id": "937c1cfb-b149-4fea-96ae-4bf3b8eb5190",
   "metadata": {},
   "outputs": [
    {
     "data": {
      "text/plain": [
       "(0.04704241595361596,\n",
       " 0.060365967730124516,\n",
       " F_onewayResult(statistic=8.601380872537176, pvalue=0.003473572050198926),\n",
       " Ttest_indResult(statistic=-2.932811087086447, pvalue=0.0034735720501987708))"
      ]
     },
     "execution_count": 855,
     "metadata": {},
     "output_type": "execute_result"
    }
   ],
   "source": [
    "#do they also tend to unhappier endings?\n",
    "san, sai = [np.mean(a[-1000:]) for a in nobel_a], [np.mean(a[-1000:]) for a in ignobel_a]\n",
    "np.mean(san), np.mean(sai), stats.f_oneway(san, sai), stats.ttest_ind(san, sai)"
   ]
  },
  {
   "cell_type": "code",
   "execution_count": 858,
   "id": "9c3c0d3b-5f5e-4a7f-b4ef-4254b1158567",
   "metadata": {},
   "outputs": [
    {
     "data": {
      "image/png": "[encoded data removed]",
      "text/plain": [
       "<Figure size 432x288 with 1 Axes>"
      ]
     },
     "metadata": {
      "needs_background": "light"
     },
     "output_type": "display_data"
    }
   ],
   "source": [
    "x = \"1900s 1910s 1920s\".split()\n",
    "plt.plot(x,ignobel_av_s,'bo--')\n",
    "plt.plot(x,nobel_av_s,'ro--')\n",
    "plt.xlabel('Decades')\n",
    "plt.ylabel('Mean sentiment')\n",
    "plt.legend(['Non Nobel','Nobel'])\n",
    "plt.savefig('sents.png')"
   ]
  },
  {
   "cell_type": "markdown",
   "id": "90a7076b-5323-4dea-a89f-e25131395719",
   "metadata": {},
   "source": [
    "# Distribution shape and long tails "
   ]
  },
  {
   "cell_type": "code",
   "execution_count": 104,
   "id": "6b669011-2aa7-4451-8fcb-446597171413",
   "metadata": {},
   "outputs": [],
   "source": [
    "import json\n",
    "with open('Nobel_Ignobel_Hursts.json') as json_file:\n",
    "    Hursts = json.load(json_file)"
   ]
  },
  {
   "cell_type": "code",
   "execution_count": 105,
   "id": "9155effc-0e2e-4553-a059-8299a205b598",
   "metadata": {},
   "outputs": [],
   "source": [
    "nobel_h = Hursts[0][1]+Hursts[2][1]+Hursts[4][1]+Hursts[6][1]+Hursts[8][1]\n",
    "ignobel_h = Hursts[1][1]+Hursts[3][1]+Hursts[5][1]+Hursts[7][1]+Hursts[9][1]"
   ]
  },
  {
   "cell_type": "code",
   "execution_count": 106,
   "id": "85c73566-8ff5-437c-b022-b9f6849502ec",
   "metadata": {},
   "outputs": [
    {
     "name": "stderr",
     "output_type": "stream",
     "text": [
      "/Users/au701203/opt/anaconda3/lib/python3.9/site-packages/seaborn/distributions.py:2619: FutureWarning: `distplot` is a deprecated function and will be removed in a future version. Please adapt your code to use either `displot` (a figure-level function with similar flexibility) or `histplot` (an axes-level function for histograms).\n",
      "  warnings.warn(msg, FutureWarning)\n",
      "/Users/au701203/opt/anaconda3/lib/python3.9/site-packages/seaborn/distributions.py:2103: FutureWarning: The `axis` variable is no longer used and will be removed. Instead, assign variables directly to `x` or `y`.\n",
      "  warnings.warn(msg, FutureWarning)\n"
     ]
    },
    {
     "data": {
      "image/png": "[encoded data removed]",
      "text/plain": [
       "<Figure size 432x288 with 1 Axes>"
      ]
     },
     "metadata": {
      "needs_background": "light"
     },
     "output_type": "display_data"
    }
   ],
   "source": [
    "sns.distplot(nobel_h,rug=True)\n",
    "plt.axvline(x=np.mean(nobel_h),\n",
    "            color='red',ls='--')\n",
    "plt.show()"
   ]
  },
  {
   "cell_type": "code",
   "execution_count": 107,
   "id": "e5b484c7-56a7-432b-9dcb-5aff8cf3164b",
   "metadata": {},
   "outputs": [
    {
     "name": "stderr",
     "output_type": "stream",
     "text": [
      "/Users/au701203/opt/anaconda3/lib/python3.9/site-packages/seaborn/distributions.py:2619: FutureWarning: `distplot` is a deprecated function and will be removed in a future version. Please adapt your code to use either `displot` (a figure-level function with similar flexibility) or `histplot` (an axes-level function for histograms).\n",
      "  warnings.warn(msg, FutureWarning)\n",
      "/Users/au701203/opt/anaconda3/lib/python3.9/site-packages/seaborn/distributions.py:2103: FutureWarning: The `axis` variable is no longer used and will be removed. Instead, assign variables directly to `x` or `y`.\n",
      "  warnings.warn(msg, FutureWarning)\n"
     ]
    },
    {
     "data": {
      "text/plain": [
       "<matplotlib.lines.Line2D at 0x7fc9828b3130>"
      ]
     },
     "execution_count": 107,
     "metadata": {},
     "output_type": "execute_result"
    },
    {
     "data": {
      "image/png": "[encoded data removed]",
      "text/plain": [
       "<Figure size 432x288 with 1 Axes>"
      ]
     },
     "metadata": {
      "needs_background": "light"
     },
     "output_type": "display_data"
    }
   ],
   "source": [
    "sns.distplot(ignobel_h, rug=True)\n",
    "plt.axvline(x=np.mean(ignobel_h),\n",
    "            color='red',ls='--')"
   ]
  },
  {
   "cell_type": "code",
   "execution_count": null,
   "id": "9a54a26f-05b3-4930-bc89-10fd1391ab80",
   "metadata": {},
   "outputs": [],
   "source": []
  },
  {
   "cell_type": "code",
   "execution_count": 689,
   "id": "e1a02767-135d-41aa-b865-911192ffa58f",
   "metadata": {
    "collapsed": true,
    "jupyter": {
     "outputs_hidden": true
    },
    "tags": []
   },
   "outputs": [
    {
     "name": "stderr",
     "output_type": "stream",
     "text": [
      "/Users/au701203/opt/anaconda3/lib/python3.9/site-packages/seaborn/distributions.py:2619: FutureWarning: `distplot` is a deprecated function and will be removed in a future version. Please adapt your code to use either `displot` (a figure-level function with similar flexibility) or `histplot` (an axes-level function for histograms).\n",
      "  warnings.warn(msg, FutureWarning)\n",
      "/Users/au701203/opt/anaconda3/lib/python3.9/site-packages/seaborn/distributions.py:2103: FutureWarning: The `axis` variable is no longer used and will be removed. Instead, assign variables directly to `x` or `y`.\n",
      "  warnings.warn(msg, FutureWarning)\n",
      "/Users/au701203/opt/anaconda3/lib/python3.9/site-packages/seaborn/distributions.py:2619: FutureWarning: `distplot` is a deprecated function and will be removed in a future version. Please adapt your code to use either `displot` (a figure-level function with similar flexibility) or `histplot` (an axes-level function for histograms).\n",
      "  warnings.warn(msg, FutureWarning)\n",
      "/Users/au701203/opt/anaconda3/lib/python3.9/site-packages/seaborn/distributions.py:2103: FutureWarning: The `axis` variable is no longer used and will be removed. Instead, assign variables directly to `x` or `y`.\n",
      "  warnings.warn(msg, FutureWarning)\n"
     ]
    },
    {
     "data": {
      "image/png": "[encoded data removed]",
      "text/plain": [
       "<Figure size 432x288 with 1 Axes>"
      ]
     },
     "metadata": {
      "needs_background": "light"
     },
     "output_type": "display_data"
    }
   ],
   "source": [
    "sns.distplot(nobel_h,label='Nobel',rug=True)\n",
    "plt.axvline(x=np.mean(nobel_h), color='blue',ls='--')\n",
    "sns.distplot(ignobel_h, label='Non Nobel',rug=True)\n",
    "plt.axvline(x=np.mean(ignobel_h), color='orange',ls='--')\n",
    "plt.legend()\n",
    "plt.show()"
   ]
  },
  {
   "cell_type": "code",
   "execution_count": 743,
   "id": "5d043231-9dd4-4c35-863c-1a1d5bb40433",
   "metadata": {},
   "outputs": [
    {
     "data": {
      "image/png": "[encoded data removed]",
      "text/plain": [
       "<Figure size 432x288 with 1 Axes>"
      ]
     },
     "metadata": {
      "needs_background": "light"
     },
     "output_type": "display_data"
    }
   ],
   "source": [
    "sns.kdeplot(nobel_h,label='Nobel')\n",
    "plt.axvline(x=np.mean(nobel_h), color='blue',ls='--')\n",
    "sns.kdeplot(ignobel_h, label='Non Nobel')\n",
    "plt.axvline(x=np.mean(ignobel_h), color='orange',ls='--')\n",
    "plt.legend()\n",
    "plt.show()"
   ]
  },
  {
   "cell_type": "code",
   "execution_count": 690,
   "id": "226ac6ad-a6d8-4f86-b2ff-e72fecd06971",
   "metadata": {},
   "outputs": [
    {
     "data": {
      "image/png": "[encoded data removed]",
      "text/plain": [
       "<Figure size 360x360 with 1 Axes>"
      ]
     },
     "metadata": {
      "needs_background": "light"
     },
     "output_type": "display_data"
    },
    {
     "data": {
      "image/png": "[encoded data removed]",
      "text/plain": [
       "<Figure size 360x360 with 1 Axes>"
      ]
     },
     "metadata": {
      "needs_background": "light"
     },
     "output_type": "display_data"
    }
   ],
   "source": [
    "sns.displot(nobel_h,label='Nobel',rug=True)\n",
    "plt.axvline(x=np.mean(nobel_h), color='red',ls='--')\n",
    "plt.legend()\n",
    "plt.show()\n",
    "sns.displot(ignobel_h, label='Non Nobel',rug=True)\n",
    "plt.axvline(x=np.mean(ignobel_h), color='red',ls='--')\n",
    "plt.legend()\n",
    "plt.show()"
   ]
  },
  {
   "cell_type": "code",
   "execution_count": null,
   "id": "b64842ec-3f8f-4e72-a3ef-0f9bd99ff964",
   "metadata": {},
   "outputs": [],
   "source": []
  },
  {
   "cell_type": "code",
   "execution_count": 691,
   "id": "3a142113-5041-40b9-a663-bb5ea4e385e6",
   "metadata": {},
   "outputs": [
    {
     "name": "stdout",
     "output_type": "stream",
     "text": [
      "0.03778748363925115 0.07631737839590792\n"
     ]
    },
    {
     "data": {
      "text/plain": [
       "(SkewtestResult(statistic=0.4264559717815747, pvalue=0.6697756236782522),\n",
       " SkewtestResult(statistic=0.48117815053019025, pvalue=0.6303898883841929))"
      ]
     },
     "execution_count": 691,
     "metadata": {},
     "output_type": "execute_result"
    }
   ],
   "source": [
    "import scipy\n",
    "print(scipy.stats.skew(ignobel_h), scipy.stats.skew(nobel_h))\n",
    "scipy.stats.skewtest(ignobel_h), scipy.stats.skewtest(nobel_h)"
   ]
  },
  {
   "cell_type": "code",
   "execution_count": 692,
   "id": "adaddea3-e115-4d7d-aafa-40b444cfc2cc",
   "metadata": {},
   "outputs": [
    {
     "data": {
      "text/plain": [
       "(NormaltestResult(statistic=1.7879397665538836, pvalue=0.4090287290308662),\n",
       " NormaltestResult(statistic=2.207229806487202, pvalue=0.33166995922028064))"
      ]
     },
     "execution_count": 692,
     "metadata": {},
     "output_type": "execute_result"
    }
   ],
   "source": [
    "scipy.stats.normaltest(nobel_h),scipy.stats.normaltest(ignobel_h)"
   ]
  },
  {
   "cell_type": "code",
   "execution_count": null,
   "id": "3c68a300-a5c3-4225-ad75-3e66bf14f1ae",
   "metadata": {},
   "outputs": [],
   "source": []
  },
  {
   "cell_type": "code",
   "execution_count": 2905,
   "id": "ef10fce3-50ca-49f1-a943-423454adf067",
   "metadata": {},
   "outputs": [
    {
     "data": {
      "text/plain": [
       "(0.04533333333333334, 0.03111111111111111)"
      ]
     },
     "execution_count": 2905,
     "metadata": {},
     "output_type": "execute_result"
    }
   ],
   "source": [
    "tails_i = [e for e in ignobel_h if e<.55]\n",
    "tails_n = [e for e in nobel_h if e<.55]\n",
    "len(tails_i)/len(ignobel_h), len(tails_n)/len(nobel_h)"
   ]
  },
  {
   "cell_type": "code",
   "execution_count": 2906,
   "id": "0d4adb29-5dff-49ed-a4e4-e18182b6c6ee",
   "metadata": {},
   "outputs": [
    {
     "data": {
      "text/plain": [
       "(0.244, 0.12)"
      ]
     },
     "execution_count": 2906,
     "metadata": {},
     "output_type": "execute_result"
    }
   ],
   "source": [
    "tails_i = [e for e in ignobel_h if e>.64]\n",
    "tails_n = [e for e in nobel_h if e>.64]\n",
    "len(tails_i)/len(ignobel_h), len(tails_n)/len(nobel_h)"
   ]
  },
  {
   "cell_type": "code",
   "execution_count": 2908,
   "id": "7855d2ca-972b-4d3b-8fc2-788c5352d5a4",
   "metadata": {},
   "outputs": [
    {
     "data": {
      "text/plain": [
       "(6.61774260300842, 5.4144250568202485)"
      ]
     },
     "execution_count": 2908,
     "metadata": {},
     "output_type": "execute_result"
    }
   ],
   "source": [
    "import scipy\n",
    "scipy.stats.entropy(ignobel_h),scipy.stats.entropy(nobel_h)"
   ]
  },
  {
   "cell_type": "code",
   "execution_count": 108,
   "id": "5ed9e6ee-2b4d-497e-b5e1-b502e9b4ac73",
   "metadata": {},
   "outputs": [
    {
     "name": "stdout",
     "output_type": "stream",
     "text": [
      "0.125 0.875\n",
      "0.6415094339622641 0.3584905660377358\n",
      "0.4642857142857143 0.5357142857142857\n"
     ]
    }
   ],
   "source": [
    "H2n = []\n",
    "for n in nobel_h:H2n.append((n,'n'))\n",
    "for i in ignobel_h[:len(nobel_h)]:H2n.append((i,'i'))  ###<<<< with and without balance!\n",
    "small,sweet,large=[],[],[]\n",
    "l=0.53\n",
    "for el in H2n:\n",
    "    n,v = el\n",
    "    if n<l: small.append(v)\n",
    "    elif l<=n<=.58: sweet.append(v) \n",
    "    else: large.append(v)\n",
    "\n",
    "print(small.count('n')/len(small),small.count('i')/len(small))\n",
    "print(sweet.count('n')/len(sweet),sweet.count('i')/len(sweet))\n",
    "print(large.count('n')/len(large),large.count('i')/len(large))"
   ]
  },
  {
   "cell_type": "code",
   "execution_count": 109,
   "id": "3e0d8545-e6e6-47af-be04-254ea795bc7d",
   "metadata": {},
   "outputs": [],
   "source": [
    "H2n.sort()\n",
    "prog_hs, prob_n, prob_i = [],[],[]\n",
    "values = set(map(lambda x:x[0], H2n))\n",
    "newlist = [(x,[y[1] for y in H2n if y[0]==x]) for x in values]\n",
    "for el in newlist:\n",
    "    h,v = el\n",
    "    prog_hs.append(h)\n",
    "    prob_n.append(v.count('n')/len(v))\n",
    "    prob_i.append(v.count('i')/len(v))"
   ]
  },
  {
   "cell_type": "code",
   "execution_count": 443,
   "id": "1a807af7-861b-447d-958d-7835aded6709",
   "metadata": {},
   "outputs": [
    {
     "data": {
      "image/png": "[encoded data removed]",
      "text/plain": [
       "<Figure size 432x288 with 1 Axes>"
      ]
     },
     "metadata": {
      "needs_background": "light"
     },
     "output_type": "display_data"
    }
   ],
   "source": [
    "plt.scatter(prog_hs[1:],prob_n[1:])\n",
    "plt.scatter(prog_hs[1:],prob_i[1:],c='red')\n",
    "plt.xlabel('Average Hurst score')\n",
    "plt.ylabel('Probability')\n",
    "plt.legend(['Nobel','Non-Nobel'])\n",
    "plt.savefig('nobel_probability.png')"
   ]
  },
  {
   "cell_type": "code",
   "execution_count": null,
   "id": "027a02f6-3722-4d22-87bd-d1d3b56fd170",
   "metadata": {},
   "outputs": [],
   "source": []
  },
  {
   "cell_type": "code",
   "execution_count": null,
   "id": "78c9fdaf-986b-4aa4-bc24-bfdfae27f413",
   "metadata": {},
   "outputs": [],
   "source": []
  },
  {
   "cell_type": "markdown",
   "id": "c2f147e6-5a74-4e92-935b-766f91cf3b13",
   "metadata": {},
   "source": [
    "# Bigrams"
   ]
  },
  {
   "cell_type": "code",
   "execution_count": 507,
   "id": "4139fabb-6d02-408b-8320-1740bd79722e",
   "metadata": {},
   "outputs": [],
   "source": [
    "for element in Bigrams:\n",
    "    print(element[0], len(element[1]), np.sum(element[1]))"
   ]
  },
  {
   "cell_type": "code",
   "execution_count": 477,
   "id": "7585a74b-353e-4b54-a8ac-03d99c3d5bc5",
   "metadata": {},
   "outputs": [
    {
     "name": "stdout",
     "output_type": "stream",
     "text": [
      "1910 h 0.00384890596894541\n",
      "1920 h 0.003742290373221408\n",
      "1930 h 0.0037134362076822855\n",
      "1940 h 0.0044319992070630115\n"
     ]
    }
   ],
   "source": [
    "a=Bigrams[0][1]+Bigrams[1][1]\n",
    "print('1910 h', np.mean(a))\n",
    "b=Bigrams[2][1]+Bigrams[3][1]\n",
    "print('1920 h', np.mean(b))\n",
    "c=Bigrams[4][1]+Bigrams[5][1]\n",
    "print('1930 h', np.mean(c))\n",
    "d=Bigrams[6][1]+Bigrams[7][1]\n",
    "print('1940 h', np.mean(d))"
   ]
  },
  {
   "cell_type": "code",
   "execution_count": 478,
   "id": "8e469924-2e3c-4240-b99f-e3948318d39a",
   "metadata": {
    "tags": []
   },
   "outputs": [
    {
     "name": "stdout",
     "output_type": "stream",
     "text": [
      "F_onewayResult(statistic=3.0067906223342037e-31, pvalue=1.0)\n",
      "F_onewayResult(statistic=0.1019898142616713, pvalue=0.7496664064834934)\n",
      "F_onewayResult(statistic=0.1760070656791857, pvalue=0.6751189254797786)\n",
      "F_onewayResult(statistic=0.6269485502973599, pvalue=0.42931077664057693)\n",
      "F_onewayResult(statistic=0.10198981426167132, pvalue=0.7496664064834934)\n",
      "F_onewayResult(statistic=-9.064877165603343e-31, pvalue=nan)\n",
      "F_onewayResult(statistic=0.010216153398854946, pvalue=0.9195484790406255)\n",
      "F_onewayResult(statistic=1.1423350613610745, pvalue=0.2861211862516945)\n",
      "F_onewayResult(statistic=0.17600706567918584, pvalue=0.6751189254797786)\n",
      "F_onewayResult(statistic=0.010216153398854946, pvalue=0.9195484790406255)\n",
      "F_onewayResult(statistic=4.238522682009642e-32, pvalue=1.0)\n",
      "F_onewayResult(statistic=1.2470760195070127, pvalue=0.26513474387803465)\n",
      "F_onewayResult(statistic=0.6269485502973602, pvalue=0.42931077664057693)\n",
      "F_onewayResult(statistic=1.1423350613610754, pvalue=0.2861211862516945)\n",
      "F_onewayResult(statistic=1.2470760195070125, pvalue=0.26513474387803465)\n",
      "F_onewayResult(statistic=6.931931803120192e-32, pvalue=1.0)\n"
     ]
    }
   ],
   "source": [
    "decade_hs = [a,b,c,d]\n",
    "for el in decade_hs:\n",
    "    for al in decade_hs: print(stats.f_oneway(el, al))"
   ]
  },
  {
   "cell_type": "code",
   "execution_count": 479,
   "id": "3d743f8f-b8b5-4df8-abaa-756bd3a31f8a",
   "metadata": {},
   "outputs": [
    {
     "name": "stdout",
     "output_type": "stream",
     "text": [
      "0.003931477571346999 0.003825204640083546\n"
     ]
    },
    {
     "data": {
      "text/plain": [
       "F_onewayResult(statistic=0.09733347433533338, pvalue=0.7551656571829231)"
      ]
     },
     "execution_count": 479,
     "metadata": {},
     "output_type": "execute_result"
    }
   ],
   "source": [
    "nobel_b = Bigrams[0][1]+Bigrams[2][1]+Bigrams[4][1]+Bigrams[6][1]\n",
    "ignobel_b = Bigrams[1][1]+Bigrams[3][1]+Bigrams[5][1]+Bigrams[7][1]\n",
    "len(nobel_b), len(ignobel_b)\n",
    "\n",
    "# is there a statistical different between nobels and ignobels bigram richness wise? No!\n",
    "print(np.mean(nobel_b), np.mean(ignobel_b))\n",
    "stats.f_oneway(nobel_b, ignobel_b)"
   ]
  },
  {
   "cell_type": "code",
   "execution_count": 2,
   "id": "418e861d-1169-4ba3-8e0f-a123f3e83533",
   "metadata": {},
   "outputs": [
    {
     "ename": "NameError",
     "evalue": "name 'Arcs' is not defined",
     "output_type": "error",
     "traceback": [
      "\u001b[0;31m---------------------------------------------------------------------------\u001b[0m",
      "\u001b[0;31mNameError\u001b[0m                                 Traceback (most recent call last)",
      "\u001b[0;32m/var/folders/tq/cn4jbv_11413jnwjpr13y82cxp6nzv/T/ipykernel_77789/3375010584.py\u001b[0m in \u001b[0;36m<module>\u001b[0;34m\u001b[0m\n\u001b[0;32m----> 1\u001b[0;31m \u001b[0mlen\u001b[0m\u001b[0;34m(\u001b[0m\u001b[0mArcs\u001b[0m\u001b[0;34m)\u001b[0m\u001b[0;34m\u001b[0m\u001b[0;34m\u001b[0m\u001b[0m\n\u001b[0m",
      "\u001b[0;31mNameError\u001b[0m: name 'Arcs' is not defined"
     ]
    }
   ],
   "source": [
    "len(Arcs)"
   ]
  },
  {
   "cell_type": "code",
   "execution_count": 1,
   "id": "a8f00255-4126-4239-8fbc-419b88de02c7",
   "metadata": {},
   "outputs": [
    {
     "ename": "NameError",
     "evalue": "name 'Ttr' is not defined",
     "output_type": "error",
     "traceback": [
      "\u001b[0;31m---------------------------------------------------------------------------\u001b[0m",
      "\u001b[0;31mNameError\u001b[0m                                 Traceback (most recent call last)",
      "\u001b[0;32m/var/folders/tq/cn4jbv_11413jnwjpr13y82cxp6nzv/T/ipykernel_77789/4033060670.py\u001b[0m in \u001b[0;36m<module>\u001b[0;34m\u001b[0m\n\u001b[0;32m----> 1\u001b[0;31m \u001b[0mnobel_b\u001b[0m \u001b[0;34m=\u001b[0m \u001b[0mTtr\u001b[0m\u001b[0;34m[\u001b[0m\u001b[0;36m0\u001b[0m\u001b[0;34m]\u001b[0m\u001b[0;34m[\u001b[0m\u001b[0;36m1\u001b[0m\u001b[0;34m]\u001b[0m\u001b[0;34m+\u001b[0m\u001b[0mTtr\u001b[0m\u001b[0;34m[\u001b[0m\u001b[0;36m2\u001b[0m\u001b[0;34m]\u001b[0m\u001b[0;34m[\u001b[0m\u001b[0;36m1\u001b[0m\u001b[0;34m]\u001b[0m\u001b[0;34m+\u001b[0m\u001b[0mTtr\u001b[0m\u001b[0;34m[\u001b[0m\u001b[0;36m4\u001b[0m\u001b[0;34m]\u001b[0m\u001b[0;34m[\u001b[0m\u001b[0;36m1\u001b[0m\u001b[0;34m]\u001b[0m\u001b[0;34m+\u001b[0m\u001b[0mTtr\u001b[0m\u001b[0;34m[\u001b[0m\u001b[0;36m6\u001b[0m\u001b[0;34m]\u001b[0m\u001b[0;34m[\u001b[0m\u001b[0;36m1\u001b[0m\u001b[0;34m]\u001b[0m\u001b[0;34m\u001b[0m\u001b[0;34m\u001b[0m\u001b[0m\n\u001b[0m\u001b[1;32m      2\u001b[0m \u001b[0mignobel_b\u001b[0m \u001b[0;34m=\u001b[0m \u001b[0mTtr\u001b[0m\u001b[0;34m[\u001b[0m\u001b[0;36m1\u001b[0m\u001b[0;34m]\u001b[0m\u001b[0;34m[\u001b[0m\u001b[0;36m1\u001b[0m\u001b[0;34m]\u001b[0m\u001b[0;34m+\u001b[0m\u001b[0mTtr\u001b[0m\u001b[0;34m[\u001b[0m\u001b[0;36m3\u001b[0m\u001b[0;34m]\u001b[0m\u001b[0;34m[\u001b[0m\u001b[0;36m1\u001b[0m\u001b[0;34m]\u001b[0m\u001b[0;34m+\u001b[0m\u001b[0mTtr\u001b[0m\u001b[0;34m[\u001b[0m\u001b[0;36m5\u001b[0m\u001b[0;34m]\u001b[0m\u001b[0;34m[\u001b[0m\u001b[0;36m1\u001b[0m\u001b[0;34m]\u001b[0m\u001b[0;34m+\u001b[0m\u001b[0mTtr\u001b[0m\u001b[0;34m[\u001b[0m\u001b[0;36m7\u001b[0m\u001b[0;34m]\u001b[0m\u001b[0;34m[\u001b[0m\u001b[0;36m1\u001b[0m\u001b[0;34m]\u001b[0m\u001b[0;34m\u001b[0m\u001b[0;34m\u001b[0m\u001b[0m\n\u001b[1;32m      3\u001b[0m \u001b[0mlen\u001b[0m\u001b[0;34m(\u001b[0m\u001b[0mnobel_b\u001b[0m\u001b[0;34m)\u001b[0m\u001b[0;34m,\u001b[0m \u001b[0mlen\u001b[0m\u001b[0;34m(\u001b[0m\u001b[0mignobel_b\u001b[0m\u001b[0;34m)\u001b[0m\u001b[0;34m\u001b[0m\u001b[0;34m\u001b[0m\u001b[0m\n\u001b[1;32m      4\u001b[0m \u001b[0;34m\u001b[0m\u001b[0m\n\u001b[1;32m      5\u001b[0m \u001b[0;31m# is there a statistical different between nobels and ignobels bigram richness wise? No!\u001b[0m\u001b[0;34m\u001b[0m\u001b[0;34m\u001b[0m\u001b[0m\n",
      "\u001b[0;31mNameError\u001b[0m: name 'Ttr' is not defined"
     ]
    }
   ],
   "source": [
    "nobel_b = Ttr[0][1]+Ttr[2][1]+Ttr[4][1]+Ttr[6][1]\n",
    "ignobel_b = Ttr[1][1]+Ttr[3][1]+Ttr[5][1]+Ttr[7][1]\n",
    "len(nobel_b), len(ignobel_b)\n",
    "\n",
    "# is there a statistical different between nobels and ignobels bigram richness wise? No!\n",
    "print(np.mean(nobel_b), np.mean(ignobel_b))\n",
    "stats.f_oneway(nobel_b, ignobel_b)"
   ]
  },
  {
   "cell_type": "code",
   "execution_count": null,
   "id": "887c30df-8506-4b97-beca-f0fe64e534c4",
   "metadata": {},
   "outputs": [],
   "source": []
  },
  {
   "cell_type": "markdown",
   "id": "bed71a28-9002-433a-b7f7-061f4d4ed723",
   "metadata": {},
   "source": [
    "# Classification"
   ]
  },
  {
   "cell_type": "code",
   "execution_count": 639,
   "id": "92d16d22-0f98-4bd7-bba1-f57215bb3301",
   "metadata": {},
   "outputs": [],
   "source": [
    "import json\n",
    "with open('Nobel_Ignobel_Hursts.json') as json_file:\n",
    "    Hurst = json.load(json_file)\n",
    "with open('Nobel_Ignobel_Arcs.json') as json_file:\n",
    "    Arcs = json.load(json_file)\n",
    "with open('Nobel_Ignobel_Ttr.json') as json_file:\n",
    "    Ttr = json.load(json_file)"
   ]
  },
  {
   "cell_type": "code",
   "execution_count": null,
   "id": "df7e4c07-8c2c-4e05-b428-31722d72e7f3",
   "metadata": {},
   "outputs": [],
   "source": []
  },
  {
   "cell_type": "code",
   "execution_count": 640,
   "id": "db35629f-b8d8-47e8-b67d-d1b9559d8005",
   "metadata": {},
   "outputs": [],
   "source": [
    "nobel_h = Hursts[0][1]+Hursts[2][1]+Hursts[4][1]+Hursts[6][1]+Hursts[8][1]\n",
    "ignobel_h = Hursts[1][1]+Hursts[3][1]+Hursts[5][1]+Hursts[7][1]+Hursts[9][1]"
   ]
  },
  {
   "cell_type": "code",
   "execution_count": 641,
   "id": "c4d5f562-fc09-4f0d-859c-d2e9f5a2f50a",
   "metadata": {},
   "outputs": [],
   "source": [
    "nobel_t = Ttr[0][1]+Ttr[2][1]+Ttr[4][1]+Ttr[6][1]+Ttr[8][1]\n",
    "ignobel_t = Ttr[1][1]+Ttr[3][1]+Ttr[5][1]+Ttr[7][1]+Ttr[9][1]"
   ]
  },
  {
   "cell_type": "code",
   "execution_count": 642,
   "id": "d173e577-7ea7-453e-8ffa-f0aabfb40248",
   "metadata": {},
   "outputs": [],
   "source": [
    "nobel_a = Arcs[0][1]+Arcs[2][1]+Arcs[4][1]+Arcs[6][1]+Arcs[8][1]\n",
    "ignobel_a = Arcs[1][1]+Arcs[3][1]+Arcs[5][1]+Arcs[7][1]+Arcs[9][1]"
   ]
  },
  {
   "cell_type": "code",
   "execution_count": 643,
   "id": "c31145ee-bd25-41be-95f5-509bdb1c8295",
   "metadata": {},
   "outputs": [],
   "source": [
    "import random"
   ]
  },
  {
   "cell_type": "code",
   "execution_count": 717,
   "id": "d95eefce-6083-4e64-b81a-7957c91bdfb4",
   "metadata": {},
   "outputs": [],
   "source": [
    "labels = []\n",
    "X = []\n",
    "for i in range(len(nobel_h)):\n",
    "    labels.append('n')\n",
    "    X.append((nobel_h[i],nobel_t[i],np.mean(nobel_a[i]), nobel_a[i][-1]))\n",
    "    #X[i]+=nobel_a[i][:20]\n",
    "\n",
    "n=0\n",
    "for i in range(n,n+len(nobel_h)):\n",
    "    labels.append('i')\n",
    "    X.append((ignobel_h[i],ignobel_t[i], np.mean(ignobel_a[i]),ignobel_a[i][-1]))\n",
    "    #X[len(nobel_h)+i]+=ignobel_a[i][:20]"
   ]
  },
  {
   "cell_type": "code",
   "execution_count": 718,
   "id": "9f750a4b-2919-405e-acfb-73c1787f4e6b",
   "metadata": {},
   "outputs": [
    {
     "data": {
      "text/plain": [
       "225"
      ]
     },
     "execution_count": 718,
     "metadata": {},
     "output_type": "execute_result"
    }
   ],
   "source": [
    "labels.count('i')"
   ]
  },
  {
   "cell_type": "code",
   "execution_count": 719,
   "id": "a2efbb34-c0fe-4cb4-96ce-563562d43207",
   "metadata": {},
   "outputs": [
    {
     "data": {
      "text/plain": [
       "450"
      ]
     },
     "execution_count": 719,
     "metadata": {},
     "output_type": "execute_result"
    }
   ],
   "source": [
    "len(labels)"
   ]
  },
  {
   "cell_type": "code",
   "execution_count": 707,
   "id": "15671a6c-885b-466f-8e32-dab7aaebad9a",
   "metadata": {},
   "outputs": [],
   "source": [
    "from sklearn.model_selection import train_test_split\n",
    "from sklearn import svm, linear_model, cluster\n",
    "from sklearn.neighbors import KNeighborsClassifier\n",
    "from sklearn.tree import DecisionTreeClassifier\n",
    "from sklearn.ensemble import RandomForestClassifier, AdaBoostClassifier\n",
    "from sklearn.naive_bayes import GaussianNB\n",
    "from sklearn.neural_network import MLPClassifier,BernoulliRBM\n",
    "from sklearn.gaussian_process import GaussianProcessClassifier\n",
    "\n",
    "from sklearn.discriminant_analysis import QuadraticDiscriminantAnalysis, LinearDiscriminantAnalysis\n",
    "\n",
    "X_train , X_test , y_train, y_test = train_test_split(X, labels, random_state=0, \n",
    "                                                      test_size=.25)"
   ]
  },
  {
   "cell_type": "code",
   "execution_count": 708,
   "id": "82120bea-329a-42ee-9c0e-f346f7f4f14f",
   "metadata": {},
   "outputs": [
    {
     "data": {
      "text/plain": [
       "(113, 337)"
      ]
     },
     "execution_count": 708,
     "metadata": {},
     "output_type": "execute_result"
    }
   ],
   "source": [
    "len(y_test), len(y_train)"
   ]
  },
  {
   "cell_type": "code",
   "execution_count": null,
   "id": "e55e548c-9190-4782-b706-046e44858db4",
   "metadata": {},
   "outputs": [],
   "source": []
  },
  {
   "cell_type": "code",
   "execution_count": 709,
   "id": "852644e6-496b-4f20-90c1-f1a306aa4239",
   "metadata": {},
   "outputs": [],
   "source": [
    "clf = RandomForestClassifier() #GaussianNB()>best for single classification #RandomForestClassifier()>best for fold validation\n",
    "#KNeighborsClassifier() #linear_model.LogisticRegression()   #svm.SVC()"
   ]
  },
  {
   "cell_type": "code",
   "execution_count": 710,
   "id": "02039798-97ca-4c27-a3c4-6e3512d55b60",
   "metadata": {},
   "outputs": [
    {
     "data": {
      "text/plain": [
       "RandomForestClassifier()"
      ]
     },
     "execution_count": 710,
     "metadata": {},
     "output_type": "execute_result"
    }
   ],
   "source": [
    "clf.fit(X_train, y_train)"
   ]
  },
  {
   "cell_type": "code",
   "execution_count": 711,
   "id": "e08393c0-ec0d-4ae8-b1a1-894104b280fb",
   "metadata": {},
   "outputs": [
    {
     "data": {
      "text/plain": [
       "0.6460176991150443"
      ]
     },
     "execution_count": 711,
     "metadata": {},
     "output_type": "execute_result"
    }
   ],
   "source": [
    "clf.score(X_test,y_test)"
   ]
  },
  {
   "cell_type": "code",
   "execution_count": 712,
   "id": "d32cae55-3a39-4e55-bc6d-6f44f7992cd1",
   "metadata": {},
   "outputs": [],
   "source": [
    "y_pred = clf.predict(X_test)"
   ]
  },
  {
   "cell_type": "code",
   "execution_count": 713,
   "id": "100496a0-802c-41c8-982b-72e232c14975",
   "metadata": {},
   "outputs": [
    {
     "data": {
      "text/plain": [
       "[0.6665783734276884,\n",
       " 0.6043986091354513,\n",
       " 0.6305969403690448,\n",
       " 0.6392692282877603,\n",
       " 0.6439210181257575,\n",
       " 0.6436082608997341,\n",
       " 0.6525571406605812,\n",
       " 0.6637664186838059]"
      ]
     },
     "execution_count": 713,
     "metadata": {},
     "output_type": "execute_result"
    }
   ],
   "source": [
    "from sklearn.model_selection import cross_val_score\n",
    "scores_2=[]\n",
    "for i in range(2,10):\n",
    "    scores = cross_val_score(clf, X, labels, cv=i,scoring='f1_weighted')\n",
    "    scores_2.append(np.mean(scores))\n",
    "scores_2"
   ]
  },
  {
   "cell_type": "code",
   "execution_count": 720,
   "id": "867aafaf-debd-4b9c-a97b-c131f2ee2649",
   "metadata": {},
   "outputs": [
    {
     "data": {
      "image/png": "[encoded data removed]",
      "text/plain": [
       "<Figure size 432x288 with 1 Axes>"
      ]
     },
     "metadata": {
      "needs_background": "light"
     },
     "output_type": "display_data"
    }
   ],
   "source": [
    "plt.plot([i for i in range(2,10)], scores_,'rx--')\n",
    "plt.plot([i for i in range(2,10)], scores_2,'bo--')\n",
    "plt.legend(['with Hurst','without Hurst'])\n",
    "plt.xlabel('N-fold cross validation')\n",
    "plt.ylabel('Weighted f score')\n",
    "plt.savefig('Nobel classification')"
   ]
  },
  {
   "cell_type": "code",
   "execution_count": 665,
   "id": "4bd8e117-aba1-4c74-a727-c8555ad41e09",
   "metadata": {},
   "outputs": [
    {
     "name": "stdout",
     "output_type": "stream",
     "text": [
      "[0.67948718 0.75961538 0.63768116 0.77991196 0.63942308 0.77777778\n",
      " 0.65986395 0.59935897 0.71819646]\n"
     ]
    },
    {
     "data": {
      "text/plain": [
       "0.6945906578081912"
      ]
     },
     "execution_count": 665,
     "metadata": {},
     "output_type": "execute_result"
    }
   ],
   "source": [
    "print(scores)\n",
    "np.mean(scores)"
   ]
  },
  {
   "cell_type": "code",
   "execution_count": 659,
   "id": "0f0b6ef5-6ebe-4a02-862a-268a672206ea",
   "metadata": {},
   "outputs": [
    {
     "name": "stdout",
     "output_type": "stream",
     "text": [
      "0.4934073851747298\n",
      "0.46422171018945213\n",
      "-0.07155657962109574\n"
     ]
    }
   ],
   "source": [
    "### comparison: a random f score\n",
    "scores = []\n",
    "for i in range(20):\n",
    "    dice = random.choices(['i','n'],k=250)\n",
    "    predice = random.choices(['i','n'],k=250)\n",
    "    scores.append(f1_score(dice,predice,average='weighted'))\n",
    "    \n",
    "print(np.mean(scores))\n",
    "print(balanced_accuracy_score(dice,predice))\n",
    "print(balanced_accuracy_score(dice,predice,adjusted=True))"
   ]
  },
  {
   "cell_type": "code",
   "execution_count": 660,
   "id": "f69985ac-a2e0-4ee8-99eb-d8fe79beb346",
   "metadata": {},
   "outputs": [
    {
     "name": "stdout",
     "output_type": "stream",
     "text": [
      "0.33683013553309704\n",
      "0.5\n",
      "0.0\n"
     ]
    }
   ],
   "source": [
    "### comparison: a random f score\n",
    "scores = []\n",
    "for i in range(20):\n",
    "    dice = random.choices(['i','n'],k=250)\n",
    "    predice = ['i' for i in range(250)]\n",
    "    scores.append(f1_score(dice,predice,average='weighted'))\n",
    "    \n",
    "print(np.mean(scores))\n",
    "print(balanced_accuracy_score(dice,predice))\n",
    "print(balanced_accuracy_score(dice,predice,adjusted=True))"
   ]
  },
  {
   "cell_type": "code",
   "execution_count": 661,
   "id": "f2101d7b-66df-4b6a-8409-f544a0c5fabf",
   "metadata": {},
   "outputs": [
    {
     "name": "stdout",
     "output_type": "stream",
     "text": [
      "0.5504761904761906\n",
      "0.5\n",
      "0.0\n"
     ]
    }
   ],
   "source": [
    "scores = []\n",
    "for i in range(20):\n",
    "    dice = ['i' for i in range(80)]+['n' for i in range(170)]\n",
    "    predice = random.choices(['n'],k=250)\n",
    "    scores.append(f1_score(dice,predice,average='weighted'))\n",
    "    \n",
    "print(np.mean(scores))\n",
    "print(balanced_accuracy_score(dice,predice))\n",
    "print(balanced_accuracy_score(dice,predice,adjusted=True))"
   ]
  },
  {
   "cell_type": "code",
   "execution_count": 662,
   "id": "28ccfdbc-a5ef-4d56-b3f7-71d8ef6e5418",
   "metadata": {
    "tags": []
   },
   "outputs": [
    {
     "data": {
      "text/plain": [
       "0.7079646017699115"
      ]
     },
     "execution_count": 662,
     "metadata": {},
     "output_type": "execute_result"
    }
   ],
   "source": [
    "from sklearn.metrics import f1_score\n",
    "f1_score(y_test, y_pred, average='weighted')"
   ]
  },
  {
   "cell_type": "code",
   "execution_count": 663,
   "id": "9fa6bb58-45f2-4873-8453-de767b8a6196",
   "metadata": {},
   "outputs": [
    {
     "data": {
      "text/plain": [
       "0.7147375079063883"
      ]
     },
     "execution_count": 663,
     "metadata": {},
     "output_type": "execute_result"
    }
   ],
   "source": [
    "from sklearn.metrics import balanced_accuracy_score\n",
    "balanced_accuracy_score(y_test, y_pred)"
   ]
  },
  {
   "cell_type": "code",
   "execution_count": 1587,
   "id": "10277ba3-9eb9-4bd5-ab9e-0bb84754062b",
   "metadata": {},
   "outputs": [
    {
     "data": {
      "text/plain": [
       "189"
      ]
     },
     "execution_count": 1587,
     "metadata": {},
     "output_type": "execute_result"
    }
   ],
   "source": [
    "len(title2text)"
   ]
  },
  {
   "cell_type": "code",
   "execution_count": 1234,
   "id": "cc301335-d357-4f2a-8ce5-e31777f34b91",
   "metadata": {},
   "outputs": [],
   "source": [
    "gal,kip,tag,fra = [],[],[],[]\n",
    "for title in title2meta:\n",
    "    content = title2meta[title]\n",
    "    author=content[-3]\n",
    "    if author is not np.nan:\n",
    "        filename=content[-1]\n",
    "        if 'galsworthy' in author.lower(): gal.append(filename)\n",
    "        elif 'france,' in author.lower(): fra.append(filename)\n",
    "        elif 'kipling' in author.lower(): kip.append(filename)\n",
    "        elif 'tagore' in author.lower(): tag.append(filename)"
   ]
  },
  {
   "cell_type": "raw",
   "id": "4cbb7194-95bc-48d6-a378-7b2a4335e885",
   "metadata": {},
   "source": [
    "print(len(gal), len(fra), len(kip), len(tag))\n",
    "checklist = gal[:30]+fra[:30]+kip[:0]+tag[:30]\n",
    "len(checklist)"
   ]
  },
  {
   "cell_type": "code",
   "execution_count": 1236,
   "id": "7d36e579-7f9b-44c6-9c5f-3ccc2720bab5",
   "metadata": {},
   "outputs": [
    {
     "data": {
      "text/plain": [
       "42"
      ]
     },
     "execution_count": 1236,
     "metadata": {},
     "output_type": "execute_result"
    }
   ],
   "source": [
    "len(texts)"
   ]
  },
  {
   "cell_type": "code",
   "execution_count": 1237,
   "id": "f635a8a6-6a50-491f-9497-6e6299a73454",
   "metadata": {},
   "outputs": [],
   "source": [
    "#title2texts = filenames2texts(checklist)"
   ]
  },
  {
   "cell_type": "code",
   "execution_count": 1238,
   "id": "138cd2ba-ff56-4653-a4ab-a2e835c38274",
   "metadata": {
    "tags": []
   },
   "outputs": [],
   "source": [
    "#title2texts.keys()"
   ]
  },
  {
   "cell_type": "raw",
   "id": "8d14d418-6051-4bf8-b0d5-f6ac01826462",
   "metadata": {
    "tags": []
   },
   "source": [
    "nobel_h_check = []\n",
    "nobel_t_check = []\n",
    "nobel_a_check = []\n",
    "\n",
    "\n",
    "for title in title2texts:          \n",
    "    text = title2texts[title]\n",
    "    print(title)\n",
    "\n",
    "    words = nltk.wordpunct_tokenize(text)\n",
    "    ttr = len(list(set(words)))/len(words)\n",
    "            \n",
    "    arc = figs.sentimarc_sid(text)\n",
    "    if len(arc)>300: h = figs.get_Hurst(arc)\n",
    "\n",
    "    nobel_a_check.append(arc)\n",
    "    nobel_h_check.append(h)\n",
    "    nobel_t_check.append(ttr)"
   ]
  },
  {
   "cell_type": "code",
   "execution_count": 1,
   "id": "7a367498-ebfb-433f-95cd-2f92ce7e5548",
   "metadata": {},
   "outputs": [
    {
     "ename": "NameError",
     "evalue": "name 'ignobel_h' is not defined",
     "output_type": "error",
     "traceback": [
      "\u001b[0;31m---------------------------------------------------------------------------\u001b[0m",
      "\u001b[0;31mNameError\u001b[0m                                 Traceback (most recent call last)",
      "\u001b[0;32m/var/folders/tq/cn4jbv_11413jnwjpr13y82cxp6nzv/T/ipykernel_878/3681682623.py\u001b[0m in \u001b[0;36m<module>\u001b[0;34m\u001b[0m\n\u001b[0;32m----> 1\u001b[0;31m \u001b[0mlen\u001b[0m\u001b[0;34m(\u001b[0m\u001b[0mignobel_h\u001b[0m\u001b[0;34m)\u001b[0m\u001b[0;34m\u001b[0m\u001b[0;34m\u001b[0m\u001b[0m\n\u001b[0m",
      "\u001b[0;31mNameError\u001b[0m: name 'ignobel_h' is not defined"
     ]
    }
   ],
   "source": [
    "len(ignobel_h)"
   ]
  },
  {
   "cell_type": "code",
   "execution_count": 615,
   "id": "76b2fd8a-2cd8-4f07-94ea-3ef7c79cb189",
   "metadata": {},
   "outputs": [
    {
     "ename": "NameError",
     "evalue": "name 'nobel_h_check' is not defined",
     "output_type": "error",
     "traceback": [
      "\u001b[0;31m---------------------------------------------------------------------------\u001b[0m",
      "\u001b[0;31mNameError\u001b[0m                                 Traceback (most recent call last)",
      "\u001b[0;32m/var/folders/tq/cn4jbv_11413jnwjpr13y82cxp6nzv/T/ipykernel_32546/2591082277.py\u001b[0m in \u001b[0;36m<module>\u001b[0;34m\u001b[0m\n\u001b[1;32m      4\u001b[0m \u001b[0mn\u001b[0m \u001b[0;34m=\u001b[0m \u001b[0;36m100\u001b[0m\u001b[0;34m\u001b[0m\u001b[0;34m\u001b[0m\u001b[0m\n\u001b[1;32m      5\u001b[0m \u001b[0;34m\u001b[0m\u001b[0m\n\u001b[0;32m----> 6\u001b[0;31m \u001b[0;32mfor\u001b[0m \u001b[0mi\u001b[0m \u001b[0;32min\u001b[0m \u001b[0mrange\u001b[0m\u001b[0;34m(\u001b[0m\u001b[0mlen\u001b[0m\u001b[0;34m(\u001b[0m\u001b[0mnobel_h_check\u001b[0m\u001b[0;34m)\u001b[0m\u001b[0;34m)\u001b[0m\u001b[0;34m:\u001b[0m\u001b[0;34m\u001b[0m\u001b[0;34m\u001b[0m\u001b[0m\n\u001b[0m\u001b[1;32m      7\u001b[0m     \u001b[0mlabels\u001b[0m\u001b[0;34m.\u001b[0m\u001b[0mappend\u001b[0m\u001b[0;34m(\u001b[0m\u001b[0;34m'n'\u001b[0m\u001b[0;34m)\u001b[0m\u001b[0;34m\u001b[0m\u001b[0;34m\u001b[0m\u001b[0m\n\u001b[1;32m      8\u001b[0m     X.append((nobel_h_check[i], nobel_t_check[i],np.mean(nobel_a_check[i]), \n",
      "\u001b[0;31mNameError\u001b[0m: name 'nobel_h_check' is not defined"
     ]
    }
   ],
   "source": [
    "labels = []\n",
    "X = []\n",
    "\n",
    "n = 100\n",
    "\n",
    "for i in range(len(nobel_h_check)):\n",
    "    labels.append('n')\n",
    "    X.append((nobel_h_check[i], nobel_t_check[i],np.mean(nobel_a_check[i]), \n",
    "             len(nobel_a_check[i]), np.mean(nobel_a_check[i][-n:]), np.mean(nobel_a_check[i][:n])))\n",
    "    #X[i]+=nobel_a[i][:20]\n",
    "\n",
    "for i in range(len(nobel_h_check)):\n",
    "    labels.append('i')\n",
    "    X.append((ignobel_h[i], ignobel_t[i], np.mean(ignobel_a[i]),\n",
    "              len(ignobel_a[i]), np.mean(ignobel_a[i][-n:]), np.mean(ignobel_a[i][:n])))\n",
    "    #X[len(nobel_h)+i]+=ignobel_a[i][:20]"
   ]
  },
  {
   "cell_type": "code",
   "execution_count": 502,
   "id": "fa1b3931-f213-4f50-8f96-da9c69e6aeb3",
   "metadata": {},
   "outputs": [
    {
     "ename": "NameError",
     "evalue": "name 'nobel_h_check' is not defined",
     "output_type": "error",
     "traceback": [
      "\u001b[0;31m---------------------------------------------------------------------------\u001b[0m",
      "\u001b[0;31mNameError\u001b[0m                                 Traceback (most recent call last)",
      "\u001b[0;32m/var/folders/tq/cn4jbv_11413jnwjpr13y82cxp6nzv/T/ipykernel_32546/1552575024.py\u001b[0m in \u001b[0;36m<module>\u001b[0;34m\u001b[0m\n\u001b[0;32m----> 1\u001b[0;31m \u001b[0mlen\u001b[0m\u001b[0;34m(\u001b[0m\u001b[0mnobel_h_check\u001b[0m\u001b[0;34m)\u001b[0m\u001b[0;34m\u001b[0m\u001b[0;34m\u001b[0m\u001b[0m\n\u001b[0m",
      "\u001b[0;31mNameError\u001b[0m: name 'nobel_h_check' is not defined"
     ]
    }
   ],
   "source": [
    "len(nobel_h_check)"
   ]
  },
  {
   "cell_type": "code",
   "execution_count": null,
   "id": "bb639863-07ac-4f84-aa62-c2b6fdefc3a7",
   "metadata": {},
   "outputs": [],
   "source": []
  },
  {
   "cell_type": "code",
   "execution_count": 519,
   "id": "24133aed-0634-440c-b3fb-16a001ef34f3",
   "metadata": {},
   "outputs": [
    {
     "data": {
      "text/plain": [
       "(0.954954954954955, 0, 111)"
      ]
     },
     "execution_count": 519,
     "metadata": {},
     "output_type": "execute_result"
    }
   ],
   "source": [
    "clf.score(X, labels), labels.count('i'), len(labels)"
   ]
  },
  {
   "cell_type": "code",
   "execution_count": 520,
   "id": "0bf8151e-2a68-46ee-9ff8-0d9f170f0370",
   "metadata": {},
   "outputs": [
    {
     "name": "stdout",
     "output_type": "stream",
     "text": [
      "[0.7826087  0.77272727 0.72727273 0.72727273 0.63636364]\n"
     ]
    },
    {
     "data": {
      "text/plain": [
       "0.7292490118577075"
      ]
     },
     "execution_count": 520,
     "metadata": {},
     "output_type": "execute_result"
    }
   ],
   "source": [
    "scores = cross_val_score(clf, X, labels, cv=5)\n",
    "print(scores)\n",
    "np.mean(scores)"
   ]
  },
  {
   "cell_type": "code",
   "execution_count": null,
   "id": "2e3c9e8e-bfad-49c4-83c4-41552c5060c9",
   "metadata": {
    "collapsed": true,
    "jupyter": {
     "outputs_hidden": true
    },
    "tags": []
   },
   "outputs": [],
   "source": []
  },
  {
   "cell_type": "code",
   "execution_count": 521,
   "id": "98080c15-604f-4baa-a189-64a18c4f2a6a",
   "metadata": {},
   "outputs": [],
   "source": [
    "clf = RandomForestClassifier() #GaussianNB()>best for single classification #RandomForestClassifier()>best for fold validation\n",
    "#KNeighborsClassifier() #linear_model.LogisticRegression()   #svm.SVC()"
   ]
  },
  {
   "cell_type": "code",
   "execution_count": 611,
   "id": "a49698da-eaa8-4a41-8ac6-fc51d125d951",
   "metadata": {},
   "outputs": [
    {
     "name": "stdout",
     "output_type": "stream",
     "text": [
      "[0.73913043 0.81818182 0.77272727 0.77272727 0.63636364]\n"
     ]
    },
    {
     "data": {
      "text/plain": [
       "0.7478260869565216"
      ]
     },
     "execution_count": 611,
     "metadata": {},
     "output_type": "execute_result"
    }
   ],
   "source": [
    "from sklearn.model_selection import cross_val_score\n",
    "scores = cross_val_score(clf, X, labels, cv=5,scoring='f1_micro')\n",
    "print(scores)\n",
    "np.mean(scores)"
   ]
  },
  {
   "cell_type": "code",
   "execution_count": 610,
   "id": "b580b2b3-7a06-40cf-bee8-02262ebfc4d3",
   "metadata": {},
   "outputs": [
    {
     "data": {
      "text/plain": [
       "(99, 12)"
      ]
     },
     "execution_count": 610,
     "metadata": {},
     "output_type": "execute_result"
    }
   ],
   "source": [
    "X_train , X_test , y_train, y_test = train_test_split(X, labels, random_state=0, \n",
    "                                                      test_size=.1)\n",
    "len(X_train), len(X_test)"
   ]
  },
  {
   "cell_type": "code",
   "execution_count": 608,
   "id": "8693f888-ed0b-43e6-93b6-486e192271d7",
   "metadata": {},
   "outputs": [
    {
     "data": {
      "text/plain": [
       "0.75"
      ]
     },
     "execution_count": 608,
     "metadata": {},
     "output_type": "execute_result"
    }
   ],
   "source": [
    "clf.fit(X_train, y_train)\n",
    "clf.score(X_test, y_test)"
   ]
  },
  {
   "cell_type": "code",
   "execution_count": 606,
   "id": "a300afa9-3ab7-4eae-ac62-e80d841cb890",
   "metadata": {},
   "outputs": [],
   "source": [
    "y_pred = clf.predict(X_test)"
   ]
  },
  {
   "cell_type": "code",
   "execution_count": 600,
   "id": "1d1092d8-8765-419e-83be-0bb7c65310cd",
   "metadata": {},
   "outputs": [
    {
     "data": {
      "text/plain": [
       "0.7058823529411765"
      ]
     },
     "execution_count": 600,
     "metadata": {},
     "output_type": "execute_result"
    }
   ],
   "source": [
    "f1_score(y_test, y_pred, average='micro')"
   ]
  },
  {
   "cell_type": "code",
   "execution_count": 601,
   "id": "369a48f1-47bc-4eb8-a211-142d5eddd3be",
   "metadata": {},
   "outputs": [
    {
     "data": {
      "text/plain": [
       "0.5480769230769231"
      ]
     },
     "execution_count": 601,
     "metadata": {},
     "output_type": "execute_result"
    }
   ],
   "source": [
    "balanced_accuracy_score(y_test, y_pred)"
   ]
  },
  {
   "cell_type": "code",
   "execution_count": 595,
   "id": "696fff37-41e5-4691-a27b-a4dbab4b221d",
   "metadata": {},
   "outputs": [
    {
     "name": "stdout",
     "output_type": "stream",
     "text": [
      "12\n"
     ]
    }
   ],
   "source": [
    "print(len(y_test))"
   ]
  },
  {
   "cell_type": "code",
   "execution_count": 596,
   "id": "af39b090-60fb-41cf-be44-7e05b71f2f45",
   "metadata": {
    "tags": []
   },
   "outputs": [
    {
     "name": "stdout",
     "output_type": "stream",
     "text": [
      "f s\n",
      "s s\n",
      "s s\n",
      "s s\n",
      "s s\n",
      "f s\n",
      "s s\n",
      "s s\n",
      "s s\n",
      "f s\n",
      "f f\n",
      "s s\n"
     ]
    }
   ],
   "source": [
    "for i in range(len(y_test)):\n",
    "    print(y_test[i], y_pred[i])"
   ]
  },
  {
   "cell_type": "code",
   "execution_count": 575,
   "id": "16dd097a-ec34-470d-abf9-10859d0e00e2",
   "metadata": {},
   "outputs": [
    {
     "data": {
      "text/plain": [
       "array([0.08320248, 0.07462342, 0.00785463, 0.14446779, 0.13091324,\n",
       "       0.12982575, 0.15612875, 0.12486507, 0.14811887])"
      ]
     },
     "execution_count": 575,
     "metadata": {},
     "output_type": "execute_result"
    }
   ],
   "source": [
    "clf.feature_importances_"
   ]
  },
  {
   "cell_type": "code",
   "execution_count": null,
   "id": "9c1d7b81-96bb-4ddb-9053-97081847675a",
   "metadata": {},
   "outputs": [],
   "source": []
  },
  {
   "cell_type": "code",
   "execution_count": null,
   "id": "f27b4d33-e950-477d-b07d-b124bbdd3b0e",
   "metadata": {},
   "outputs": [],
   "source": []
  },
  {
   "cell_type": "markdown",
   "id": "3fe74ea8-7fdc-4ede-9876-c001e912b057",
   "metadata": {},
   "source": [
    "# EACL BOOK - Telma's Vad-er"
   ]
  },
  {
   "cell_type": "code",
   "execution_count": 3,
   "id": "e3560753-bc00-4d0d-b982-f4fb257a0a41",
   "metadata": {},
   "outputs": [],
   "source": [
    "import json"
   ]
  },
  {
   "cell_type": "code",
   "execution_count": null,
   "id": "26993f71-b823-4a8e-9f48-f9c7d90020e6",
   "metadata": {},
   "outputs": [],
   "source": []
  },
  {
   "cell_type": "code",
   "execution_count": 741,
   "id": "0f91dde5-636c-42f1-a23a-e8d785ede72e",
   "metadata": {},
   "outputs": [],
   "source": [
    "with open('failure_stories.json') as json_file:\n",
    "    failures = json.load(json_file)"
   ]
  },
  {
   "cell_type": "code",
   "execution_count": 742,
   "id": "e3953284-4bb8-443f-acd4-0c6fc0dd5428",
   "metadata": {},
   "outputs": [],
   "source": [
    "with open('success_stories.json') as json_file:\n",
    "    success = json.load(json_file)"
   ]
  },
  {
   "cell_type": "code",
   "execution_count": 743,
   "id": "47594b7c-651f-4042-8adb-cc2cc3f9acb7",
   "metadata": {},
   "outputs": [],
   "source": [
    "h_failure, a_failure, h_success, a_success = [],[],[],[]\n",
    "for failure in failures.keys():\n",
    "    dico = failures[failure]\n",
    "    h = dico['Hurst_vad']\n",
    "    arc = dico['arc_vad']\n",
    "    h_failure.append(h)\n",
    "    a_failure.append(arc)\n",
    "    \n",
    "for succ in success.keys():\n",
    "    dico = success[succ]\n",
    "    h = dico['Hurst_vad']\n",
    "    arc = dico['arc_vad']\n",
    "    h_success.append(h)\n",
    "    a_success.append(arc)"
   ]
  },
  {
   "cell_type": "code",
   "execution_count": 744,
   "id": "a13100a8-496a-47e1-a8f5-b836aebe8696",
   "metadata": {},
   "outputs": [
    {
     "data": {
      "text/plain": [
       "(30, 0.6513333333333334)"
      ]
     },
     "execution_count": 744,
     "metadata": {},
     "output_type": "execute_result"
    }
   ],
   "source": [
    "len(a_failure), np.mean(h_failure)"
   ]
  },
  {
   "cell_type": "code",
   "execution_count": 745,
   "id": "d0aa92a0-293e-423d-8542-4f78c328006e",
   "metadata": {},
   "outputs": [],
   "source": [
    "#with open('eacl_fiction_success_h.json', 'w') as fp:\n",
    "#    json.dump(h_success, fp)"
   ]
  },
  {
   "cell_type": "code",
   "execution_count": null,
   "id": "682bb98b-529d-4791-8057-a75d2e8a77a4",
   "metadata": {},
   "outputs": [],
   "source": []
  },
  {
   "cell_type": "code",
   "execution_count": 746,
   "id": "5fa149a1-9830-4dfc-a478-027b7718662a",
   "metadata": {},
   "outputs": [
    {
     "data": {
      "text/plain": [
       "(0.6522222222222221, 0.6513333333333334)"
      ]
     },
     "execution_count": 746,
     "metadata": {},
     "output_type": "execute_result"
    }
   ],
   "source": [
    "len(h_success), len(h_failure)\n",
    "hs, hf = np.mean(h_success), np.mean(h_failure)\n",
    "hs, hf"
   ]
  },
  {
   "cell_type": "code",
   "execution_count": null,
   "id": "9a9b997c-fdcc-4b4f-b285-0d64b51f56cf",
   "metadata": {},
   "outputs": [],
   "source": []
  },
  {
   "cell_type": "code",
   "execution_count": 747,
   "id": "089c2ba1-3aed-48d0-a840-1004d42d035c",
   "metadata": {},
   "outputs": [],
   "source": [
    "labels = []\n",
    "X = []\n",
    "\n",
    "n=140\n",
    "swsp = .6\n",
    "\n",
    "for i in range(len(h_success)):\n",
    "    labels.append('s')\n",
    "    l=len(a_success[i])\n",
    "    n=int(l/5)\n",
    "    #X.append((h_success[i], abs(h_success[i]-0.6)))\n",
    "    X.append((h_success[i], abs(h_success[i]-swsp), len([e for e in a_success[i] if e>.96]),\n",
    "              l*h_success[i], #a_success[i][-1],\n",
    "              np.mean(a_success[i]), np.std(a_success[i]),\n",
    "              l, np.mean(a_success[i][-n:]), np.mean(a_success[i][:n])))\n",
    "\n",
    "for i in range(len(h_failure)):\n",
    "    labels.append('f')\n",
    "    l=len(a_failure[i])\n",
    "    n=int(l/5)\n",
    "    #X.append((h_failure[i], abs(h_failure[i]-0.6)))\n",
    "    X.append((h_failure[i], abs(h_failure[i]-swsp), len([e for e in a_failure[i] if e>.96]),\n",
    "              l*h_failure[i], #a_failure[i][-1],\n",
    "              np.mean(a_failure[i]), np.std(a_failure[i]),\n",
    "              l,np.mean(a_failure[i][-n:]), np.mean(a_failure[i][:n])))\n"
   ]
  },
  {
   "cell_type": "code",
   "execution_count": 748,
   "id": "d2cf79b5-60aa-4544-9b2e-09a13289ed9a",
   "metadata": {},
   "outputs": [
    {
     "data": {
      "text/plain": [
       "(30, 81, 111)"
      ]
     },
     "execution_count": 748,
     "metadata": {},
     "output_type": "execute_result"
    }
   ],
   "source": [
    "labels.count('f'), labels.count('s'), len(X)"
   ]
  },
  {
   "cell_type": "code",
   "execution_count": 749,
   "id": "32c1ca8e-355d-4207-a4a7-d759d128b82c",
   "metadata": {},
   "outputs": [],
   "source": [
    "from sklearn import svm, linear_model, cluster\n",
    "from sklearn.neighbors import KNeighborsClassifier\n",
    "from sklearn.tree import DecisionTreeClassifier\n",
    "from sklearn.ensemble import RandomForestClassifier, AdaBoostClassifier\n",
    "from sklearn.naive_bayes import GaussianNB, MultinomialNB\n",
    "from sklearn.neural_network import MLPClassifier,BernoulliRBM\n",
    "from sklearn.gaussian_process import GaussianProcessClassifier"
   ]
  },
  {
   "cell_type": "code",
   "execution_count": 750,
   "id": "02197c15-5aa2-4f61-8b7c-fff5c3254934",
   "metadata": {},
   "outputs": [],
   "source": [
    "from sklearn.discriminant_analysis import QuadraticDiscriminantAnalysis, LinearDiscriminantAnalysis"
   ]
  },
  {
   "cell_type": "code",
   "execution_count": 751,
   "id": "a717da07-cf98-4325-aefb-45582b39e138",
   "metadata": {},
   "outputs": [],
   "source": [
    "from sklearn import naive_bayes"
   ]
  },
  {
   "cell_type": "code",
   "execution_count": 797,
   "id": "cf4d32a5-c6f2-48cc-9f72-642634bf9633",
   "metadata": {
    "tags": []
   },
   "outputs": [],
   "source": [
    "my_clf =  GaussianNB #ensemble.VotingClassifier#  \n",
    "####svm.SVC <<<< very sensitive to over-features??\n",
    "\n",
    "#QuadraticDiscriminantAnalysis\n",
    "\n",
    "#clf = my_clf(estimators = [('q',QuadraticDiscriminantAnalysis()), ('gaussian',GaussianNB()),\n",
    "#                        ('linear2', LinearDiscriminantAnalysis()),\n",
    "#                           ('forest',RandomForestClassifier())])\n",
    "clf = my_clf()\n",
    "#svm.NuSVC()\n",
    "\n",
    "#linear_model.LogisticRegression()\n",
    "#GaussianNB()  #svm.SVC()#RandomForestClassifier()  #QuadraticDiscriminantAnalysis <<< good"
   ]
  },
  {
   "cell_type": "code",
   "execution_count": null,
   "id": "b9d049eb-a613-4bad-87b2-8d9dbb4d41b8",
   "metadata": {},
   "outputs": [],
   "source": []
  },
  {
   "cell_type": "code",
   "execution_count": 798,
   "id": "9fa6874a-3a63-40d5-be95-450c0df4ac20",
   "metadata": {
    "tags": []
   },
   "outputs": [
    {
     "data": {
      "text/plain": [
       "0.7086027411323854"
      ]
     },
     "execution_count": 798,
     "metadata": {},
     "output_type": "execute_result"
    }
   ],
   "source": [
    "from sklearn.model_selection import cross_val_score, KFold, ShuffleSplit, RepeatedKFold\n",
    "scores = []\n",
    "for i in range(4):\n",
    "    ss = cross_val_score(clf, X, labels, cv=5,scoring='f1_weighted')\n",
    "    scores+=list(ss)\n",
    "np.mean(scores)"
   ]
  },
  {
   "cell_type": "code",
   "execution_count": 799,
   "id": "28a81253-94f7-4287-887a-eaf673e1ecb9",
   "metadata": {},
   "outputs": [
    {
     "name": "stdout",
     "output_type": "stream",
     "text": [
      "[0.6914080679293662, 0.7156132249011508, 0.7122835842927487, 0.7086027411323854, 0.7034805422097886, 0.6997056514913657, 0.6925627176934794, 0.7019543579915096]\n"
     ]
    }
   ],
   "source": [
    "from sklearn.model_selection import cross_val_score, KFold, ShuffleSplit, RepeatedKFold\n",
    "scores = []\n",
    "for i in range(2,10):\n",
    "    ss = cross_val_score(clf, X, labels, cv=i,scoring='f1_weighted')\n",
    "    scores.append(np.mean(ss))\n",
    "print(scores)"
   ]
  },
  {
   "cell_type": "code",
   "execution_count": 800,
   "id": "6b4cd57a-0b8b-4993-8695-b7cf6231eb41",
   "metadata": {},
   "outputs": [
    {
     "data": {
      "text/plain": [
       "[<matplotlib.lines.Line2D at 0x7fc982759310>]"
      ]
     },
     "execution_count": 800,
     "metadata": {},
     "output_type": "execute_result"
    },
    {
     "data": {
      "image/png": "[encoded data removed]",
      "text/plain": [
       "<Figure size 432x288 with 1 Axes>"
      ]
     },
     "metadata": {
      "needs_background": "light"
     },
     "output_type": "display_data"
    }
   ],
   "source": [
    "plt.plot([i for i in range(2,10)],scores,'r+', linestyle='dashed')"
   ]
  },
  {
   "cell_type": "code",
   "execution_count": 801,
   "id": "b06d2058-5218-400e-a393-37eec7301c7f",
   "metadata": {
    "tags": []
   },
   "outputs": [
    {
     "data": {
      "text/plain": [
       "0.7156132249011508"
      ]
     },
     "execution_count": 801,
     "metadata": {},
     "output_type": "execute_result"
    }
   ],
   "source": [
    "cv_ = RepeatedKFold(n_splits=20, n_repeats=3, random_state=3)\n",
    "np.mean(cross_val_score(clf, X, labels, cv=3, scoring='f1_weighted', n_jobs=-1))"
   ]
  },
  {
   "cell_type": "code",
   "execution_count": 802,
   "id": "02c76a17-19e0-42eb-ba88-265cc26f585d",
   "metadata": {},
   "outputs": [],
   "source": [
    "from sklearn.model_selection import train_test_split\n",
    "from sklearn.metrics import f1_score, balanced_accuracy_score"
   ]
  },
  {
   "cell_type": "code",
   "execution_count": 813,
   "id": "0d16a067-22a9-4b2f-b284-62db0f75c661",
   "metadata": {},
   "outputs": [
    {
     "name": "stdout",
     "output_type": "stream",
     "text": [
      "0.05\n",
      "0.9090909090909091\n",
      "0.1\n",
      "0.8571428571428571\n",
      "0.15\n",
      "0.7302231237322516\n",
      "0.2\n",
      "0.6251468860164512\n",
      "0.25\n",
      "0.6896103896103897\n",
      "0.3\n",
      "0.7058823529411765\n",
      "0.35\n",
      "0.6923076923076923\n"
     ]
    }
   ],
   "source": [
    "more_scores4 = []\n",
    "\n",
    "for i in range(5,40,5): \n",
    "    print(i/100)\n",
    "\n",
    "    X_train , X_test , y_train, y_test = train_test_split(X, labels, random_state=9, test_size=i/100)\n",
    "\n",
    "\n",
    "    #print(len(X_train), len(X_test), len(X))\n",
    "    #clf = my_clf(estimators = [('q',QuadraticDiscriminantAnalysis()), ('gaussian',GaussianNB()), ('linear',LinearDiscriminantAnalysis()), ('forest',RandomForestClassifier())])\n",
    "\n",
    "    clf = my_clf()\n",
    "\n",
    "    clf.fit(X_train, y_train)\n",
    "    y_pred = clf.predict(X_test)\n",
    "    print(f1_score(y_test,y_pred,average='weighted')) #balanced_accuracy_score(y_pred,y_test)\n",
    "    #print(balanced_accuracy_score(y_test, y_pred, adjusted=False))\n",
    "    \n",
    "    more_scores4.append(f1_score(y_test,y_pred,average='weighted'))"
   ]
  },
  {
   "cell_type": "code",
   "execution_count": 785,
   "id": "2829815c-5255-4d7f-9126-4ddc102853eb",
   "metadata": {},
   "outputs": [],
   "source": [
    "more_scores=[0.8148148148148149,\n",
    " 0.8148148148148149,\n",
    " 0.8141923436041084,\n",
    " 0.755189972581277,\n",
    " 0.7907647907647908,\n",
    " 0.5459236326109391,\n",
    " 0.6000765403750479]"
   ]
  },
  {
   "cell_type": "code",
   "execution_count": 814,
   "id": "c3f58996-db64-44be-9990-89c25aab6afd",
   "metadata": {},
   "outputs": [
    {
     "data": {
      "text/plain": [
       "[0.9090909090909091,\n",
       " 0.8571428571428571,\n",
       " 0.7302231237322516,\n",
       " 0.6251468860164512,\n",
       " 0.6896103896103897,\n",
       " 0.7058823529411765,\n",
       " 0.6923076923076923]"
      ]
     },
     "execution_count": 814,
     "metadata": {},
     "output_type": "execute_result"
    }
   ],
   "source": [
    "more_scores4"
   ]
  },
  {
   "cell_type": "code",
   "execution_count": 815,
   "id": "3ca9744b-948a-40ac-8ee6-0cc799473bf5",
   "metadata": {},
   "outputs": [
    {
     "data": {
      "image/png": "[encoded data removed]",
      "text/plain": [
       "<Figure size 432x288 with 1 Axes>"
      ]
     },
     "metadata": {
      "needs_background": "light"
     },
     "output_type": "display_data"
    }
   ],
   "source": [
    "plt.plot([i/100 for i in range(5,40,5)], more_scores,'rx--')\n",
    "plt.plot([i/100 for i in range(5,40,5)], more_scores3,'bo--')\n",
    "plt.plot([i/100 for i in range(5,40,5)], more_scores4,'xg--')\n",
    "plt.legend(['QuadraticDisc','RandomForest','GaussianNB'])\n",
    "plt.xlabel('Percentage of test set')\n",
    "plt.ylabel('Weighted f score')\n",
    "#plt.savefig('Success classification')"
   ]
  },
  {
   "cell_type": "code",
   "execution_count": 760,
   "id": "37725c55-3b15-45c5-8e27-514ef9ea6182",
   "metadata": {},
   "outputs": [
    {
     "name": "stdout",
     "output_type": "stream",
     "text": [
      "0.888888888888889\n"
     ]
    }
   ],
   "source": [
    "print(f1_score(y_pred,y_test,pos_label='s',average='binary'))"
   ]
  },
  {
   "cell_type": "code",
   "execution_count": null,
   "id": "e8d3b52d-1457-4d78-b5da-a3f66e9bc471",
   "metadata": {},
   "outputs": [],
   "source": []
  },
  {
   "cell_type": "code",
   "execution_count": 483,
   "id": "43cfbd6d-5145-4206-93a1-ce42439af27b",
   "metadata": {
    "tags": []
   },
   "outputs": [
    {
     "name": "stdout",
     "output_type": "stream",
     "text": [
      "s f\n",
      "s s\n",
      "s s\n",
      "s s\n",
      "s s\n",
      "f f\n",
      "s s\n",
      "s s\n",
      "s s\n",
      "s f\n",
      "f f\n",
      "s s\n",
      "s s\n",
      "s s\n",
      "s s\n",
      "s s\n",
      "s s\n"
     ]
    }
   ],
   "source": [
    "for i in range(len(y_pred)):\n",
    "    print(y_pred[i],y_test[i])"
   ]
  },
  {
   "cell_type": "code",
   "execution_count": 385,
   "id": "f872ba8c-e24c-47db-a9ad-913dd7328bf5",
   "metadata": {},
   "outputs": [],
   "source": [
    "### check out the balanced datasets as well!! test size=.1"
   ]
  },
  {
   "cell_type": "code",
   "execution_count": 386,
   "id": "08c69fc1-b4a1-4e80-ab42-ae938f363f18",
   "metadata": {},
   "outputs": [
    {
     "ename": "AttributeError",
     "evalue": "'GaussianNB' object has no attribute 'feature_importances_'",
     "output_type": "error",
     "traceback": [
      "\u001b[0;31m---------------------------------------------------------------------------\u001b[0m",
      "\u001b[0;31mAttributeError\u001b[0m                            Traceback (most recent call last)",
      "\u001b[0;32m/var/folders/tq/cn4jbv_11413jnwjpr13y82cxp6nzv/T/ipykernel_32546/4008842831.py\u001b[0m in \u001b[0;36m<module>\u001b[0;34m\u001b[0m\n\u001b[0;32m----> 1\u001b[0;31m \u001b[0mclf\u001b[0m\u001b[0;34m.\u001b[0m\u001b[0mfeature_importances_\u001b[0m\u001b[0;34m\u001b[0m\u001b[0;34m\u001b[0m\u001b[0m\n\u001b[0m",
      "\u001b[0;31mAttributeError\u001b[0m: 'GaussianNB' object has no attribute 'feature_importances_'"
     ]
    }
   ],
   "source": [
    "clf.feature_importances_"
   ]
  },
  {
   "cell_type": "code",
   "execution_count": 387,
   "id": "80433dc0-404a-45cc-b9d9-05c79a12d35d",
   "metadata": {},
   "outputs": [
    {
     "data": {
      "text/plain": [
       "array([24., 64.])"
      ]
     },
     "execution_count": 387,
     "metadata": {},
     "output_type": "execute_result"
    }
   ],
   "source": [
    "clf.class_count_"
   ]
  },
  {
   "cell_type": "code",
   "execution_count": null,
   "id": "566023aa-8a4c-4ecc-a519-8f654dcf477a",
   "metadata": {},
   "outputs": [],
   "source": []
  }
 ],
 "metadata": {
  "kernelspec": {
   "display_name": "Python 3 (ipykernel)",
   "language": "python",
   "name": "python3"
  },
  "language_info": {
   "codemirror_mode": {
    "name": "ipython",
    "version": 3
   },
   "file_extension": ".py",
   "mimetype": "text/x-python",
   "name": "python",
   "nbconvert_exporter": "python",
   "pygments_lexer": "ipython3",
   "version": "3.9.7"
  }
 },
 "nbformat": 4,
 "nbformat_minor": 5
}
